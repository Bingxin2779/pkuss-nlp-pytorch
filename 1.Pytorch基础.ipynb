{
 "cells": [
  {
   "cell_type": "markdown",
   "metadata": {},
   "source": [
    "# Pytorch基础"
   ]
  },
  {
   "cell_type": "markdown",
   "metadata": {},
   "source": [
    "基础操作——Tensor  \n",
    "Tensors 类似于 NumPy 的 ndarrays ，同时 Tensors 可以使用 GPU 进行计算。"
   ]
  },
  {
   "cell_type": "code",
   "execution_count": 1,
   "metadata": {
    "pycharm": {
     "is_executing": false
    }
   },
   "outputs": [
    {
     "name": "stdout",
     "output_type": "stream",
     "text": [
      "tensor([[9.9184e-39, 9.0000e-39, 1.0561e-38],\n",
      "        [1.0653e-38, 4.1327e-39, 8.9082e-39],\n",
      "        [9.8265e-39, 9.4592e-39, 1.0561e-38],\n",
      "        [1.0653e-38, 1.0469e-38, 9.5510e-39]])\n",
      "tensor([[0., 0., 0.],\n",
      "        [0., 0., 0.],\n",
      "        [0., 0., 0.],\n",
      "        [0., 0., 0.]])\n",
      "tensor([[0.3758, 0.5150, 0.9221],\n",
      "        [0.3989, 0.0524, 0.7381],\n",
      "        [0.8572, 0.5311, 0.3176],\n",
      "        [0.7115, 0.1022, 0.0726]])\n",
      "tensor([[0.3758, 0.5150, 0.9221],\n",
      "        [0.3989, 0.0524, 0.7381],\n",
      "        [0.8572, 0.5311, 0.3176],\n",
      "        [0.7115, 0.1022, 0.0726]])\n"
     ]
    }
   ],
   "source": [
    "import torch\n",
    "\n",
    "# 建立空tensor\n",
    "empty_tensor = torch.empty(4, 3)\n",
    "print(empty_tensor)\n",
    "# 建立全0的tensor\n",
    "zeros_tensor = torch.zeros(4, 3)\n",
    "print(zeros_tensor)\n",
    "# 建立一个随机初始值的tensor（0~1均匀分布）\n",
    "rand_tensor = torch.rand(4, 3)\n",
    "print(rand_tensor)\n",
    "# 建立一个随机初始值的tensor（标准正态分布）\n",
    "randn_tensor = torch.randn(4, 3)\n",
    "print(rand_tensor)"
   ]
  },
  {
   "cell_type": "markdown",
   "metadata": {},
   "source": [
    "以下这些，用的比较少，用得到时再查也没问题"
   ]
  },
  {
   "cell_type": "code",
   "execution_count": 2,
   "metadata": {
    "pycharm": {
     "is_executing": false
    }
   },
   "outputs": [
    {
     "name": "stdout",
     "output_type": "stream",
     "text": [
      "tensor([1, 2, 3])\n",
      "tensor([[1, 0, 0],\n",
      "        [0, 2, 0],\n",
      "        [0, 0, 3]])\n",
      "tensor([[1, 2, 3],\n",
      "        [4, 5, 6]])\n",
      "tensor([1, 5])\n"
     ]
    }
   ],
   "source": [
    "# 全1的tensor\n",
    "all_one_tensor = torch.ones(4, 3)\n",
    "# 对角线全1的矩阵（单位矩阵）4*4\n",
    "identity_tensor = torch.eye(4)\n",
    "\n",
    "# torch.diag有两种作用——\n",
    "# 输入一个一维的Tensor，生成一个对角线是指定的值，别的全0的矩阵\n",
    "a = torch.tensor([1, 2, 3])\n",
    "print(a)\n",
    "x = torch.diag(a)\n",
    "print(x)\n",
    "# 输入一个二维的Tensor，提取出对角线上的值\n",
    "a = torch.tensor([[1, 2, 3],[4, 5, 6]])\n",
    "print(a)\n",
    "x = torch.diag(a)\n",
    "print(x)\n",
    "\n",
    "# 和tensor x 类型一样，维度一样，但是全0\n",
    "x = torch.zeros_like(x)\n",
    "# 和tensor x 类型一样，维度一样，但是全1\n",
    "x = torch.ones_like(x)"
   ]
  },
  {
   "cell_type": "code",
   "execution_count": 3,
   "metadata": {
    "pycharm": {
     "is_executing": false
    }
   },
   "outputs": [
    {
     "name": "stdout",
     "output_type": "stream",
     "text": [
      "torch.float32\n",
      "torch.int64\n"
     ]
    }
   ],
   "source": [
    "# 建立tensor的同时指定数据类型\n",
    "x = torch.zeros(5, 3)\n",
    "print(x.dtype)\n",
    "x = torch.zeros(5, 3, dtype=torch.long)\n",
    "print(x.dtype)"
   ]
  },
  {
   "cell_type": "markdown",
   "metadata": {},
   "source": [
    "Tensor同样可以从list或者numpy的array中初始化"
   ]
  },
  {
   "cell_type": "code",
   "execution_count": 4,
   "metadata": {
    "pycharm": {
     "is_executing": false
    }
   },
   "outputs": [
    {
     "name": "stdout",
     "output_type": "stream",
     "text": [
      "tensor([[1, 2, 3],\n",
      "        [4, 5, 6]])\n"
     ]
    }
   ],
   "source": [
    "# 从list初始化，list必须维度一致（长得像个矩阵）\n",
    "a = [[1, 2, 3], [4, 5, 6]]\n",
    "x = torch.tensor(a)\n",
    "print(x)"
   ]
  },
  {
   "cell_type": "code",
   "execution_count": 5,
   "metadata": {
    "pycharm": {
     "is_executing": false
    }
   },
   "outputs": [
    {
     "name": "stdout",
     "output_type": "stream",
     "text": [
      "tensor([[ 0,  1,  2,  3],\n",
      "        [ 4,  5,  6,  7],\n",
      "        [ 8,  9, 10, 11]], dtype=torch.int32)\n"
     ]
    }
   ],
   "source": [
    "# 从numpy的array初始化\n",
    "import numpy as np\n",
    "arr = np.arange(12).reshape(3, 4)\n",
    "# x = torch.tensor(arr)\n",
    "x = torch.from_numpy(arr)\n",
    "print(x)"
   ]
  },
  {
   "cell_type": "markdown",
   "metadata": {},
   "source": [
    "Tensor间的基本加减乘除，和numpy里的array类似："
   ]
  },
  {
   "cell_type": "code",
   "execution_count": 6,
   "metadata": {
    "pycharm": {
     "is_executing": false
    }
   },
   "outputs": [
    {
     "name": "stdout",
     "output_type": "stream",
     "text": [
      "tensor([[1.3758, 1.5150, 1.9221],\n",
      "        [1.3989, 1.0524, 1.7381],\n",
      "        [1.8572, 1.5311, 1.3176],\n",
      "        [1.7115, 1.1022, 1.0726]])\n",
      "tensor([[0.6242, 0.4850, 0.0779],\n",
      "        [0.6011, 0.9476, 0.2619],\n",
      "        [0.1428, 0.4689, 0.6824],\n",
      "        [0.2885, 0.8978, 0.9274]])\n"
     ]
    }
   ],
   "source": [
    "# 矩阵加减，两个Tensor必须维度相同，按每一个位置上加减\n",
    "# 这里两个都是4*3的矩阵\n",
    "tmp = all_one_tensor + rand_tensor\n",
    "print(tmp)\n",
    "tmp = all_one_tensor - rand_tensor\n",
    "print(tmp)"
   ]
  },
  {
   "cell_type": "code",
   "execution_count": 7,
   "metadata": {
    "pycharm": {
     "is_executing": false
    }
   },
   "outputs": [
    {
     "name": "stdout",
     "output_type": "stream",
     "text": [
      "tensor([[100., 100., 100.],\n",
      "        [100., 100., 100.],\n",
      "        [100., 100., 100.],\n",
      "        [100., 100., 100.]])\n",
      "tensor([[0.1000, 0.1000, 0.1000],\n",
      "        [0.1000, 0.1000, 0.1000],\n",
      "        [0.1000, 0.1000, 0.1000],\n",
      "        [0.1000, 0.1000, 0.1000]])\n"
     ]
    }
   ],
   "source": [
    "# 矩阵数乘、除，按每一个位置上乘、除\n",
    "tmp = 100 * all_one_tensor\n",
    "print(tmp)\n",
    "tmp = all_one_tensor / 10\n",
    "print(tmp)"
   ]
  },
  {
   "cell_type": "code",
   "execution_count": 8,
   "metadata": {
    "pycharm": {
     "is_executing": false
    }
   },
   "outputs": [
    {
     "name": "stdout",
     "output_type": "stream",
     "text": [
      "tensor(12.)\n",
      "tensor([[1., 1., 1.],\n",
      "        [1., 1., 1.],\n",
      "        [1., 1., 1.],\n",
      "        [1., 1., 1.]])\n",
      "tensor([4., 4., 4.])\n",
      "tensor([3., 3., 3., 3.])\n"
     ]
    }
   ],
   "source": [
    "# 求和\n",
    "s = torch.sum(all_one_tensor)\n",
    "print(s)\n",
    "print(all_one_tensor)\n",
    "# 按某一个维度求和\n",
    "s = torch.sum(all_one_tensor, axis=0)\n",
    "print(s)\n",
    "s = torch.sum(all_one_tensor, axis=1)\n",
    "print(s)"
   ]
  },
  {
   "cell_type": "code",
   "execution_count": 9,
   "metadata": {
    "pycharm": {
     "is_executing": false
    }
   },
   "outputs": [
    {
     "name": "stdout",
     "output_type": "stream",
     "text": [
      "tensor([[0.3758, 0.5150, 0.9221],\n",
      "        [0.3989, 0.0524, 0.7381],\n",
      "        [0.8572, 0.5311, 0.3176],\n",
      "        [0.7115, 0.1022, 0.0726]])\n",
      "tensor([[-0.7307, -2.9630, -0.9224],\n",
      "        [ 0.5896, -1.1238,  0.2872],\n",
      "        [-0.5064,  0.8420, -0.0930],\n",
      "        [ 1.0981, -1.9525, -1.6456]])\n",
      "tensor([[-0.2746, -1.5260, -0.8505],\n",
      "        [ 0.2352, -0.0589,  0.2120],\n",
      "        [-0.4341,  0.4472, -0.0296],\n",
      "        [ 0.7813, -0.1995, -0.1195]])\n"
     ]
    }
   ],
   "source": [
    "# 乘法，默认的乘号的乘法是一个一个对应位置乘的，两个Tensor维度要一致\n",
    "print(rand_tensor)\n",
    "print(randn_tensor)\n",
    "tmp = rand_tensor * randn_tensor\n",
    "# tmp = torch.mul(rand_tensor, all_one_tensor)\n",
    "print(tmp)"
   ]
  },
  {
   "cell_type": "code",
   "execution_count": 10,
   "metadata": {
    "pycharm": {
     "is_executing": false
    }
   },
   "outputs": [
    {
     "name": "stdout",
     "output_type": "stream",
     "text": [
      "tensor([[1., 0., 0., 0.],\n",
      "        [0., 1., 0., 0.],\n",
      "        [0., 0., 1., 0.],\n",
      "        [0., 0., 0., 1.]])\n",
      "tensor([[1., 1., 1.],\n",
      "        [1., 1., 1.],\n",
      "        [1., 1., 1.],\n",
      "        [1., 1., 1.]])\n",
      "tensor([[1., 1., 1.],\n",
      "        [1., 1., 1.],\n",
      "        [1., 1., 1.],\n",
      "        [1., 1., 1.]])\n"
     ]
    }
   ],
   "source": [
    "# 点乘，如果是两个一维的可以使用dot，两个高维的可以使用matmul\n",
    "# identity_tensor是4*4，all_one_tensor是4*3，总之和高中数学的矩阵点乘一致\n",
    "print(identity_tensor)\n",
    "print(all_one_tensor)\n",
    "tmp = torch.matmul(identity_tensor, all_one_tensor)\n",
    "print(tmp)\n",
    "# tmp = torch.matmul(all_one_tensor, identity_tensor) 会报错"
   ]
  },
  {
   "cell_type": "markdown",
   "metadata": {},
   "source": [
    "以下是一些用不太到的乘法："
   ]
  },
  {
   "cell_type": "code",
   "execution_count": 11,
   "metadata": {
    "pycharm": {
     "is_executing": false
    }
   },
   "outputs": [
    {
     "name": "stdout",
     "output_type": "stream",
     "text": [
      "tensor([ 3, -3,  3])\n"
     ]
    }
   ],
   "source": [
    "# 叉乘，一般用在图形学比较多，ML相关用得不多\n",
    "a = torch.tensor([1, 0 , -1])\n",
    "b = torch.tensor([2, 3, 1])\n",
    "tmp = torch.cross(a, b)\n",
    "print(tmp)"
   ]
  },
  {
   "cell_type": "code",
   "execution_count": 12,
   "metadata": {
    "pycharm": {
     "is_executing": false
    }
   },
   "outputs": [
    {
     "name": "stdout",
     "output_type": "stream",
     "text": [
      "tensor(-2., dtype=torch.float64)\n"
     ]
    }
   ],
   "source": [
    "# 行列式，同样用的很少，注意必须得是float\n",
    "a = torch.tensor([[1, 2], [3, 4]], dtype=float)\n",
    "d = torch.det(a)\n",
    "print(d)"
   ]
  },
  {
   "cell_type": "code",
   "execution_count": 13,
   "metadata": {
    "pycharm": {
     "is_executing": false
    }
   },
   "outputs": [
    {
     "name": "stdout",
     "output_type": "stream",
     "text": [
      "tensor([[1., 2.],\n",
      "        [3., 4.]], dtype=torch.float64)\n",
      "tensor([[-2.0000,  1.0000],\n",
      "        [ 1.5000, -0.5000]], dtype=torch.float64)\n",
      "tensor([[-2.0000,  1.0000],\n",
      "        [ 1.5000, -0.5000]], dtype=torch.float64)\n"
     ]
    }
   ],
   "source": [
    "# 矩阵求逆，必须是满秩\n",
    "print(a)\n",
    "inv_a = torch.inverse(a)\n",
    "print(inv_a)\n",
    "pinv_a = torch.pinverse(a)\n",
    "print(pinv_a)"
   ]
  },
  {
   "cell_type": "code",
   "execution_count": 14,
   "metadata": {},
   "outputs": [
    {
     "name": "stdout",
     "output_type": "stream",
     "text": [
      "tensor([-100.0000, -200.0000], dtype=torch.float64)\n"
     ]
    }
   ],
   "source": [
    "# 比如刚才说到的\n",
    "# [[400, -201],\n",
    "# [-800, 401]] * [x1, x2] = [200, -200]\n",
    "a = [[400, -201], [-800, 401]]\n",
    "b = [200, -200]\n",
    "a = torch.tensor(a, dtype=float)\n",
    "b = torch.tensor(b, dtype=float)\n",
    "a_i = torch.inverse(a)\n",
    "x = torch.matmul(a_i, b)\n",
    "print(x)"
   ]
  },
  {
   "cell_type": "markdown",
   "metadata": {},
   "source": [
    "一些对矩阵的操作——"
   ]
  },
  {
   "cell_type": "code",
   "execution_count": 15,
   "metadata": {
    "pycharm": {
     "is_executing": false
    }
   },
   "outputs": [
    {
     "name": "stdout",
     "output_type": "stream",
     "text": [
      "tensor([[1., 1., 1.],\n",
      "        [1., 1., 1.],\n",
      "        [1., 1., 1.],\n",
      "        [1., 1., 1.]])\n",
      "tensor([[1., 1., 1., 1.],\n",
      "        [1., 1., 1., 1.],\n",
      "        [1., 1., 1., 1.]])\n"
     ]
    }
   ],
   "source": [
    "# 矩阵转置，转置会导致Tensor内存中不连续！\n",
    "print(all_one_tensor)\n",
    "tmp = all_one_tensor.T\n",
    "print(tmp)"
   ]
  },
  {
   "cell_type": "code",
   "execution_count": 16,
   "metadata": {
    "pycharm": {
     "is_executing": false
    }
   },
   "outputs": [
    {
     "name": "stdout",
     "output_type": "stream",
     "text": [
      "tensor([[0.3758, 0.5150, 0.9221],\n",
      "        [0.3989, 0.0524, 0.7381],\n",
      "        [0.8572, 0.5311, 0.3176],\n",
      "        [0.7115, 0.1022, 0.0726]])\n",
      "tensor([[0.5150, 0.9221],\n",
      "        [0.0524, 0.7381],\n",
      "        [0.5311, 0.3176],\n",
      "        [0.1022, 0.0726]])\n"
     ]
    }
   ],
   "source": [
    "# 切片，注意这是共享内存的，不会单独给你复制一份！\n",
    "print(rand_tensor)\n",
    "tmp = rand_tensor[:,1:]\n",
    "print(tmp)"
   ]
  },
  {
   "cell_type": "code",
   "execution_count": 17,
   "metadata": {
    "pycharm": {
     "is_executing": false
    }
   },
   "outputs": [
    {
     "name": "stdout",
     "output_type": "stream",
     "text": [
      "tensor([[1.0000, 1.0000, 1.0000],\n",
      "        [1.0000, 1.0000, 1.0000],\n",
      "        [1.0000, 1.0000, 1.0000],\n",
      "        [1.0000, 1.0000, 1.0000],\n",
      "        [0.0000, 0.0000, 0.0000],\n",
      "        [0.0000, 0.0000, 0.0000],\n",
      "        [0.0000, 0.0000, 0.0000],\n",
      "        [0.0000, 0.0000, 0.0000],\n",
      "        [0.3758, 0.5150, 0.9221],\n",
      "        [0.3989, 0.0524, 0.7381],\n",
      "        [0.8572, 0.5311, 0.3176],\n",
      "        [0.7115, 0.1022, 0.0726]])\n",
      "tensor([[1.0000, 1.0000, 1.0000, 0.3758, 0.5150, 0.9221],\n",
      "        [1.0000, 1.0000, 1.0000, 0.3989, 0.0524, 0.7381],\n",
      "        [1.0000, 1.0000, 1.0000, 0.8572, 0.5311, 0.3176],\n",
      "        [1.0000, 1.0000, 1.0000, 0.7115, 0.1022, 0.0726]])\n"
     ]
    }
   ],
   "source": [
    "# 拼接\n",
    "tmp = torch.cat((all_one_tensor, zeros_tensor, rand_tensor), axis=0)\n",
    "print(tmp)\n",
    "concat = torch.cat((all_one_tensor, rand_tensor), axis=1)\n",
    "print(concat)"
   ]
  },
  {
   "cell_type": "code",
   "execution_count": 18,
   "metadata": {
    "pycharm": {
     "is_executing": false
    }
   },
   "outputs": [
    {
     "name": "stdout",
     "output_type": "stream",
     "text": [
      "tensor([[1.0000, 1.0000, 1.0000, 0.3758, 0.5150, 0.9221],\n",
      "        [1.0000, 1.0000, 1.0000, 0.3989, 0.0524, 0.7381],\n",
      "        [1.0000, 1.0000, 1.0000, 0.8572, 0.5311, 0.3176],\n",
      "        [1.0000, 1.0000, 1.0000, 0.7115, 0.1022, 0.0726]])\n",
      "tensor(20)\n",
      "tensor([3, 3, 3, 2, 2, 0])\n",
      "tensor([2, 2, 2, 2])\n"
     ]
    }
   ],
   "source": [
    "# 求最大值/最小值的索引\n",
    "print(concat)\n",
    "# 整个矩阵里最大的值在哪？\n",
    "m = concat.argmax()\n",
    "print(m)\n",
    "# 每一列里最大的值在哪？\n",
    "m = concat.argmax(axis=0)\n",
    "print(m)\n",
    "# 每一行里最大的值在哪？\n",
    "m = concat.argmax(axis=1)\n",
    "print(m)"
   ]
  },
  {
   "cell_type": "code",
   "execution_count": 19,
   "metadata": {
    "pycharm": {
     "is_executing": false
    }
   },
   "outputs": [
    {
     "name": "stdout",
     "output_type": "stream",
     "text": [
      "tensor(1.)\n",
      "tensor(0.0524)\n"
     ]
    }
   ],
   "source": [
    "# 求最大值/最小值\n",
    "# 求最大值\n",
    "m = concat.max()\n",
    "print(m)\n",
    "# 求最小值\n",
    "m = concat.min()\n",
    "print(m)"
   ]
  },
  {
   "cell_type": "code",
   "execution_count": 20,
   "metadata": {
    "pycharm": {
     "is_executing": false
    }
   },
   "outputs": [
    {
     "name": "stdout",
     "output_type": "stream",
     "text": [
      "tensor([[1.0000, 1.0000, 1.0000, 0.3758, 0.5150, 0.9221],\n",
      "        [1.0000, 1.0000, 1.0000, 0.3989, 0.0524, 0.7381],\n",
      "        [1.0000, 1.0000, 1.0000, 0.8572, 0.5311, 0.3176],\n",
      "        [1.0000, 1.0000, 1.0000, 0.7115, 0.1022, 0.0726]])\n"
     ]
    }
   ],
   "source": [
    "# 复制，注意python自带的copy无法使用\n",
    "# concat_2 = concat.copy() 会报错\n",
    "concat_2 = concat.clone()\n",
    "print(concat_2)"
   ]
  },
  {
   "cell_type": "code",
   "execution_count": 21,
   "metadata": {
    "pycharm": {
     "is_executing": false
    }
   },
   "outputs": [
    {
     "name": "stdout",
     "output_type": "stream",
     "text": [
      "tensor([[1.0000, 1.0000, 1.0000, 0.3758, 0.5150, 0.9221],\n",
      "        [1.0000, 1.0000, 1.0000, 0.3989, 0.0524, 0.7381],\n",
      "        [1.0000, 1.0000, 1.0000, 0.8572, 0.5311, 0.3176],\n",
      "        [1.0000, 1.0000, 1.0000, 0.7115, 0.1022, 0.0726]])\n",
      "tensor([[1.0000, 1.0000, 1.0000],\n",
      "        [1.0000, 1.0000, 1.0000],\n",
      "        [1.0000, 1.0000, 1.0000],\n",
      "        [1.0000, 1.0000, 1.0000],\n",
      "        [0.0000, 0.0000, 0.0000],\n",
      "        [0.0000, 0.0000, 0.0000],\n",
      "        [0.0000, 0.0000, 0.0000],\n",
      "        [0.0000, 0.0000, 0.0000],\n",
      "        [0.3758, 0.5150, 0.9221],\n",
      "        [0.3989, 0.0524, 0.7381],\n",
      "        [0.8572, 0.5311, 0.3176],\n",
      "        [0.7115, 0.1022, 0.0726]])\n"
     ]
    }
   ],
   "source": [
    "# 改变形状，注意view函数的结果共用内存，我们只是改变了怎么“看”这个tensor，内存存储的方式没有变化\n",
    "# 此外，view函数只能对连续存储的tensor使用，简单来说这个tensor之前不能修改过内存中的连续性，例如转置就会破坏掉这种连续性\n",
    "print(concat)\n",
    "tmp = tmp.view(-1, 3)\n",
    "print(tmp)\n",
    "# tmp = concat.T\n",
    "# tmp = tmp.view(-1, 3)\n",
    "# concat"
   ]
  },
  {
   "cell_type": "code",
   "execution_count": 22,
   "metadata": {
    "pycharm": {
     "is_executing": false
    }
   },
   "outputs": [
    {
     "name": "stdout",
     "output_type": "stream",
     "text": [
      "torch.Size([4, 6])\n",
      "torch.Size([8, 3])\n"
     ]
    }
   ],
   "source": [
    "# 而reshape可以对非连续存储的tensor使用 shift+tab\n",
    "concat_2 = concat_2.T\n",
    "concat_2 = concat_2.reshape(-1, 3)\n",
    "print(concat.shape)\n",
    "print(concat_2.shape)\n",
    "concat_2.reshape??"
   ]
  },
  {
   "cell_type": "code",
   "execution_count": 23,
   "metadata": {
    "pycharm": {
     "is_executing": false
    }
   },
   "outputs": [
    {
     "name": "stdout",
     "output_type": "stream",
     "text": [
      "1.0\n",
      "<class 'float'>\n"
     ]
    }
   ],
   "source": [
    "# 取出一维tensor中的数据，必须是只有一个元素的tensor\n",
    "a = torch.tensor(1.0)\n",
    "print(a.item())\n",
    "print(type(a.item()))"
   ]
  },
  {
   "cell_type": "markdown",
   "metadata": {},
   "source": [
    "不同Device上的Tensor"
   ]
  },
  {
   "cell_type": "code",
   "execution_count": 24,
   "metadata": {
    "pycharm": {
     "is_executing": false
    }
   },
   "outputs": [
    {
     "name": "stdout",
     "output_type": "stream",
     "text": [
      "tensor([[1.0000, 1.0000, 1.0000, 0.3758, 0.5150, 0.9221],\n",
      "        [1.0000, 1.0000, 1.0000, 0.3989, 0.0524, 0.7381],\n",
      "        [1.0000, 1.0000, 1.0000, 0.8572, 0.5311, 0.3176],\n",
      "        [1.0000, 1.0000, 1.0000, 0.7115, 0.1022, 0.0726]])\n",
      "cuda is available.\n",
      "tensor([[1.0000, 1.0000, 1.0000, 0.3758, 0.5150, 0.9221],\n",
      "        [1.0000, 1.0000, 1.0000, 0.3989, 0.0524, 0.7381],\n",
      "        [1.0000, 1.0000, 1.0000, 0.8572, 0.5311, 0.3176],\n",
      "        [1.0000, 1.0000, 1.0000, 0.7115, 0.1022, 0.0726]], device='cuda:0')\n"
     ]
    }
   ],
   "source": [
    "# 把cpu上的tensor导入到gpu上\n",
    "print(concat)\n",
    "if torch.cuda.is_available():\n",
    "    print(\"cuda is available.\")\n",
    "    concat_gpu = concat.to('cuda')\n",
    "    # concat_gpu = concat.cuda()\n",
    "    print(concat_gpu)"
   ]
  },
  {
   "cell_type": "code",
   "execution_count": 25,
   "metadata": {
    "pycharm": {
     "is_executing": false
    }
   },
   "outputs": [
    {
     "name": "stdout",
     "output_type": "stream",
     "text": [
      "tensor([3, 3, 3, 2, 2, 0], device='cuda:0')\n",
      "tensor([3, 3, 3, 2, 2, 0])\n"
     ]
    }
   ],
   "source": [
    "# 把gpu的tensor导入到cpu上\n",
    "argmx_gpu = concat_gpu.argmax(axis=0)\n",
    "# argmx_gpu.numpy()\n",
    "print(argmx_gpu)\n",
    "argmx = argmx_gpu.to('cpu')\n",
    "# argmx = argmx_gpu.cpu()\n",
    "argmx.numpy()\n",
    "print(argmx)"
   ]
  },
  {
   "cell_type": "markdown",
   "metadata": {},
   "source": [
    "Tensor相比array多了啥？"
   ]
  },
  {
   "cell_type": "code",
   "execution_count": 26,
   "metadata": {
    "pycharm": {
     "is_executing": false
    }
   },
   "outputs": [
    {
     "name": "stdout",
     "output_type": "stream",
     "text": [
      "tensor([1., 2., 3., 4.], dtype=torch.float64, requires_grad=True)\n",
      "None\n"
     ]
    }
   ],
   "source": [
    "# 会自动记录这个Tensor由哪些Tensor，通过什么计算而得来！\n",
    "# 只需要加入requires_grad=True\n",
    "a = torch.tensor([1, 2, 3, 4], dtype=float, requires_grad=True)\n",
    "print(a)\n",
    "print(a.grad_fn)"
   ]
  },
  {
   "cell_type": "code",
   "execution_count": 27,
   "metadata": {
    "pycharm": {
     "is_executing": false
    }
   },
   "outputs": [
    {
     "name": "stdout",
     "output_type": "stream",
     "text": [
      "tensor([2., 3., 4., 5.], dtype=torch.float64, grad_fn=<AddBackward0>)\n",
      "<AddBackward0 object at 0x00000224616ECF48>\n"
     ]
    }
   ],
   "source": [
    "b = a + 1\n",
    "print(b)\n",
    "print(b.grad_fn)"
   ]
  },
  {
   "cell_type": "code",
   "execution_count": 28,
   "metadata": {
    "pycharm": {
     "is_executing": false
    }
   },
   "outputs": [
    {
     "name": "stdout",
     "output_type": "stream",
     "text": [
      "tensor([12., 27., 48., 75.], dtype=torch.float64, grad_fn=<MulBackward0>)\n",
      "<MulBackward0 object at 0x00000224616D0088>\n"
     ]
    }
   ],
   "source": [
    "c = b * b * 3\n",
    "print(c)\n",
    "print(c.grad_fn)"
   ]
  },
  {
   "cell_type": "code",
   "execution_count": 29,
   "metadata": {
    "pycharm": {
     "is_executing": false
    }
   },
   "outputs": [
    {
     "name": "stdout",
     "output_type": "stream",
     "text": [
      "tensor(40.5000, dtype=torch.float64, grad_fn=<MeanBackward0>)\n",
      "<MeanBackward0 object at 0x00000224616D44C8>\n"
     ]
    }
   ],
   "source": [
    "d = c.mean()\n",
    "print(d)\n",
    "print(d.grad_fn)"
   ]
  },
  {
   "cell_type": "markdown",
   "metadata": {},
   "source": [
    "那么这样，我们就得到了a->b->c->d的这样一个计算的链条（确切来说是个DAG），我们可以从d开始，一路反推回a的导数！  \n",
    "简单来说，我们通过d里的MeanBackward找到c，再通过c里的MulBackward找到b，一直找到a！  \n",
    "a因为是直接创建的，所以没有继续找下去的必要了，这种节点叫“叶子节点”  \n",
    "那么，我们如何求导数呢？很简单，一句代码。"
   ]
  },
  {
   "cell_type": "code",
   "execution_count": 30,
   "metadata": {
    "pycharm": {
     "is_executing": false
    }
   },
   "outputs": [],
   "source": [
    "d.backward(retain_graph=True)"
   ]
  },
  {
   "cell_type": "markdown",
   "metadata": {},
   "source": [
    "然后我们就能得到dd/da了，这个结果保存在grad属性中~"
   ]
  },
  {
   "cell_type": "code",
   "execution_count": 31,
   "metadata": {
    "pycharm": {
     "is_executing": false
    }
   },
   "outputs": [
    {
     "name": "stdout",
     "output_type": "stream",
     "text": [
      "tensor([3.0000, 4.5000, 6.0000, 7.5000], dtype=torch.float64)\n"
     ]
    }
   ],
   "source": [
    "print(a.grad)"
   ]
  },
  {
   "cell_type": "markdown",
   "metadata": {},
   "source": [
    "d = (a+1)\\*(a+1)\\*3/4，大家可以手动计算一下在a=1,2,3,4时的导数，是否正确~  \n",
    "此外，这个梯度是会累加的！"
   ]
  },
  {
   "cell_type": "code",
   "execution_count": 32,
   "metadata": {
    "pycharm": {
     "is_executing": false
    }
   },
   "outputs": [
    {
     "name": "stdout",
     "output_type": "stream",
     "text": [
      "tensor([ 6.,  9., 12., 15.], dtype=torch.float64)\n"
     ]
    }
   ],
   "source": [
    "d.backward()\n",
    "print(a.grad)"
   ]
  },
  {
   "cell_type": "code",
   "execution_count": 33,
   "metadata": {
    "pycharm": {
     "is_executing": false
    }
   },
   "outputs": [
    {
     "name": "stdout",
     "output_type": "stream",
     "text": [
      "tensor([0., 0., 0., 0.], dtype=torch.float64)\n"
     ]
    }
   ],
   "source": [
    "# 清除梯度，_代表in-place操作\n",
    "print(a.grad.data.zero_())"
   ]
  },
  {
   "cell_type": "markdown",
   "metadata": {},
   "source": [
    "对于初学者而言，建议是就记住，最终必须使用一个标量进行backward！  \n",
    "在大部分的机器学习场景中，这个标量就是我们的Loss函数值。  \n",
    "简单来说pytorch的设计人员觉得你用一个张量对另一个张量求导，不够直观，而且计算费时费力，不如让你最终汇总到一个单一数值上再进行反向求导。"
   ]
  },
  {
   "cell_type": "markdown",
   "metadata": {},
   "source": [
    "有的时候，我们有一些已经调试到很不错的网络参数（例如谷歌已经预训练好的BERT模型），我们不希望去变更它，怎么办呢？"
   ]
  },
  {
   "cell_type": "code",
   "execution_count": 34,
   "metadata": {
    "pycharm": {
     "is_executing": false
    }
   },
   "outputs": [],
   "source": [
    "# 一开始的时候就设置requires_grad=False\n",
    "# a = torch.tensor([1, 2, 3, 4], dtype=float)\n",
    "a = torch.tensor([1, 2, 3, 4], dtype=float, requires_grad=False)\n",
    "# 或者使用with torch.no_grad()\n",
    "with torch.no_grad():\n",
    "    a = torch.tensor([1, 2, 3, 4], dtype=float)"
   ]
  },
  {
   "cell_type": "markdown",
   "metadata": {},
   "source": [
    "好了，说了这么多，接下来让我们动手来设计一个线性回归模型吧！  \n",
    "\n",
    "一个典型的网络训练过程包括以下几点：  \n",
    "1.定义一个包含可训练参数的网络  \n",
    "2.迭代整个输入  \n",
    "3.通过网络处理输入  \n",
    "4.计算损失(loss)  \n",
    "5.反向传播梯度到网络的参数  \n",
    "6.更新网络的参数  \n",
    "\n",
    "假设房价p受面积x1和房龄x2的影响——  \n",
    "p = x1w1+x2w2+b  \n",
    "其中w1,w2是权重，b是偏移值。  \n",
    "\n",
    "我们通常收集一系列的真实数据，例如多栋房屋的真实售出价格和它们对应的面积和房龄。我们希望在这个数据上面寻找模型参数来使模型的预测价格与真实价格的误差最小。在机器学习术语里，该数据集被称为训练数据集（training data set）或训练集（training set），一栋房屋被称为一个样本（sample），其真实售出价格叫作标签（label），用来预测标签的两个因素叫作特征（feature）。我们希望用特征用来表征样本的特点。  \n",
    "\n",
    "在模型训练中，我们需要衡量价格预测值与真实值之间的误差。通常我们会选取一个非负数作为误差，且数值越小表示误差越小。  \n",
    "一个常用的选择是平方函数——  \n",
    "L(x1,x2,b) = 1/2(y_t-y)^2\n",
    "\n",
    "我们的期望就是选择合适的x1，x2，b，使得L函数值最小。"
   ]
  },
  {
   "cell_type": "code",
   "execution_count": 35,
   "metadata": {
    "pycharm": {
     "is_executing": false
    }
   },
   "outputs": [],
   "source": [
    "from matplotlib import pyplot as plt\n",
    "from IPython import display\n",
    "import numpy as np\n",
    "import random"
   ]
  },
  {
   "cell_type": "code",
   "execution_count": 36,
   "metadata": {
    "pycharm": {
     "is_executing": false
    }
   },
   "outputs": [],
   "source": [
    "# 我们来随机生成一堆数据\n",
    "num_inputs = 2\n",
    "num_examples = 1000\n",
    "true_w = [2, -4.2]\n",
    "true_b = 5\n",
    "features = torch.randn(num_examples, num_inputs, dtype=torch.float32)\n",
    "labels = true_w[0] * features[:, 0] + true_w[1] * features[:, 1] + true_b\n",
    "labels += torch.tensor(np.random.normal(0, 0.01, size=labels.size()), dtype=torch.float32)"
   ]
  },
  {
   "cell_type": "code",
   "execution_count": 37,
   "metadata": {
    "pycharm": {
     "is_executing": false
    }
   },
   "outputs": [
    {
     "name": "stdout",
     "output_type": "stream",
     "text": [
      "tensor([ 0.1705, -0.2064]) tensor(6.2108)\n"
     ]
    }
   ],
   "source": [
    "print(features[0], labels[0])"
   ]
  },
  {
   "cell_type": "code",
   "execution_count": 38,
   "metadata": {
    "pycharm": {
     "is_executing": false
    }
   },
   "outputs": [
    {
     "data": {
      "image/svg+xml": [
       "<?xml version=\"1.0\" encoding=\"utf-8\" standalone=\"no\"?>\r\n",
       "<!DOCTYPE svg PUBLIC \"-//W3C//DTD SVG 1.1//EN\"\r\n",
       "  \"http://www.w3.org/Graphics/SVG/1.1/DTD/svg11.dtd\">\r\n",
       "<!-- Created with matplotlib (https://matplotlib.org/) -->\r\n",
       "<svg height=\"166.978125pt\" version=\"1.1\" viewBox=\"0 0 237.804688 166.978125\" width=\"237.804688pt\" xmlns=\"http://www.w3.org/2000/svg\" xmlns:xlink=\"http://www.w3.org/1999/xlink\">\r\n",
       " <defs>\r\n",
       "  <style type=\"text/css\">\r\n",
       "*{stroke-linecap:butt;stroke-linejoin:round;}\r\n",
       "  </style>\r\n",
       " </defs>\r\n",
       " <g id=\"figure_1\">\r\n",
       "  <g id=\"patch_1\">\r\n",
       "   <path d=\"M 0 166.978125 \r\n",
       "L 237.804688 166.978125 \r\n",
       "L 237.804688 0 \r\n",
       "L 0 0 \r\n",
       "z\r\n",
       "\" style=\"fill:none;\"/>\r\n",
       "  </g>\r\n",
       "  <g id=\"axes_1\">\r\n",
       "   <g id=\"patch_2\">\r\n",
       "    <path d=\"M 35.304688 143.1 \r\n",
       "L 230.604688 143.1 \r\n",
       "L 230.604688 7.2 \r\n",
       "L 35.304688 7.2 \r\n",
       "z\r\n",
       "\" style=\"fill:#ffffff;\"/>\r\n",
       "   </g>\r\n",
       "   <g id=\"PathCollection_1\">\r\n",
       "    <defs>\r\n",
       "     <path d=\"M 0 0.5 \r\n",
       "C 0.132602 0.5 0.25979 0.447317 0.353553 0.353553 \r\n",
       "C 0.447317 0.25979 0.5 0.132602 0.5 0 \r\n",
       "C 0.5 -0.132602 0.447317 -0.25979 0.353553 -0.353553 \r\n",
       "C 0.25979 -0.447317 0.132602 -0.5 0 -0.5 \r\n",
       "C -0.132602 -0.5 -0.25979 -0.447317 -0.353553 -0.353553 \r\n",
       "C -0.447317 -0.25979 -0.5 -0.132602 -0.5 0 \r\n",
       "C -0.5 0.132602 -0.447317 0.25979 -0.353553 0.353553 \r\n",
       "C -0.25979 0.447317 -0.132602 0.5 0 0.5 \r\n",
       "z\r\n",
       "\" id=\"me06bdb908f\" style=\"stroke:#1f77b4;\"/>\r\n",
       "    </defs>\r\n",
       "    <g clip-path=\"url(#p70081f8a70)\">\r\n",
       "     <use style=\"fill:#1f77b4;stroke:#1f77b4;\" x=\"121.873107\" xlink:href=\"#me06bdb908f\" y=\"66.266813\"/>\r\n",
       "     <use style=\"fill:#1f77b4;stroke:#1f77b4;\" x=\"133.939469\" xlink:href=\"#me06bdb908f\" y=\"99.279185\"/>\r\n",
       "     <use style=\"fill:#1f77b4;stroke:#1f77b4;\" x=\"145.256902\" xlink:href=\"#me06bdb908f\" y=\"73.943062\"/>\r\n",
       "     <use style=\"fill:#1f77b4;stroke:#1f77b4;\" x=\"117.923732\" xlink:href=\"#me06bdb908f\" y=\"62.619459\"/>\r\n",
       "     <use style=\"fill:#1f77b4;stroke:#1f77b4;\" x=\"167.941993\" xlink:href=\"#me06bdb908f\" y=\"97.195248\"/>\r\n",
       "     <use style=\"fill:#1f77b4;stroke:#1f77b4;\" x=\"135.397583\" xlink:href=\"#me06bdb908f\" y=\"94.331282\"/>\r\n",
       "     <use style=\"fill:#1f77b4;stroke:#1f77b4;\" x=\"164.156525\" xlink:href=\"#me06bdb908f\" y=\"97.317153\"/>\r\n",
       "     <use style=\"fill:#1f77b4;stroke:#1f77b4;\" x=\"119.439735\" xlink:href=\"#me06bdb908f\" y=\"77.08646\"/>\r\n",
       "     <use style=\"fill:#1f77b4;stroke:#1f77b4;\" x=\"143.052468\" xlink:href=\"#me06bdb908f\" y=\"79.313835\"/>\r\n",
       "     <use style=\"fill:#1f77b4;stroke:#1f77b4;\" x=\"137.333982\" xlink:href=\"#me06bdb908f\" y=\"76.153093\"/>\r\n",
       "     <use style=\"fill:#1f77b4;stroke:#1f77b4;\" x=\"140.898071\" xlink:href=\"#me06bdb908f\" y=\"72.123932\"/>\r\n",
       "     <use style=\"fill:#1f77b4;stroke:#1f77b4;\" x=\"125.131119\" xlink:href=\"#me06bdb908f\" y=\"68.109171\"/>\r\n",
       "     <use style=\"fill:#1f77b4;stroke:#1f77b4;\" x=\"126.832993\" xlink:href=\"#me06bdb908f\" y=\"90.344459\"/>\r\n",
       "     <use style=\"fill:#1f77b4;stroke:#1f77b4;\" x=\"152.524298\" xlink:href=\"#me06bdb908f\" y=\"96.771531\"/>\r\n",
       "     <use style=\"fill:#1f77b4;stroke:#1f77b4;\" x=\"107.558042\" xlink:href=\"#me06bdb908f\" y=\"68.159108\"/>\r\n",
       "     <use style=\"fill:#1f77b4;stroke:#1f77b4;\" x=\"145.924334\" xlink:href=\"#me06bdb908f\" y=\"84.523235\"/>\r\n",
       "     <use style=\"fill:#1f77b4;stroke:#1f77b4;\" x=\"113.022844\" xlink:href=\"#me06bdb908f\" y=\"76.088542\"/>\r\n",
       "     <use style=\"fill:#1f77b4;stroke:#1f77b4;\" x=\"150.649913\" xlink:href=\"#me06bdb908f\" y=\"97.096232\"/>\r\n",
       "     <use style=\"fill:#1f77b4;stroke:#1f77b4;\" x=\"191.840235\" xlink:href=\"#me06bdb908f\" y=\"112.552975\"/>\r\n",
       "     <use style=\"fill:#1f77b4;stroke:#1f77b4;\" x=\"158.026693\" xlink:href=\"#me06bdb908f\" y=\"93.530732\"/>\r\n",
       "     <use style=\"fill:#1f77b4;stroke:#1f77b4;\" x=\"128.062828\" xlink:href=\"#me06bdb908f\" y=\"82.363815\"/>\r\n",
       "     <use style=\"fill:#1f77b4;stroke:#1f77b4;\" x=\"137.721296\" xlink:href=\"#me06bdb908f\" y=\"83.315434\"/>\r\n",
       "     <use style=\"fill:#1f77b4;stroke:#1f77b4;\" x=\"139.143961\" xlink:href=\"#me06bdb908f\" y=\"101.066355\"/>\r\n",
       "     <use style=\"fill:#1f77b4;stroke:#1f77b4;\" x=\"120.639099\" xlink:href=\"#me06bdb908f\" y=\"56.471262\"/>\r\n",
       "     <use style=\"fill:#1f77b4;stroke:#1f77b4;\" x=\"145.760854\" xlink:href=\"#me06bdb908f\" y=\"90.578749\"/>\r\n",
       "     <use style=\"fill:#1f77b4;stroke:#1f77b4;\" x=\"136.361613\" xlink:href=\"#me06bdb908f\" y=\"77.394124\"/>\r\n",
       "     <use style=\"fill:#1f77b4;stroke:#1f77b4;\" x=\"99.168214\" xlink:href=\"#me06bdb908f\" y=\"63.461558\"/>\r\n",
       "     <use style=\"fill:#1f77b4;stroke:#1f77b4;\" x=\"109.595671\" xlink:href=\"#me06bdb908f\" y=\"44.581762\"/>\r\n",
       "     <use style=\"fill:#1f77b4;stroke:#1f77b4;\" x=\"124.286965\" xlink:href=\"#me06bdb908f\" y=\"67.735409\"/>\r\n",
       "     <use style=\"fill:#1f77b4;stroke:#1f77b4;\" x=\"122.85511\" xlink:href=\"#me06bdb908f\" y=\"70.809407\"/>\r\n",
       "     <use style=\"fill:#1f77b4;stroke:#1f77b4;\" x=\"133.368159\" xlink:href=\"#me06bdb908f\" y=\"66.525687\"/>\r\n",
       "     <use style=\"fill:#1f77b4;stroke:#1f77b4;\" x=\"125.855285\" xlink:href=\"#me06bdb908f\" y=\"67.894928\"/>\r\n",
       "     <use style=\"fill:#1f77b4;stroke:#1f77b4;\" x=\"89.412506\" xlink:href=\"#me06bdb908f\" y=\"57.536157\"/>\r\n",
       "     <use style=\"fill:#1f77b4;stroke:#1f77b4;\" x=\"111.793567\" xlink:href=\"#me06bdb908f\" y=\"56.945902\"/>\r\n",
       "     <use style=\"fill:#1f77b4;stroke:#1f77b4;\" x=\"166.653968\" xlink:href=\"#me06bdb908f\" y=\"107.282818\"/>\r\n",
       "     <use style=\"fill:#1f77b4;stroke:#1f77b4;\" x=\"130.741728\" xlink:href=\"#me06bdb908f\" y=\"74.953856\"/>\r\n",
       "     <use style=\"fill:#1f77b4;stroke:#1f77b4;\" x=\"162.46959\" xlink:href=\"#me06bdb908f\" y=\"95.223313\"/>\r\n",
       "     <use style=\"fill:#1f77b4;stroke:#1f77b4;\" x=\"160.658456\" xlink:href=\"#me06bdb908f\" y=\"97.693183\"/>\r\n",
       "     <use style=\"fill:#1f77b4;stroke:#1f77b4;\" x=\"72.838787\" xlink:href=\"#me06bdb908f\" y=\"29.873723\"/>\r\n",
       "     <use style=\"fill:#1f77b4;stroke:#1f77b4;\" x=\"161.776919\" xlink:href=\"#me06bdb908f\" y=\"98.135828\"/>\r\n",
       "     <use style=\"fill:#1f77b4;stroke:#1f77b4;\" x=\"118.08441\" xlink:href=\"#me06bdb908f\" y=\"78.03243\"/>\r\n",
       "     <use style=\"fill:#1f77b4;stroke:#1f77b4;\" x=\"132.78002\" xlink:href=\"#me06bdb908f\" y=\"82.322699\"/>\r\n",
       "     <use style=\"fill:#1f77b4;stroke:#1f77b4;\" x=\"135.658755\" xlink:href=\"#me06bdb908f\" y=\"82.915877\"/>\r\n",
       "     <use style=\"fill:#1f77b4;stroke:#1f77b4;\" x=\"140.261704\" xlink:href=\"#me06bdb908f\" y=\"92.425067\"/>\r\n",
       "     <use style=\"fill:#1f77b4;stroke:#1f77b4;\" x=\"186.855755\" xlink:href=\"#me06bdb908f\" y=\"107.166965\"/>\r\n",
       "     <use style=\"fill:#1f77b4;stroke:#1f77b4;\" x=\"103.045983\" xlink:href=\"#me06bdb908f\" y=\"47.012996\"/>\r\n",
       "     <use style=\"fill:#1f77b4;stroke:#1f77b4;\" x=\"140.726557\" xlink:href=\"#me06bdb908f\" y=\"69.631903\"/>\r\n",
       "     <use style=\"fill:#1f77b4;stroke:#1f77b4;\" x=\"115.854872\" xlink:href=\"#me06bdb908f\" y=\"67.593852\"/>\r\n",
       "     <use style=\"fill:#1f77b4;stroke:#1f77b4;\" x=\"157.360602\" xlink:href=\"#me06bdb908f\" y=\"97.054505\"/>\r\n",
       "     <use style=\"fill:#1f77b4;stroke:#1f77b4;\" x=\"99.483653\" xlink:href=\"#me06bdb908f\" y=\"56.311228\"/>\r\n",
       "     <use style=\"fill:#1f77b4;stroke:#1f77b4;\" x=\"110.477399\" xlink:href=\"#me06bdb908f\" y=\"47.399731\"/>\r\n",
       "     <use style=\"fill:#1f77b4;stroke:#1f77b4;\" x=\"135.092684\" xlink:href=\"#me06bdb908f\" y=\"77.306857\"/>\r\n",
       "     <use style=\"fill:#1f77b4;stroke:#1f77b4;\" x=\"81.259865\" xlink:href=\"#me06bdb908f\" y=\"33.875884\"/>\r\n",
       "     <use style=\"fill:#1f77b4;stroke:#1f77b4;\" x=\"116.795925\" xlink:href=\"#me06bdb908f\" y=\"60.512214\"/>\r\n",
       "     <use style=\"fill:#1f77b4;stroke:#1f77b4;\" x=\"129.057925\" xlink:href=\"#me06bdb908f\" y=\"64.863759\"/>\r\n",
       "     <use style=\"fill:#1f77b4;stroke:#1f77b4;\" x=\"147.280805\" xlink:href=\"#me06bdb908f\" y=\"93.561933\"/>\r\n",
       "     <use style=\"fill:#1f77b4;stroke:#1f77b4;\" x=\"106.289864\" xlink:href=\"#me06bdb908f\" y=\"57.296135\"/>\r\n",
       "     <use style=\"fill:#1f77b4;stroke:#1f77b4;\" x=\"119.869069\" xlink:href=\"#me06bdb908f\" y=\"56.758411\"/>\r\n",
       "     <use style=\"fill:#1f77b4;stroke:#1f77b4;\" x=\"125.384179\" xlink:href=\"#me06bdb908f\" y=\"73.498119\"/>\r\n",
       "     <use style=\"fill:#1f77b4;stroke:#1f77b4;\" x=\"130.659314\" xlink:href=\"#me06bdb908f\" y=\"58.363883\"/>\r\n",
       "     <use style=\"fill:#1f77b4;stroke:#1f77b4;\" x=\"175.51661\" xlink:href=\"#me06bdb908f\" y=\"96.016463\"/>\r\n",
       "     <use style=\"fill:#1f77b4;stroke:#1f77b4;\" x=\"131.919753\" xlink:href=\"#me06bdb908f\" y=\"69.077271\"/>\r\n",
       "     <use style=\"fill:#1f77b4;stroke:#1f77b4;\" x=\"104.422416\" xlink:href=\"#me06bdb908f\" y=\"54.82669\"/>\r\n",
       "     <use style=\"fill:#1f77b4;stroke:#1f77b4;\" x=\"159.418954\" xlink:href=\"#me06bdb908f\" y=\"88.261216\"/>\r\n",
       "     <use style=\"fill:#1f77b4;stroke:#1f77b4;\" x=\"126.955148\" xlink:href=\"#me06bdb908f\" y=\"66.538347\"/>\r\n",
       "     <use style=\"fill:#1f77b4;stroke:#1f77b4;\" x=\"123.159628\" xlink:href=\"#me06bdb908f\" y=\"70.616031\"/>\r\n",
       "     <use style=\"fill:#1f77b4;stroke:#1f77b4;\" x=\"121.699725\" xlink:href=\"#me06bdb908f\" y=\"76.767339\"/>\r\n",
       "     <use style=\"fill:#1f77b4;stroke:#1f77b4;\" x=\"156.428402\" xlink:href=\"#me06bdb908f\" y=\"83.991406\"/>\r\n",
       "     <use style=\"fill:#1f77b4;stroke:#1f77b4;\" x=\"127.69055\" xlink:href=\"#me06bdb908f\" y=\"71.730305\"/>\r\n",
       "     <use style=\"fill:#1f77b4;stroke:#1f77b4;\" x=\"120.271913\" xlink:href=\"#me06bdb908f\" y=\"81.334325\"/>\r\n",
       "     <use style=\"fill:#1f77b4;stroke:#1f77b4;\" x=\"136.820038\" xlink:href=\"#me06bdb908f\" y=\"64.820443\"/>\r\n",
       "     <use style=\"fill:#1f77b4;stroke:#1f77b4;\" x=\"149.282749\" xlink:href=\"#me06bdb908f\" y=\"82.407906\"/>\r\n",
       "     <use style=\"fill:#1f77b4;stroke:#1f77b4;\" x=\"100.122281\" xlink:href=\"#me06bdb908f\" y=\"62.575243\"/>\r\n",
       "     <use style=\"fill:#1f77b4;stroke:#1f77b4;\" x=\"112.429603\" xlink:href=\"#me06bdb908f\" y=\"55.834401\"/>\r\n",
       "     <use style=\"fill:#1f77b4;stroke:#1f77b4;\" x=\"135.113771\" xlink:href=\"#me06bdb908f\" y=\"74.302078\"/>\r\n",
       "     <use style=\"fill:#1f77b4;stroke:#1f77b4;\" x=\"93.710081\" xlink:href=\"#me06bdb908f\" y=\"55.443641\"/>\r\n",
       "     <use style=\"fill:#1f77b4;stroke:#1f77b4;\" x=\"177.79818\" xlink:href=\"#me06bdb908f\" y=\"103.824333\"/>\r\n",
       "     <use style=\"fill:#1f77b4;stroke:#1f77b4;\" x=\"168.259556\" xlink:href=\"#me06bdb908f\" y=\"105.415445\"/>\r\n",
       "     <use style=\"fill:#1f77b4;stroke:#1f77b4;\" x=\"113.491207\" xlink:href=\"#me06bdb908f\" y=\"62.673903\"/>\r\n",
       "     <use style=\"fill:#1f77b4;stroke:#1f77b4;\" x=\"81.797314\" xlink:href=\"#me06bdb908f\" y=\"38.089153\"/>\r\n",
       "     <use style=\"fill:#1f77b4;stroke:#1f77b4;\" x=\"110.445523\" xlink:href=\"#me06bdb908f\" y=\"63.451794\"/>\r\n",
       "     <use style=\"fill:#1f77b4;stroke:#1f77b4;\" x=\"107.502918\" xlink:href=\"#me06bdb908f\" y=\"68.925122\"/>\r\n",
       "     <use style=\"fill:#1f77b4;stroke:#1f77b4;\" x=\"124.088483\" xlink:href=\"#me06bdb908f\" y=\"76.195106\"/>\r\n",
       "     <use style=\"fill:#1f77b4;stroke:#1f77b4;\" x=\"131.497827\" xlink:href=\"#me06bdb908f\" y=\"73.483258\"/>\r\n",
       "     <use style=\"fill:#1f77b4;stroke:#1f77b4;\" x=\"118.671034\" xlink:href=\"#me06bdb908f\" y=\"48.481871\"/>\r\n",
       "     <use style=\"fill:#1f77b4;stroke:#1f77b4;\" x=\"125.346003\" xlink:href=\"#me06bdb908f\" y=\"65.604684\"/>\r\n",
       "     <use style=\"fill:#1f77b4;stroke:#1f77b4;\" x=\"109.256591\" xlink:href=\"#me06bdb908f\" y=\"60.4129\"/>\r\n",
       "     <use style=\"fill:#1f77b4;stroke:#1f77b4;\" x=\"138.786765\" xlink:href=\"#me06bdb908f\" y=\"69.420986\"/>\r\n",
       "     <use style=\"fill:#1f77b4;stroke:#1f77b4;\" x=\"93.772388\" xlink:href=\"#me06bdb908f\" y=\"32.30684\"/>\r\n",
       "     <use style=\"fill:#1f77b4;stroke:#1f77b4;\" x=\"116.496756\" xlink:href=\"#me06bdb908f\" y=\"57.420234\"/>\r\n",
       "     <use style=\"fill:#1f77b4;stroke:#1f77b4;\" x=\"153.538554\" xlink:href=\"#me06bdb908f\" y=\"85.707326\"/>\r\n",
       "     <use style=\"fill:#1f77b4;stroke:#1f77b4;\" x=\"105.583835\" xlink:href=\"#me06bdb908f\" y=\"77.843747\"/>\r\n",
       "     <use style=\"fill:#1f77b4;stroke:#1f77b4;\" x=\"159.657602\" xlink:href=\"#me06bdb908f\" y=\"87.490385\"/>\r\n",
       "     <use style=\"fill:#1f77b4;stroke:#1f77b4;\" x=\"97.990814\" xlink:href=\"#me06bdb908f\" y=\"65.412328\"/>\r\n",
       "     <use style=\"fill:#1f77b4;stroke:#1f77b4;\" x=\"105.662123\" xlink:href=\"#me06bdb908f\" y=\"56.47252\"/>\r\n",
       "     <use style=\"fill:#1f77b4;stroke:#1f77b4;\" x=\"125.942811\" xlink:href=\"#me06bdb908f\" y=\"61.018524\"/>\r\n",
       "     <use style=\"fill:#1f77b4;stroke:#1f77b4;\" x=\"141.712839\" xlink:href=\"#me06bdb908f\" y=\"87.512119\"/>\r\n",
       "     <use style=\"fill:#1f77b4;stroke:#1f77b4;\" x=\"173.061028\" xlink:href=\"#me06bdb908f\" y=\"96.263185\"/>\r\n",
       "     <use style=\"fill:#1f77b4;stroke:#1f77b4;\" x=\"114.519746\" xlink:href=\"#me06bdb908f\" y=\"75.641794\"/>\r\n",
       "     <use style=\"fill:#1f77b4;stroke:#1f77b4;\" x=\"154.717172\" xlink:href=\"#me06bdb908f\" y=\"90.722144\"/>\r\n",
       "     <use style=\"fill:#1f77b4;stroke:#1f77b4;\" x=\"152.620613\" xlink:href=\"#me06bdb908f\" y=\"88.245188\"/>\r\n",
       "     <use style=\"fill:#1f77b4;stroke:#1f77b4;\" x=\"52.948174\" xlink:href=\"#me06bdb908f\" y=\"28.386459\"/>\r\n",
       "     <use style=\"fill:#1f77b4;stroke:#1f77b4;\" x=\"111.537853\" xlink:href=\"#me06bdb908f\" y=\"56.660783\"/>\r\n",
       "     <use style=\"fill:#1f77b4;stroke:#1f77b4;\" x=\"162.419985\" xlink:href=\"#me06bdb908f\" y=\"86.629589\"/>\r\n",
       "     <use style=\"fill:#1f77b4;stroke:#1f77b4;\" x=\"97.918256\" xlink:href=\"#me06bdb908f\" y=\"62.549732\"/>\r\n",
       "     <use style=\"fill:#1f77b4;stroke:#1f77b4;\" x=\"108.412111\" xlink:href=\"#me06bdb908f\" y=\"56.744064\"/>\r\n",
       "     <use style=\"fill:#1f77b4;stroke:#1f77b4;\" x=\"111.151999\" xlink:href=\"#me06bdb908f\" y=\"69.350301\"/>\r\n",
       "     <use style=\"fill:#1f77b4;stroke:#1f77b4;\" x=\"144.698895\" xlink:href=\"#me06bdb908f\" y=\"97.168594\"/>\r\n",
       "     <use style=\"fill:#1f77b4;stroke:#1f77b4;\" x=\"115.252109\" xlink:href=\"#me06bdb908f\" y=\"63.955195\"/>\r\n",
       "     <use style=\"fill:#1f77b4;stroke:#1f77b4;\" x=\"138.111907\" xlink:href=\"#me06bdb908f\" y=\"70.224219\"/>\r\n",
       "     <use style=\"fill:#1f77b4;stroke:#1f77b4;\" x=\"138.09901\" xlink:href=\"#me06bdb908f\" y=\"89.624057\"/>\r\n",
       "     <use style=\"fill:#1f77b4;stroke:#1f77b4;\" x=\"96.553251\" xlink:href=\"#me06bdb908f\" y=\"56.084773\"/>\r\n",
       "     <use style=\"fill:#1f77b4;stroke:#1f77b4;\" x=\"138.708619\" xlink:href=\"#me06bdb908f\" y=\"74.679956\"/>\r\n",
       "     <use style=\"fill:#1f77b4;stroke:#1f77b4;\" x=\"126.907026\" xlink:href=\"#me06bdb908f\" y=\"80.881838\"/>\r\n",
       "     <use style=\"fill:#1f77b4;stroke:#1f77b4;\" x=\"109.794609\" xlink:href=\"#me06bdb908f\" y=\"53.996488\"/>\r\n",
       "     <use style=\"fill:#1f77b4;stroke:#1f77b4;\" x=\"117.126744\" xlink:href=\"#me06bdb908f\" y=\"62.870672\"/>\r\n",
       "     <use style=\"fill:#1f77b4;stroke:#1f77b4;\" x=\"124.39968\" xlink:href=\"#me06bdb908f\" y=\"77.447393\"/>\r\n",
       "     <use style=\"fill:#1f77b4;stroke:#1f77b4;\" x=\"94.609233\" xlink:href=\"#me06bdb908f\" y=\"48.489629\"/>\r\n",
       "     <use style=\"fill:#1f77b4;stroke:#1f77b4;\" x=\"138.666836\" xlink:href=\"#me06bdb908f\" y=\"79.065297\"/>\r\n",
       "     <use style=\"fill:#1f77b4;stroke:#1f77b4;\" x=\"146.364484\" xlink:href=\"#me06bdb908f\" y=\"90.468598\"/>\r\n",
       "     <use style=\"fill:#1f77b4;stroke:#1f77b4;\" x=\"126.12055\" xlink:href=\"#me06bdb908f\" y=\"65.230335\"/>\r\n",
       "     <use style=\"fill:#1f77b4;stroke:#1f77b4;\" x=\"122.585723\" xlink:href=\"#me06bdb908f\" y=\"69.713248\"/>\r\n",
       "     <use style=\"fill:#1f77b4;stroke:#1f77b4;\" x=\"166.512519\" xlink:href=\"#me06bdb908f\" y=\"108.194687\"/>\r\n",
       "     <use style=\"fill:#1f77b4;stroke:#1f77b4;\" x=\"132.507317\" xlink:href=\"#me06bdb908f\" y=\"62.384478\"/>\r\n",
       "     <use style=\"fill:#1f77b4;stroke:#1f77b4;\" x=\"188.131574\" xlink:href=\"#me06bdb908f\" y=\"111.947309\"/>\r\n",
       "     <use style=\"fill:#1f77b4;stroke:#1f77b4;\" x=\"151.33013\" xlink:href=\"#me06bdb908f\" y=\"97.594658\"/>\r\n",
       "     <use style=\"fill:#1f77b4;stroke:#1f77b4;\" x=\"131.357121\" xlink:href=\"#me06bdb908f\" y=\"69.61825\"/>\r\n",
       "     <use style=\"fill:#1f77b4;stroke:#1f77b4;\" x=\"89.194\" xlink:href=\"#me06bdb908f\" y=\"50.41763\"/>\r\n",
       "     <use style=\"fill:#1f77b4;stroke:#1f77b4;\" x=\"140.456372\" xlink:href=\"#me06bdb908f\" y=\"82.444049\"/>\r\n",
       "     <use style=\"fill:#1f77b4;stroke:#1f77b4;\" x=\"87.083327\" xlink:href=\"#me06bdb908f\" y=\"48.751332\"/>\r\n",
       "     <use style=\"fill:#1f77b4;stroke:#1f77b4;\" x=\"125.451563\" xlink:href=\"#me06bdb908f\" y=\"72.303988\"/>\r\n",
       "     <use style=\"fill:#1f77b4;stroke:#1f77b4;\" x=\"98.99272\" xlink:href=\"#me06bdb908f\" y=\"50.446999\"/>\r\n",
       "     <use style=\"fill:#1f77b4;stroke:#1f77b4;\" x=\"100.851924\" xlink:href=\"#me06bdb908f\" y=\"49.81279\"/>\r\n",
       "     <use style=\"fill:#1f77b4;stroke:#1f77b4;\" x=\"65.302786\" xlink:href=\"#me06bdb908f\" y=\"35.387645\"/>\r\n",
       "     <use style=\"fill:#1f77b4;stroke:#1f77b4;\" x=\"114.295842\" xlink:href=\"#me06bdb908f\" y=\"71.534469\"/>\r\n",
       "     <use style=\"fill:#1f77b4;stroke:#1f77b4;\" x=\"123.09986\" xlink:href=\"#me06bdb908f\" y=\"72.893371\"/>\r\n",
       "     <use style=\"fill:#1f77b4;stroke:#1f77b4;\" x=\"162.186998\" xlink:href=\"#me06bdb908f\" y=\"94.572982\"/>\r\n",
       "     <use style=\"fill:#1f77b4;stroke:#1f77b4;\" x=\"121.833451\" xlink:href=\"#me06bdb908f\" y=\"60.856509\"/>\r\n",
       "     <use style=\"fill:#1f77b4;stroke:#1f77b4;\" x=\"118.541077\" xlink:href=\"#me06bdb908f\" y=\"67.784681\"/>\r\n",
       "     <use style=\"fill:#1f77b4;stroke:#1f77b4;\" x=\"164.058119\" xlink:href=\"#me06bdb908f\" y=\"97.198891\"/>\r\n",
       "     <use style=\"fill:#1f77b4;stroke:#1f77b4;\" x=\"156.79558\" xlink:href=\"#me06bdb908f\" y=\"80.729858\"/>\r\n",
       "     <use style=\"fill:#1f77b4;stroke:#1f77b4;\" x=\"152.470183\" xlink:href=\"#me06bdb908f\" y=\"93.515643\"/>\r\n",
       "     <use style=\"fill:#1f77b4;stroke:#1f77b4;\" x=\"163.484331\" xlink:href=\"#me06bdb908f\" y=\"99.257896\"/>\r\n",
       "     <use style=\"fill:#1f77b4;stroke:#1f77b4;\" x=\"129.823198\" xlink:href=\"#me06bdb908f\" y=\"78.385978\"/>\r\n",
       "     <use style=\"fill:#1f77b4;stroke:#1f77b4;\" x=\"99.888917\" xlink:href=\"#me06bdb908f\" y=\"43.075423\"/>\r\n",
       "     <use style=\"fill:#1f77b4;stroke:#1f77b4;\" x=\"96.227181\" xlink:href=\"#me06bdb908f\" y=\"53.505243\"/>\r\n",
       "     <use style=\"fill:#1f77b4;stroke:#1f77b4;\" x=\"178.727451\" xlink:href=\"#me06bdb908f\" y=\"117.186371\"/>\r\n",
       "     <use style=\"fill:#1f77b4;stroke:#1f77b4;\" x=\"145.831365\" xlink:href=\"#me06bdb908f\" y=\"94.370609\"/>\r\n",
       "     <use style=\"fill:#1f77b4;stroke:#1f77b4;\" x=\"95.722364\" xlink:href=\"#me06bdb908f\" y=\"48.05452\"/>\r\n",
       "     <use style=\"fill:#1f77b4;stroke:#1f77b4;\" x=\"136.266026\" xlink:href=\"#me06bdb908f\" y=\"82.825592\"/>\r\n",
       "     <use style=\"fill:#1f77b4;stroke:#1f77b4;\" x=\"54.519689\" xlink:href=\"#me06bdb908f\" y=\"24.811609\"/>\r\n",
       "     <use style=\"fill:#1f77b4;stroke:#1f77b4;\" x=\"141.011128\" xlink:href=\"#me06bdb908f\" y=\"80.70691\"/>\r\n",
       "     <use style=\"fill:#1f77b4;stroke:#1f77b4;\" x=\"76.731424\" xlink:href=\"#me06bdb908f\" y=\"19.45617\"/>\r\n",
       "     <use style=\"fill:#1f77b4;stroke:#1f77b4;\" x=\"152.802461\" xlink:href=\"#me06bdb908f\" y=\"86.590661\"/>\r\n",
       "     <use style=\"fill:#1f77b4;stroke:#1f77b4;\" x=\"137.983433\" xlink:href=\"#me06bdb908f\" y=\"80.795567\"/>\r\n",
       "     <use style=\"fill:#1f77b4;stroke:#1f77b4;\" x=\"145.664071\" xlink:href=\"#me06bdb908f\" y=\"75.908751\"/>\r\n",
       "     <use style=\"fill:#1f77b4;stroke:#1f77b4;\" x=\"130.426258\" xlink:href=\"#me06bdb908f\" y=\"80.906184\"/>\r\n",
       "     <use style=\"fill:#1f77b4;stroke:#1f77b4;\" x=\"146.569776\" xlink:href=\"#me06bdb908f\" y=\"99.891147\"/>\r\n",
       "     <use style=\"fill:#1f77b4;stroke:#1f77b4;\" x=\"109.035234\" xlink:href=\"#me06bdb908f\" y=\"66.192778\"/>\r\n",
       "     <use style=\"fill:#1f77b4;stroke:#1f77b4;\" x=\"97.284007\" xlink:href=\"#me06bdb908f\" y=\"59.82252\"/>\r\n",
       "     <use style=\"fill:#1f77b4;stroke:#1f77b4;\" x=\"118.187456\" xlink:href=\"#me06bdb908f\" y=\"63.799871\"/>\r\n",
       "     <use style=\"fill:#1f77b4;stroke:#1f77b4;\" x=\"193.485314\" xlink:href=\"#me06bdb908f\" y=\"123.984529\"/>\r\n",
       "     <use style=\"fill:#1f77b4;stroke:#1f77b4;\" x=\"94.838195\" xlink:href=\"#me06bdb908f\" y=\"45.745449\"/>\r\n",
       "     <use style=\"fill:#1f77b4;stroke:#1f77b4;\" x=\"87.545681\" xlink:href=\"#me06bdb908f\" y=\"55.637631\"/>\r\n",
       "     <use style=\"fill:#1f77b4;stroke:#1f77b4;\" x=\"65.019542\" xlink:href=\"#me06bdb908f\" y=\"24.426301\"/>\r\n",
       "     <use style=\"fill:#1f77b4;stroke:#1f77b4;\" x=\"113.029875\" xlink:href=\"#me06bdb908f\" y=\"70.23009\"/>\r\n",
       "     <use style=\"fill:#1f77b4;stroke:#1f77b4;\" x=\"121.352296\" xlink:href=\"#me06bdb908f\" y=\"59.432727\"/>\r\n",
       "     <use style=\"fill:#1f77b4;stroke:#1f77b4;\" x=\"168.062745\" xlink:href=\"#me06bdb908f\" y=\"86.019724\"/>\r\n",
       "     <use style=\"fill:#1f77b4;stroke:#1f77b4;\" x=\"124.618045\" xlink:href=\"#me06bdb908f\" y=\"68.525113\"/>\r\n",
       "     <use style=\"fill:#1f77b4;stroke:#1f77b4;\" x=\"169.532062\" xlink:href=\"#me06bdb908f\" y=\"98.4544\"/>\r\n",
       "     <use style=\"fill:#1f77b4;stroke:#1f77b4;\" x=\"142.10392\" xlink:href=\"#me06bdb908f\" y=\"59.790535\"/>\r\n",
       "     <use style=\"fill:#1f77b4;stroke:#1f77b4;\" x=\"114.483711\" xlink:href=\"#me06bdb908f\" y=\"82.579382\"/>\r\n",
       "     <use style=\"fill:#1f77b4;stroke:#1f77b4;\" x=\"149.448366\" xlink:href=\"#me06bdb908f\" y=\"76.673639\"/>\r\n",
       "     <use style=\"fill:#1f77b4;stroke:#1f77b4;\" x=\"113.759668\" xlink:href=\"#me06bdb908f\" y=\"58.894995\"/>\r\n",
       "     <use style=\"fill:#1f77b4;stroke:#1f77b4;\" x=\"117.722125\" xlink:href=\"#me06bdb908f\" y=\"56.706773\"/>\r\n",
       "     <use style=\"fill:#1f77b4;stroke:#1f77b4;\" x=\"115.196907\" xlink:href=\"#me06bdb908f\" y=\"48.843583\"/>\r\n",
       "     <use style=\"fill:#1f77b4;stroke:#1f77b4;\" x=\"133.031939\" xlink:href=\"#me06bdb908f\" y=\"76.472747\"/>\r\n",
       "     <use style=\"fill:#1f77b4;stroke:#1f77b4;\" x=\"146.704029\" xlink:href=\"#me06bdb908f\" y=\"92.907493\"/>\r\n",
       "     <use style=\"fill:#1f77b4;stroke:#1f77b4;\" x=\"125.493211\" xlink:href=\"#me06bdb908f\" y=\"50.683908\"/>\r\n",
       "     <use style=\"fill:#1f77b4;stroke:#1f77b4;\" x=\"98.0942\" xlink:href=\"#me06bdb908f\" y=\"39.810773\"/>\r\n",
       "     <use style=\"fill:#1f77b4;stroke:#1f77b4;\" x=\"123.868729\" xlink:href=\"#me06bdb908f\" y=\"61.161527\"/>\r\n",
       "     <use style=\"fill:#1f77b4;stroke:#1f77b4;\" x=\"162.201229\" xlink:href=\"#me06bdb908f\" y=\"94.336564\"/>\r\n",
       "     <use style=\"fill:#1f77b4;stroke:#1f77b4;\" x=\"179.530804\" xlink:href=\"#me06bdb908f\" y=\"119.992491\"/>\r\n",
       "     <use style=\"fill:#1f77b4;stroke:#1f77b4;\" x=\"132.776109\" xlink:href=\"#me06bdb908f\" y=\"91.071735\"/>\r\n",
       "     <use style=\"fill:#1f77b4;stroke:#1f77b4;\" x=\"165.870888\" xlink:href=\"#me06bdb908f\" y=\"85.56608\"/>\r\n",
       "     <use style=\"fill:#1f77b4;stroke:#1f77b4;\" x=\"94.682146\" xlink:href=\"#me06bdb908f\" y=\"47.217876\"/>\r\n",
       "     <use style=\"fill:#1f77b4;stroke:#1f77b4;\" x=\"123.378025\" xlink:href=\"#me06bdb908f\" y=\"51.330463\"/>\r\n",
       "     <use style=\"fill:#1f77b4;stroke:#1f77b4;\" x=\"152.455006\" xlink:href=\"#me06bdb908f\" y=\"91.399642\"/>\r\n",
       "     <use style=\"fill:#1f77b4;stroke:#1f77b4;\" x=\"102.613497\" xlink:href=\"#me06bdb908f\" y=\"54.37267\"/>\r\n",
       "     <use style=\"fill:#1f77b4;stroke:#1f77b4;\" x=\"78.45931\" xlink:href=\"#me06bdb908f\" y=\"50.324318\"/>\r\n",
       "     <use style=\"fill:#1f77b4;stroke:#1f77b4;\" x=\"135.289423\" xlink:href=\"#me06bdb908f\" y=\"57.642327\"/>\r\n",
       "     <use style=\"fill:#1f77b4;stroke:#1f77b4;\" x=\"105.676885\" xlink:href=\"#me06bdb908f\" y=\"63.884712\"/>\r\n",
       "     <use style=\"fill:#1f77b4;stroke:#1f77b4;\" x=\"124.442249\" xlink:href=\"#me06bdb908f\" y=\"77.301533\"/>\r\n",
       "     <use style=\"fill:#1f77b4;stroke:#1f77b4;\" x=\"113.079417\" xlink:href=\"#me06bdb908f\" y=\"63.812362\"/>\r\n",
       "     <use style=\"fill:#1f77b4;stroke:#1f77b4;\" x=\"113.331638\" xlink:href=\"#me06bdb908f\" y=\"62.221349\"/>\r\n",
       "     <use style=\"fill:#1f77b4;stroke:#1f77b4;\" x=\"76.706855\" xlink:href=\"#me06bdb908f\" y=\"42.778374\"/>\r\n",
       "     <use style=\"fill:#1f77b4;stroke:#1f77b4;\" x=\"127.78875\" xlink:href=\"#me06bdb908f\" y=\"71.880797\"/>\r\n",
       "     <use style=\"fill:#1f77b4;stroke:#1f77b4;\" x=\"110.307016\" xlink:href=\"#me06bdb908f\" y=\"65.576871\"/>\r\n",
       "     <use style=\"fill:#1f77b4;stroke:#1f77b4;\" x=\"112.672327\" xlink:href=\"#me06bdb908f\" y=\"60.479159\"/>\r\n",
       "     <use style=\"fill:#1f77b4;stroke:#1f77b4;\" x=\"156.098239\" xlink:href=\"#me06bdb908f\" y=\"74.048412\"/>\r\n",
       "     <use style=\"fill:#1f77b4;stroke:#1f77b4;\" x=\"103.979948\" xlink:href=\"#me06bdb908f\" y=\"68.551697\"/>\r\n",
       "     <use style=\"fill:#1f77b4;stroke:#1f77b4;\" x=\"85.592657\" xlink:href=\"#me06bdb908f\" y=\"50.886042\"/>\r\n",
       "     <use style=\"fill:#1f77b4;stroke:#1f77b4;\" x=\"145.705031\" xlink:href=\"#me06bdb908f\" y=\"79.665393\"/>\r\n",
       "     <use style=\"fill:#1f77b4;stroke:#1f77b4;\" x=\"166.831248\" xlink:href=\"#me06bdb908f\" y=\"79.969446\"/>\r\n",
       "     <use style=\"fill:#1f77b4;stroke:#1f77b4;\" x=\"79.706815\" xlink:href=\"#me06bdb908f\" y=\"57.83788\"/>\r\n",
       "     <use style=\"fill:#1f77b4;stroke:#1f77b4;\" x=\"138.926827\" xlink:href=\"#me06bdb908f\" y=\"72.163192\"/>\r\n",
       "     <use style=\"fill:#1f77b4;stroke:#1f77b4;\" x=\"107.589934\" xlink:href=\"#me06bdb908f\" y=\"65.624826\"/>\r\n",
       "     <use style=\"fill:#1f77b4;stroke:#1f77b4;\" x=\"112.977601\" xlink:href=\"#me06bdb908f\" y=\"63.879853\"/>\r\n",
       "     <use style=\"fill:#1f77b4;stroke:#1f77b4;\" x=\"116.555014\" xlink:href=\"#me06bdb908f\" y=\"54.513978\"/>\r\n",
       "     <use style=\"fill:#1f77b4;stroke:#1f77b4;\" x=\"108.914589\" xlink:href=\"#me06bdb908f\" y=\"56.012995\"/>\r\n",
       "     <use style=\"fill:#1f77b4;stroke:#1f77b4;\" x=\"111.21352\" xlink:href=\"#me06bdb908f\" y=\"61.029825\"/>\r\n",
       "     <use style=\"fill:#1f77b4;stroke:#1f77b4;\" x=\"96.609294\" xlink:href=\"#me06bdb908f\" y=\"51.047325\"/>\r\n",
       "     <use style=\"fill:#1f77b4;stroke:#1f77b4;\" x=\"118.683819\" xlink:href=\"#me06bdb908f\" y=\"77.489808\"/>\r\n",
       "     <use style=\"fill:#1f77b4;stroke:#1f77b4;\" x=\"164.969292\" xlink:href=\"#me06bdb908f\" y=\"93.389713\"/>\r\n",
       "     <use style=\"fill:#1f77b4;stroke:#1f77b4;\" x=\"115.176248\" xlink:href=\"#me06bdb908f\" y=\"59.467173\"/>\r\n",
       "     <use style=\"fill:#1f77b4;stroke:#1f77b4;\" x=\"98.903256\" xlink:href=\"#me06bdb908f\" y=\"58.254724\"/>\r\n",
       "     <use style=\"fill:#1f77b4;stroke:#1f77b4;\" x=\"140.360438\" xlink:href=\"#me06bdb908f\" y=\"81.668713\"/>\r\n",
       "     <use style=\"fill:#1f77b4;stroke:#1f77b4;\" x=\"112.417315\" xlink:href=\"#me06bdb908f\" y=\"48.487549\"/>\r\n",
       "     <use style=\"fill:#1f77b4;stroke:#1f77b4;\" x=\"156.952332\" xlink:href=\"#me06bdb908f\" y=\"83.02424\"/>\r\n",
       "     <use style=\"fill:#1f77b4;stroke:#1f77b4;\" x=\"145.306007\" xlink:href=\"#me06bdb908f\" y=\"87.448513\"/>\r\n",
       "     <use style=\"fill:#1f77b4;stroke:#1f77b4;\" x=\"138.082694\" xlink:href=\"#me06bdb908f\" y=\"62.819168\"/>\r\n",
       "     <use style=\"fill:#1f77b4;stroke:#1f77b4;\" x=\"115.619797\" xlink:href=\"#me06bdb908f\" y=\"56.144942\"/>\r\n",
       "     <use style=\"fill:#1f77b4;stroke:#1f77b4;\" x=\"113.829376\" xlink:href=\"#me06bdb908f\" y=\"49.562203\"/>\r\n",
       "     <use style=\"fill:#1f77b4;stroke:#1f77b4;\" x=\"78.979643\" xlink:href=\"#me06bdb908f\" y=\"37.453517\"/>\r\n",
       "     <use style=\"fill:#1f77b4;stroke:#1f77b4;\" x=\"153.326943\" xlink:href=\"#me06bdb908f\" y=\"95.912693\"/>\r\n",
       "     <use style=\"fill:#1f77b4;stroke:#1f77b4;\" x=\"111.698526\" xlink:href=\"#me06bdb908f\" y=\"70.464341\"/>\r\n",
       "     <use style=\"fill:#1f77b4;stroke:#1f77b4;\" x=\"113.272182\" xlink:href=\"#me06bdb908f\" y=\"67.660603\"/>\r\n",
       "     <use style=\"fill:#1f77b4;stroke:#1f77b4;\" x=\"103.409405\" xlink:href=\"#me06bdb908f\" y=\"71.064201\"/>\r\n",
       "     <use style=\"fill:#1f77b4;stroke:#1f77b4;\" x=\"71.703332\" xlink:href=\"#me06bdb908f\" y=\"53.003606\"/>\r\n",
       "     <use style=\"fill:#1f77b4;stroke:#1f77b4;\" x=\"128.061641\" xlink:href=\"#me06bdb908f\" y=\"70.079915\"/>\r\n",
       "     <use style=\"fill:#1f77b4;stroke:#1f77b4;\" x=\"102.864504\" xlink:href=\"#me06bdb908f\" y=\"67.215323\"/>\r\n",
       "     <use style=\"fill:#1f77b4;stroke:#1f77b4;\" x=\"143.645468\" xlink:href=\"#me06bdb908f\" y=\"93.762931\"/>\r\n",
       "     <use style=\"fill:#1f77b4;stroke:#1f77b4;\" x=\"113.341744\" xlink:href=\"#me06bdb908f\" y=\"58.455888\"/>\r\n",
       "     <use style=\"fill:#1f77b4;stroke:#1f77b4;\" x=\"147.743985\" xlink:href=\"#me06bdb908f\" y=\"82.19313\"/>\r\n",
       "     <use style=\"fill:#1f77b4;stroke:#1f77b4;\" x=\"111.907889\" xlink:href=\"#me06bdb908f\" y=\"46.440579\"/>\r\n",
       "     <use style=\"fill:#1f77b4;stroke:#1f77b4;\" x=\"152.525354\" xlink:href=\"#me06bdb908f\" y=\"95.006189\"/>\r\n",
       "     <use style=\"fill:#1f77b4;stroke:#1f77b4;\" x=\"121.895964\" xlink:href=\"#me06bdb908f\" y=\"81.901141\"/>\r\n",
       "     <use style=\"fill:#1f77b4;stroke:#1f77b4;\" x=\"125.252485\" xlink:href=\"#me06bdb908f\" y=\"66.894554\"/>\r\n",
       "     <use style=\"fill:#1f77b4;stroke:#1f77b4;\" x=\"133.08097\" xlink:href=\"#me06bdb908f\" y=\"71.154337\"/>\r\n",
       "     <use style=\"fill:#1f77b4;stroke:#1f77b4;\" x=\"81.506943\" xlink:href=\"#me06bdb908f\" y=\"50.349959\"/>\r\n",
       "     <use style=\"fill:#1f77b4;stroke:#1f77b4;\" x=\"94.916315\" xlink:href=\"#me06bdb908f\" y=\"51.417916\"/>\r\n",
       "     <use style=\"fill:#1f77b4;stroke:#1f77b4;\" x=\"122.50264\" xlink:href=\"#me06bdb908f\" y=\"74.746624\"/>\r\n",
       "     <use style=\"fill:#1f77b4;stroke:#1f77b4;\" x=\"91.673669\" xlink:href=\"#me06bdb908f\" y=\"38.243739\"/>\r\n",
       "     <use style=\"fill:#1f77b4;stroke:#1f77b4;\" x=\"70.53022\" xlink:href=\"#me06bdb908f\" y=\"22.62075\"/>\r\n",
       "     <use style=\"fill:#1f77b4;stroke:#1f77b4;\" x=\"153.674237\" xlink:href=\"#me06bdb908f\" y=\"90.039117\"/>\r\n",
       "     <use style=\"fill:#1f77b4;stroke:#1f77b4;\" x=\"70.97302\" xlink:href=\"#me06bdb908f\" y=\"28.449485\"/>\r\n",
       "     <use style=\"fill:#1f77b4;stroke:#1f77b4;\" x=\"132.588914\" xlink:href=\"#me06bdb908f\" y=\"76.352519\"/>\r\n",
       "     <use style=\"fill:#1f77b4;stroke:#1f77b4;\" x=\"140.239251\" xlink:href=\"#me06bdb908f\" y=\"89.793668\"/>\r\n",
       "     <use style=\"fill:#1f77b4;stroke:#1f77b4;\" x=\"107.53888\" xlink:href=\"#me06bdb908f\" y=\"40.056862\"/>\r\n",
       "     <use style=\"fill:#1f77b4;stroke:#1f77b4;\" x=\"129.817458\" xlink:href=\"#me06bdb908f\" y=\"62.165273\"/>\r\n",
       "     <use style=\"fill:#1f77b4;stroke:#1f77b4;\" x=\"103.169121\" xlink:href=\"#me06bdb908f\" y=\"60.40201\"/>\r\n",
       "     <use style=\"fill:#1f77b4;stroke:#1f77b4;\" x=\"126.405201\" xlink:href=\"#me06bdb908f\" y=\"74.19572\"/>\r\n",
       "     <use style=\"fill:#1f77b4;stroke:#1f77b4;\" x=\"150.108409\" xlink:href=\"#me06bdb908f\" y=\"91.692004\"/>\r\n",
       "     <use style=\"fill:#1f77b4;stroke:#1f77b4;\" x=\"116.174932\" xlink:href=\"#me06bdb908f\" y=\"56.965491\"/>\r\n",
       "     <use style=\"fill:#1f77b4;stroke:#1f77b4;\" x=\"131.516326\" xlink:href=\"#me06bdb908f\" y=\"91.041252\"/>\r\n",
       "     <use style=\"fill:#1f77b4;stroke:#1f77b4;\" x=\"78.869797\" xlink:href=\"#me06bdb908f\" y=\"31.671849\"/>\r\n",
       "     <use style=\"fill:#1f77b4;stroke:#1f77b4;\" x=\"173.566771\" xlink:href=\"#me06bdb908f\" y=\"110.673048\"/>\r\n",
       "     <use style=\"fill:#1f77b4;stroke:#1f77b4;\" x=\"143.786379\" xlink:href=\"#me06bdb908f\" y=\"70.473955\"/>\r\n",
       "     <use style=\"fill:#1f77b4;stroke:#1f77b4;\" x=\"131.429621\" xlink:href=\"#me06bdb908f\" y=\"94.2574\"/>\r\n",
       "     <use style=\"fill:#1f77b4;stroke:#1f77b4;\" x=\"91.215576\" xlink:href=\"#me06bdb908f\" y=\"36.974018\"/>\r\n",
       "     <use style=\"fill:#1f77b4;stroke:#1f77b4;\" x=\"100.254261\" xlink:href=\"#me06bdb908f\" y=\"53.398657\"/>\r\n",
       "     <use style=\"fill:#1f77b4;stroke:#1f77b4;\" x=\"107.661647\" xlink:href=\"#me06bdb908f\" y=\"54.780934\"/>\r\n",
       "     <use style=\"fill:#1f77b4;stroke:#1f77b4;\" x=\"184.199643\" xlink:href=\"#me06bdb908f\" y=\"103.53833\"/>\r\n",
       "     <use style=\"fill:#1f77b4;stroke:#1f77b4;\" x=\"51.240219\" xlink:href=\"#me06bdb908f\" y=\"13.393133\"/>\r\n",
       "     <use style=\"fill:#1f77b4;stroke:#1f77b4;\" x=\"103.665819\" xlink:href=\"#me06bdb908f\" y=\"59.056196\"/>\r\n",
       "     <use style=\"fill:#1f77b4;stroke:#1f77b4;\" x=\"134.885373\" xlink:href=\"#me06bdb908f\" y=\"77.215666\"/>\r\n",
       "     <use style=\"fill:#1f77b4;stroke:#1f77b4;\" x=\"89.650738\" xlink:href=\"#me06bdb908f\" y=\"38.520492\"/>\r\n",
       "     <use style=\"fill:#1f77b4;stroke:#1f77b4;\" x=\"102.09752\" xlink:href=\"#me06bdb908f\" y=\"56.75037\"/>\r\n",
       "     <use style=\"fill:#1f77b4;stroke:#1f77b4;\" x=\"153.925844\" xlink:href=\"#me06bdb908f\" y=\"76.17433\"/>\r\n",
       "     <use style=\"fill:#1f77b4;stroke:#1f77b4;\" x=\"102.918591\" xlink:href=\"#me06bdb908f\" y=\"51.088386\"/>\r\n",
       "     <use style=\"fill:#1f77b4;stroke:#1f77b4;\" x=\"110.613649\" xlink:href=\"#me06bdb908f\" y=\"74.514675\"/>\r\n",
       "     <use style=\"fill:#1f77b4;stroke:#1f77b4;\" x=\"108.601008\" xlink:href=\"#me06bdb908f\" y=\"76.291722\"/>\r\n",
       "     <use style=\"fill:#1f77b4;stroke:#1f77b4;\" x=\"92.53601\" xlink:href=\"#me06bdb908f\" y=\"43.331683\"/>\r\n",
       "     <use style=\"fill:#1f77b4;stroke:#1f77b4;\" x=\"121.073032\" xlink:href=\"#me06bdb908f\" y=\"85.327294\"/>\r\n",
       "     <use style=\"fill:#1f77b4;stroke:#1f77b4;\" x=\"144.169335\" xlink:href=\"#me06bdb908f\" y=\"80.647352\"/>\r\n",
       "     <use style=\"fill:#1f77b4;stroke:#1f77b4;\" x=\"146.913097\" xlink:href=\"#me06bdb908f\" y=\"78.962405\"/>\r\n",
       "     <use style=\"fill:#1f77b4;stroke:#1f77b4;\" x=\"104.755588\" xlink:href=\"#me06bdb908f\" y=\"64.148219\"/>\r\n",
       "     <use style=\"fill:#1f77b4;stroke:#1f77b4;\" x=\"141.626498\" xlink:href=\"#me06bdb908f\" y=\"90.863109\"/>\r\n",
       "     <use style=\"fill:#1f77b4;stroke:#1f77b4;\" x=\"109.84159\" xlink:href=\"#me06bdb908f\" y=\"60.837175\"/>\r\n",
       "     <use style=\"fill:#1f77b4;stroke:#1f77b4;\" x=\"161.601119\" xlink:href=\"#me06bdb908f\" y=\"95.8603\"/>\r\n",
       "     <use style=\"fill:#1f77b4;stroke:#1f77b4;\" x=\"112.109278\" xlink:href=\"#me06bdb908f\" y=\"52.194551\"/>\r\n",
       "     <use style=\"fill:#1f77b4;stroke:#1f77b4;\" x=\"134.623773\" xlink:href=\"#me06bdb908f\" y=\"72.157281\"/>\r\n",
       "     <use style=\"fill:#1f77b4;stroke:#1f77b4;\" x=\"72.069648\" xlink:href=\"#me06bdb908f\" y=\"21.324788\"/>\r\n",
       "     <use style=\"fill:#1f77b4;stroke:#1f77b4;\" x=\"128.902516\" xlink:href=\"#me06bdb908f\" y=\"75.039654\"/>\r\n",
       "     <use style=\"fill:#1f77b4;stroke:#1f77b4;\" x=\"127.775797\" xlink:href=\"#me06bdb908f\" y=\"78.194893\"/>\r\n",
       "     <use style=\"fill:#1f77b4;stroke:#1f77b4;\" x=\"88.399694\" xlink:href=\"#me06bdb908f\" y=\"44.858766\"/>\r\n",
       "     <use style=\"fill:#1f77b4;stroke:#1f77b4;\" x=\"150.990513\" xlink:href=\"#me06bdb908f\" y=\"104.49125\"/>\r\n",
       "     <use style=\"fill:#1f77b4;stroke:#1f77b4;\" x=\"151.028081\" xlink:href=\"#me06bdb908f\" y=\"97.669709\"/>\r\n",
       "     <use style=\"fill:#1f77b4;stroke:#1f77b4;\" x=\"166.565146\" xlink:href=\"#me06bdb908f\" y=\"112.380619\"/>\r\n",
       "     <use style=\"fill:#1f77b4;stroke:#1f77b4;\" x=\"88.870245\" xlink:href=\"#me06bdb908f\" y=\"42.860648\"/>\r\n",
       "     <use style=\"fill:#1f77b4;stroke:#1f77b4;\" x=\"173.284281\" xlink:href=\"#me06bdb908f\" y=\"102.728365\"/>\r\n",
       "     <use style=\"fill:#1f77b4;stroke:#1f77b4;\" x=\"139.497506\" xlink:href=\"#me06bdb908f\" y=\"103.588841\"/>\r\n",
       "     <use style=\"fill:#1f77b4;stroke:#1f77b4;\" x=\"96.000097\" xlink:href=\"#me06bdb908f\" y=\"34.32028\"/>\r\n",
       "     <use style=\"fill:#1f77b4;stroke:#1f77b4;\" x=\"122.989153\" xlink:href=\"#me06bdb908f\" y=\"63.573215\"/>\r\n",
       "     <use style=\"fill:#1f77b4;stroke:#1f77b4;\" x=\"132.506089\" xlink:href=\"#me06bdb908f\" y=\"87.905429\"/>\r\n",
       "     <use style=\"fill:#1f77b4;stroke:#1f77b4;\" x=\"112.714987\" xlink:href=\"#me06bdb908f\" y=\"64.209383\"/>\r\n",
       "     <use style=\"fill:#1f77b4;stroke:#1f77b4;\" x=\"109.140089\" xlink:href=\"#me06bdb908f\" y=\"71.131124\"/>\r\n",
       "     <use style=\"fill:#1f77b4;stroke:#1f77b4;\" x=\"148.75317\" xlink:href=\"#me06bdb908f\" y=\"93.020169\"/>\r\n",
       "     <use style=\"fill:#1f77b4;stroke:#1f77b4;\" x=\"90.260512\" xlink:href=\"#me06bdb908f\" y=\"51.796972\"/>\r\n",
       "     <use style=\"fill:#1f77b4;stroke:#1f77b4;\" x=\"113.085172\" xlink:href=\"#me06bdb908f\" y=\"71.751454\"/>\r\n",
       "     <use style=\"fill:#1f77b4;stroke:#1f77b4;\" x=\"126.234728\" xlink:href=\"#me06bdb908f\" y=\"74.466323\"/>\r\n",
       "     <use style=\"fill:#1f77b4;stroke:#1f77b4;\" x=\"91.147857\" xlink:href=\"#me06bdb908f\" y=\"57.117134\"/>\r\n",
       "     <use style=\"fill:#1f77b4;stroke:#1f77b4;\" x=\"157.562307\" xlink:href=\"#me06bdb908f\" y=\"86.823362\"/>\r\n",
       "     <use style=\"fill:#1f77b4;stroke:#1f77b4;\" x=\"194.445566\" xlink:href=\"#me06bdb908f\" y=\"104.783291\"/>\r\n",
       "     <use style=\"fill:#1f77b4;stroke:#1f77b4;\" x=\"146.224723\" xlink:href=\"#me06bdb908f\" y=\"76.943522\"/>\r\n",
       "     <use style=\"fill:#1f77b4;stroke:#1f77b4;\" x=\"75.24623\" xlink:href=\"#me06bdb908f\" y=\"21.96835\"/>\r\n",
       "     <use style=\"fill:#1f77b4;stroke:#1f77b4;\" x=\"139.232194\" xlink:href=\"#me06bdb908f\" y=\"81.418499\"/>\r\n",
       "     <use style=\"fill:#1f77b4;stroke:#1f77b4;\" x=\"150.958914\" xlink:href=\"#me06bdb908f\" y=\"81.310376\"/>\r\n",
       "     <use style=\"fill:#1f77b4;stroke:#1f77b4;\" x=\"119.077438\" xlink:href=\"#me06bdb908f\" y=\"70.147756\"/>\r\n",
       "     <use style=\"fill:#1f77b4;stroke:#1f77b4;\" x=\"158.18233\" xlink:href=\"#me06bdb908f\" y=\"86.468249\"/>\r\n",
       "     <use style=\"fill:#1f77b4;stroke:#1f77b4;\" x=\"110.021913\" xlink:href=\"#me06bdb908f\" y=\"73.197849\"/>\r\n",
       "     <use style=\"fill:#1f77b4;stroke:#1f77b4;\" x=\"114.044704\" xlink:href=\"#me06bdb908f\" y=\"53.719604\"/>\r\n",
       "     <use style=\"fill:#1f77b4;stroke:#1f77b4;\" x=\"99.354288\" xlink:href=\"#me06bdb908f\" y=\"59.643568\"/>\r\n",
       "     <use style=\"fill:#1f77b4;stroke:#1f77b4;\" x=\"117.804395\" xlink:href=\"#me06bdb908f\" y=\"67.111473\"/>\r\n",
       "     <use style=\"fill:#1f77b4;stroke:#1f77b4;\" x=\"96.558973\" xlink:href=\"#me06bdb908f\" y=\"36.498489\"/>\r\n",
       "     <use style=\"fill:#1f77b4;stroke:#1f77b4;\" x=\"124.246781\" xlink:href=\"#me06bdb908f\" y=\"62.131768\"/>\r\n",
       "     <use style=\"fill:#1f77b4;stroke:#1f77b4;\" x=\"80.780749\" xlink:href=\"#me06bdb908f\" y=\"42.11746\"/>\r\n",
       "     <use style=\"fill:#1f77b4;stroke:#1f77b4;\" x=\"150.673001\" xlink:href=\"#me06bdb908f\" y=\"79.352468\"/>\r\n",
       "     <use style=\"fill:#1f77b4;stroke:#1f77b4;\" x=\"146.929332\" xlink:href=\"#me06bdb908f\" y=\"97.627585\"/>\r\n",
       "     <use style=\"fill:#1f77b4;stroke:#1f77b4;\" x=\"159.342201\" xlink:href=\"#me06bdb908f\" y=\"98.5888\"/>\r\n",
       "     <use style=\"fill:#1f77b4;stroke:#1f77b4;\" x=\"93.951575\" xlink:href=\"#me06bdb908f\" y=\"52.853587\"/>\r\n",
       "     <use style=\"fill:#1f77b4;stroke:#1f77b4;\" x=\"184.162094\" xlink:href=\"#me06bdb908f\" y=\"99.233637\"/>\r\n",
       "     <use style=\"fill:#1f77b4;stroke:#1f77b4;\" x=\"134.306282\" xlink:href=\"#me06bdb908f\" y=\"73.187497\"/>\r\n",
       "     <use style=\"fill:#1f77b4;stroke:#1f77b4;\" x=\"92.227126\" xlink:href=\"#me06bdb908f\" y=\"49.143793\"/>\r\n",
       "     <use style=\"fill:#1f77b4;stroke:#1f77b4;\" x=\"140.677744\" xlink:href=\"#me06bdb908f\" y=\"87.529779\"/>\r\n",
       "     <use style=\"fill:#1f77b4;stroke:#1f77b4;\" x=\"120.418974\" xlink:href=\"#me06bdb908f\" y=\"73.016305\"/>\r\n",
       "     <use style=\"fill:#1f77b4;stroke:#1f77b4;\" x=\"130.204945\" xlink:href=\"#me06bdb908f\" y=\"65.571804\"/>\r\n",
       "     <use style=\"fill:#1f77b4;stroke:#1f77b4;\" x=\"106.319658\" xlink:href=\"#me06bdb908f\" y=\"59.91813\"/>\r\n",
       "     <use style=\"fill:#1f77b4;stroke:#1f77b4;\" x=\"174.103285\" xlink:href=\"#me06bdb908f\" y=\"89.971064\"/>\r\n",
       "     <use style=\"fill:#1f77b4;stroke:#1f77b4;\" x=\"121.6284\" xlink:href=\"#me06bdb908f\" y=\"69.402867\"/>\r\n",
       "     <use style=\"fill:#1f77b4;stroke:#1f77b4;\" x=\"143.77337\" xlink:href=\"#me06bdb908f\" y=\"84.104334\"/>\r\n",
       "     <use style=\"fill:#1f77b4;stroke:#1f77b4;\" x=\"175.610853\" xlink:href=\"#me06bdb908f\" y=\"127.220815\"/>\r\n",
       "     <use style=\"fill:#1f77b4;stroke:#1f77b4;\" x=\"128.819265\" xlink:href=\"#me06bdb908f\" y=\"72.584509\"/>\r\n",
       "     <use style=\"fill:#1f77b4;stroke:#1f77b4;\" x=\"112.841104\" xlink:href=\"#me06bdb908f\" y=\"69.972165\"/>\r\n",
       "     <use style=\"fill:#1f77b4;stroke:#1f77b4;\" x=\"187.549292\" xlink:href=\"#me06bdb908f\" y=\"103.047412\"/>\r\n",
       "     <use style=\"fill:#1f77b4;stroke:#1f77b4;\" x=\"105.957077\" xlink:href=\"#me06bdb908f\" y=\"90.938441\"/>\r\n",
       "     <use style=\"fill:#1f77b4;stroke:#1f77b4;\" x=\"121.220866\" xlink:href=\"#me06bdb908f\" y=\"61.451966\"/>\r\n",
       "     <use style=\"fill:#1f77b4;stroke:#1f77b4;\" x=\"134.280214\" xlink:href=\"#me06bdb908f\" y=\"96.890635\"/>\r\n",
       "     <use style=\"fill:#1f77b4;stroke:#1f77b4;\" x=\"145.937403\" xlink:href=\"#me06bdb908f\" y=\"80.809328\"/>\r\n",
       "     <use style=\"fill:#1f77b4;stroke:#1f77b4;\" x=\"146.83958\" xlink:href=\"#me06bdb908f\" y=\"73.352412\"/>\r\n",
       "     <use style=\"fill:#1f77b4;stroke:#1f77b4;\" x=\"94.210399\" xlink:href=\"#me06bdb908f\" y=\"40.189253\"/>\r\n",
       "     <use style=\"fill:#1f77b4;stroke:#1f77b4;\" x=\"151.008963\" xlink:href=\"#me06bdb908f\" y=\"95.568373\"/>\r\n",
       "     <use style=\"fill:#1f77b4;stroke:#1f77b4;\" x=\"109.500342\" xlink:href=\"#me06bdb908f\" y=\"65.330083\"/>\r\n",
       "     <use style=\"fill:#1f77b4;stroke:#1f77b4;\" x=\"108.997351\" xlink:href=\"#me06bdb908f\" y=\"55.011398\"/>\r\n",
       "     <use style=\"fill:#1f77b4;stroke:#1f77b4;\" x=\"122.598629\" xlink:href=\"#me06bdb908f\" y=\"73.214151\"/>\r\n",
       "     <use style=\"fill:#1f77b4;stroke:#1f77b4;\" x=\"103.087738\" xlink:href=\"#me06bdb908f\" y=\"55.245889\"/>\r\n",
       "     <use style=\"fill:#1f77b4;stroke:#1f77b4;\" x=\"137.807299\" xlink:href=\"#me06bdb908f\" y=\"80.35547\"/>\r\n",
       "     <use style=\"fill:#1f77b4;stroke:#1f77b4;\" x=\"159.623746\" xlink:href=\"#me06bdb908f\" y=\"107.39428\"/>\r\n",
       "     <use style=\"fill:#1f77b4;stroke:#1f77b4;\" x=\"120.292732\" xlink:href=\"#me06bdb908f\" y=\"67.473513\"/>\r\n",
       "     <use style=\"fill:#1f77b4;stroke:#1f77b4;\" x=\"140.267293\" xlink:href=\"#me06bdb908f\" y=\"78.959811\"/>\r\n",
       "     <use style=\"fill:#1f77b4;stroke:#1f77b4;\" x=\"142.188884\" xlink:href=\"#me06bdb908f\" y=\"82.476449\"/>\r\n",
       "     <use style=\"fill:#1f77b4;stroke:#1f77b4;\" x=\"147.097331\" xlink:href=\"#me06bdb908f\" y=\"85.076533\"/>\r\n",
       "     <use style=\"fill:#1f77b4;stroke:#1f77b4;\" x=\"221.658807\" xlink:href=\"#me06bdb908f\" y=\"136.906867\"/>\r\n",
       "     <use style=\"fill:#1f77b4;stroke:#1f77b4;\" x=\"127.51645\" xlink:href=\"#me06bdb908f\" y=\"83.365734\"/>\r\n",
       "     <use style=\"fill:#1f77b4;stroke:#1f77b4;\" x=\"167.752088\" xlink:href=\"#me06bdb908f\" y=\"106.421794\"/>\r\n",
       "     <use style=\"fill:#1f77b4;stroke:#1f77b4;\" x=\"124.15461\" xlink:href=\"#me06bdb908f\" y=\"76.290437\"/>\r\n",
       "     <use style=\"fill:#1f77b4;stroke:#1f77b4;\" x=\"154.764666\" xlink:href=\"#me06bdb908f\" y=\"85.120849\"/>\r\n",
       "     <use style=\"fill:#1f77b4;stroke:#1f77b4;\" x=\"72.972033\" xlink:href=\"#me06bdb908f\" y=\"52.705689\"/>\r\n",
       "     <use style=\"fill:#1f77b4;stroke:#1f77b4;\" x=\"100.705376\" xlink:href=\"#me06bdb908f\" y=\"48.950008\"/>\r\n",
       "     <use style=\"fill:#1f77b4;stroke:#1f77b4;\" x=\"138.905015\" xlink:href=\"#me06bdb908f\" y=\"76.597383\"/>\r\n",
       "     <use style=\"fill:#1f77b4;stroke:#1f77b4;\" x=\"119.942618\" xlink:href=\"#me06bdb908f\" y=\"67.245149\"/>\r\n",
       "     <use style=\"fill:#1f77b4;stroke:#1f77b4;\" x=\"92.742063\" xlink:href=\"#me06bdb908f\" y=\"57.683043\"/>\r\n",
       "     <use style=\"fill:#1f77b4;stroke:#1f77b4;\" x=\"89.920507\" xlink:href=\"#me06bdb908f\" y=\"49.153857\"/>\r\n",
       "     <use style=\"fill:#1f77b4;stroke:#1f77b4;\" x=\"111.656487\" xlink:href=\"#me06bdb908f\" y=\"60.326992\"/>\r\n",
       "     <use style=\"fill:#1f77b4;stroke:#1f77b4;\" x=\"171.533835\" xlink:href=\"#me06bdb908f\" y=\"91.145886\"/>\r\n",
       "     <use style=\"fill:#1f77b4;stroke:#1f77b4;\" x=\"173.000223\" xlink:href=\"#me06bdb908f\" y=\"96.052304\"/>\r\n",
       "     <use style=\"fill:#1f77b4;stroke:#1f77b4;\" x=\"183.253327\" xlink:href=\"#me06bdb908f\" y=\"114.820817\"/>\r\n",
       "     <use style=\"fill:#1f77b4;stroke:#1f77b4;\" x=\"84.377277\" xlink:href=\"#me06bdb908f\" y=\"36.594868\"/>\r\n",
       "     <use style=\"fill:#1f77b4;stroke:#1f77b4;\" x=\"108.601591\" xlink:href=\"#me06bdb908f\" y=\"50.98004\"/>\r\n",
       "     <use style=\"fill:#1f77b4;stroke:#1f77b4;\" x=\"167.258165\" xlink:href=\"#me06bdb908f\" y=\"110.686397\"/>\r\n",
       "     <use style=\"fill:#1f77b4;stroke:#1f77b4;\" x=\"201.448072\" xlink:href=\"#me06bdb908f\" y=\"120.808886\"/>\r\n",
       "     <use style=\"fill:#1f77b4;stroke:#1f77b4;\" x=\"168.591077\" xlink:href=\"#me06bdb908f\" y=\"102.819562\"/>\r\n",
       "     <use style=\"fill:#1f77b4;stroke:#1f77b4;\" x=\"135.301009\" xlink:href=\"#me06bdb908f\" y=\"92.1904\"/>\r\n",
       "     <use style=\"fill:#1f77b4;stroke:#1f77b4;\" x=\"155.423564\" xlink:href=\"#me06bdb908f\" y=\"91.707592\"/>\r\n",
       "     <use style=\"fill:#1f77b4;stroke:#1f77b4;\" x=\"132.635711\" xlink:href=\"#me06bdb908f\" y=\"97.298235\"/>\r\n",
       "     <use style=\"fill:#1f77b4;stroke:#1f77b4;\" x=\"84.988626\" xlink:href=\"#me06bdb908f\" y=\"27.774367\"/>\r\n",
       "     <use style=\"fill:#1f77b4;stroke:#1f77b4;\" x=\"114.220226\" xlink:href=\"#me06bdb908f\" y=\"71.057755\"/>\r\n",
       "     <use style=\"fill:#1f77b4;stroke:#1f77b4;\" x=\"148.773227\" xlink:href=\"#me06bdb908f\" y=\"71.742575\"/>\r\n",
       "     <use style=\"fill:#1f77b4;stroke:#1f77b4;\" x=\"113.173847\" xlink:href=\"#me06bdb908f\" y=\"60.103197\"/>\r\n",
       "     <use style=\"fill:#1f77b4;stroke:#1f77b4;\" x=\"72.655412\" xlink:href=\"#me06bdb908f\" y=\"48.36456\"/>\r\n",
       "     <use style=\"fill:#1f77b4;stroke:#1f77b4;\" x=\"111.015097\" xlink:href=\"#me06bdb908f\" y=\"59.019377\"/>\r\n",
       "     <use style=\"fill:#1f77b4;stroke:#1f77b4;\" x=\"124.792575\" xlink:href=\"#me06bdb908f\" y=\"66.406468\"/>\r\n",
       "     <use style=\"fill:#1f77b4;stroke:#1f77b4;\" x=\"73.247303\" xlink:href=\"#me06bdb908f\" y=\"41.397754\"/>\r\n",
       "     <use style=\"fill:#1f77b4;stroke:#1f77b4;\" x=\"111.414405\" xlink:href=\"#me06bdb908f\" y=\"57.750624\"/>\r\n",
       "     <use style=\"fill:#1f77b4;stroke:#1f77b4;\" x=\"83.307867\" xlink:href=\"#me06bdb908f\" y=\"51.801802\"/>\r\n",
       "     <use style=\"fill:#1f77b4;stroke:#1f77b4;\" x=\"126.575178\" xlink:href=\"#me06bdb908f\" y=\"81.250202\"/>\r\n",
       "     <use style=\"fill:#1f77b4;stroke:#1f77b4;\" x=\"158.914377\" xlink:href=\"#me06bdb908f\" y=\"91.613107\"/>\r\n",
       "     <use style=\"fill:#1f77b4;stroke:#1f77b4;\" x=\"135.402414\" xlink:href=\"#me06bdb908f\" y=\"73.908099\"/>\r\n",
       "     <use style=\"fill:#1f77b4;stroke:#1f77b4;\" x=\"144.114615\" xlink:href=\"#me06bdb908f\" y=\"87.2657\"/>\r\n",
       "     <use style=\"fill:#1f77b4;stroke:#1f77b4;\" x=\"102.590103\" xlink:href=\"#me06bdb908f\" y=\"49.123916\"/>\r\n",
       "     <use style=\"fill:#1f77b4;stroke:#1f77b4;\" x=\"115.870897\" xlink:href=\"#me06bdb908f\" y=\"74.981648\"/>\r\n",
       "     <use style=\"fill:#1f77b4;stroke:#1f77b4;\" x=\"137.431507\" xlink:href=\"#me06bdb908f\" y=\"81.053112\"/>\r\n",
       "     <use style=\"fill:#1f77b4;stroke:#1f77b4;\" x=\"119.994376\" xlink:href=\"#me06bdb908f\" y=\"72.335135\"/>\r\n",
       "     <use style=\"fill:#1f77b4;stroke:#1f77b4;\" x=\"96.437291\" xlink:href=\"#me06bdb908f\" y=\"53.316741\"/>\r\n",
       "     <use style=\"fill:#1f77b4;stroke:#1f77b4;\" x=\"118.621736\" xlink:href=\"#me06bdb908f\" y=\"75.046209\"/>\r\n",
       "     <use style=\"fill:#1f77b4;stroke:#1f77b4;\" x=\"115.771369\" xlink:href=\"#me06bdb908f\" y=\"73.656366\"/>\r\n",
       "     <use style=\"fill:#1f77b4;stroke:#1f77b4;\" x=\"126.335888\" xlink:href=\"#me06bdb908f\" y=\"67.279214\"/>\r\n",
       "     <use style=\"fill:#1f77b4;stroke:#1f77b4;\" x=\"120.795553\" xlink:href=\"#me06bdb908f\" y=\"78.415238\"/>\r\n",
       "     <use style=\"fill:#1f77b4;stroke:#1f77b4;\" x=\"126.04305\" xlink:href=\"#me06bdb908f\" y=\"74.077126\"/>\r\n",
       "     <use style=\"fill:#1f77b4;stroke:#1f77b4;\" x=\"110.635851\" xlink:href=\"#me06bdb908f\" y=\"55.139982\"/>\r\n",
       "     <use style=\"fill:#1f77b4;stroke:#1f77b4;\" x=\"131.350051\" xlink:href=\"#me06bdb908f\" y=\"64.841913\"/>\r\n",
       "     <use style=\"fill:#1f77b4;stroke:#1f77b4;\" x=\"142.66828\" xlink:href=\"#me06bdb908f\" y=\"65.909416\"/>\r\n",
       "     <use style=\"fill:#1f77b4;stroke:#1f77b4;\" x=\"100.829744\" xlink:href=\"#me06bdb908f\" y=\"34.685082\"/>\r\n",
       "     <use style=\"fill:#1f77b4;stroke:#1f77b4;\" x=\"162.230501\" xlink:href=\"#me06bdb908f\" y=\"101.110411\"/>\r\n",
       "     <use style=\"fill:#1f77b4;stroke:#1f77b4;\" x=\"162.740442\" xlink:href=\"#me06bdb908f\" y=\"94.784601\"/>\r\n",
       "     <use style=\"fill:#1f77b4;stroke:#1f77b4;\" x=\"120.760603\" xlink:href=\"#me06bdb908f\" y=\"60.157261\"/>\r\n",
       "     <use style=\"fill:#1f77b4;stroke:#1f77b4;\" x=\"122.947996\" xlink:href=\"#me06bdb908f\" y=\"67.074949\"/>\r\n",
       "     <use style=\"fill:#1f77b4;stroke:#1f77b4;\" x=\"151.337929\" xlink:href=\"#me06bdb908f\" y=\"86.600765\"/>\r\n",
       "     <use style=\"fill:#1f77b4;stroke:#1f77b4;\" x=\"146.154311\" xlink:href=\"#me06bdb908f\" y=\"80.272337\"/>\r\n",
       "     <use style=\"fill:#1f77b4;stroke:#1f77b4;\" x=\"132.264228\" xlink:href=\"#me06bdb908f\" y=\"67.661631\"/>\r\n",
       "     <use style=\"fill:#1f77b4;stroke:#1f77b4;\" x=\"105.534107\" xlink:href=\"#me06bdb908f\" y=\"49.131838\"/>\r\n",
       "     <use style=\"fill:#1f77b4;stroke:#1f77b4;\" x=\"123.917425\" xlink:href=\"#me06bdb908f\" y=\"70.235335\"/>\r\n",
       "     <use style=\"fill:#1f77b4;stroke:#1f77b4;\" x=\"155.663975\" xlink:href=\"#me06bdb908f\" y=\"79.743628\"/>\r\n",
       "     <use style=\"fill:#1f77b4;stroke:#1f77b4;\" x=\"156.466152\" xlink:href=\"#me06bdb908f\" y=\"92.407157\"/>\r\n",
       "     <use style=\"fill:#1f77b4;stroke:#1f77b4;\" x=\"160.374522\" xlink:href=\"#me06bdb908f\" y=\"88.7966\"/>\r\n",
       "     <use style=\"fill:#1f77b4;stroke:#1f77b4;\" x=\"128.54349\" xlink:href=\"#me06bdb908f\" y=\"67.099652\"/>\r\n",
       "     <use style=\"fill:#1f77b4;stroke:#1f77b4;\" x=\"150.318172\" xlink:href=\"#me06bdb908f\" y=\"69.237324\"/>\r\n",
       "     <use style=\"fill:#1f77b4;stroke:#1f77b4;\" x=\"102.278208\" xlink:href=\"#me06bdb908f\" y=\"63.40892\"/>\r\n",
       "     <use style=\"fill:#1f77b4;stroke:#1f77b4;\" x=\"124.499947\" xlink:href=\"#me06bdb908f\" y=\"63.642165\"/>\r\n",
       "     <use style=\"fill:#1f77b4;stroke:#1f77b4;\" x=\"135.897026\" xlink:href=\"#me06bdb908f\" y=\"78.345687\"/>\r\n",
       "     <use style=\"fill:#1f77b4;stroke:#1f77b4;\" x=\"128.729787\" xlink:href=\"#me06bdb908f\" y=\"85.337938\"/>\r\n",
       "     <use style=\"fill:#1f77b4;stroke:#1f77b4;\" x=\"123.294098\" xlink:href=\"#me06bdb908f\" y=\"74.929829\"/>\r\n",
       "     <use style=\"fill:#1f77b4;stroke:#1f77b4;\" x=\"122.365866\" xlink:href=\"#me06bdb908f\" y=\"50.111952\"/>\r\n",
       "     <use style=\"fill:#1f77b4;stroke:#1f77b4;\" x=\"99.697188\" xlink:href=\"#me06bdb908f\" y=\"49.003406\"/>\r\n",
       "     <use style=\"fill:#1f77b4;stroke:#1f77b4;\" x=\"85.119384\" xlink:href=\"#me06bdb908f\" y=\"35.328381\"/>\r\n",
       "     <use style=\"fill:#1f77b4;stroke:#1f77b4;\" x=\"124.453472\" xlink:href=\"#me06bdb908f\" y=\"63.800504\"/>\r\n",
       "     <use style=\"fill:#1f77b4;stroke:#1f77b4;\" x=\"130.957946\" xlink:href=\"#me06bdb908f\" y=\"63.743443\"/>\r\n",
       "     <use style=\"fill:#1f77b4;stroke:#1f77b4;\" x=\"146.195593\" xlink:href=\"#me06bdb908f\" y=\"107.491612\"/>\r\n",
       "     <use style=\"fill:#1f77b4;stroke:#1f77b4;\" x=\"78.022611\" xlink:href=\"#me06bdb908f\" y=\"38.156208\"/>\r\n",
       "     <use style=\"fill:#1f77b4;stroke:#1f77b4;\" x=\"88.501131\" xlink:href=\"#me06bdb908f\" y=\"43.53924\"/>\r\n",
       "     <use style=\"fill:#1f77b4;stroke:#1f77b4;\" x=\"77.077307\" xlink:href=\"#me06bdb908f\" y=\"37.981704\"/>\r\n",
       "     <use style=\"fill:#1f77b4;stroke:#1f77b4;\" x=\"148.948133\" xlink:href=\"#me06bdb908f\" y=\"87.542149\"/>\r\n",
       "     <use style=\"fill:#1f77b4;stroke:#1f77b4;\" x=\"123.898204\" xlink:href=\"#me06bdb908f\" y=\"62.167228\"/>\r\n",
       "     <use style=\"fill:#1f77b4;stroke:#1f77b4;\" x=\"136.177734\" xlink:href=\"#me06bdb908f\" y=\"89.415718\"/>\r\n",
       "     <use style=\"fill:#1f77b4;stroke:#1f77b4;\" x=\"101.192312\" xlink:href=\"#me06bdb908f\" y=\"54.933182\"/>\r\n",
       "     <use style=\"fill:#1f77b4;stroke:#1f77b4;\" x=\"128.027574\" xlink:href=\"#me06bdb908f\" y=\"59.550448\"/>\r\n",
       "     <use style=\"fill:#1f77b4;stroke:#1f77b4;\" x=\"146.560979\" xlink:href=\"#me06bdb908f\" y=\"93.341989\"/>\r\n",
       "     <use style=\"fill:#1f77b4;stroke:#1f77b4;\" x=\"144.535943\" xlink:href=\"#me06bdb908f\" y=\"82.252413\"/>\r\n",
       "     <use style=\"fill:#1f77b4;stroke:#1f77b4;\" x=\"140.045676\" xlink:href=\"#me06bdb908f\" y=\"74.539961\"/>\r\n",
       "     <use style=\"fill:#1f77b4;stroke:#1f77b4;\" x=\"127.973026\" xlink:href=\"#me06bdb908f\" y=\"70.957824\"/>\r\n",
       "     <use style=\"fill:#1f77b4;stroke:#1f77b4;\" x=\"152.767819\" xlink:href=\"#me06bdb908f\" y=\"97.831923\"/>\r\n",
       "     <use style=\"fill:#1f77b4;stroke:#1f77b4;\" x=\"90.901581\" xlink:href=\"#me06bdb908f\" y=\"62.489496\"/>\r\n",
       "     <use style=\"fill:#1f77b4;stroke:#1f77b4;\" x=\"127.000001\" xlink:href=\"#me06bdb908f\" y=\"68.204629\"/>\r\n",
       "     <use style=\"fill:#1f77b4;stroke:#1f77b4;\" x=\"177.941103\" xlink:href=\"#me06bdb908f\" y=\"110.72244\"/>\r\n",
       "     <use style=\"fill:#1f77b4;stroke:#1f77b4;\" x=\"136.889151\" xlink:href=\"#me06bdb908f\" y=\"92.953585\"/>\r\n",
       "     <use style=\"fill:#1f77b4;stroke:#1f77b4;\" x=\"159.956288\" xlink:href=\"#me06bdb908f\" y=\"97.385119\"/>\r\n",
       "     <use style=\"fill:#1f77b4;stroke:#1f77b4;\" x=\"128.553124\" xlink:href=\"#me06bdb908f\" y=\"76.855023\"/>\r\n",
       "     <use style=\"fill:#1f77b4;stroke:#1f77b4;\" x=\"122.622358\" xlink:href=\"#me06bdb908f\" y=\"50.354843\"/>\r\n",
       "     <use style=\"fill:#1f77b4;stroke:#1f77b4;\" x=\"177.114474\" xlink:href=\"#me06bdb908f\" y=\"117.595618\"/>\r\n",
       "     <use style=\"fill:#1f77b4;stroke:#1f77b4;\" x=\"73.839709\" xlink:href=\"#me06bdb908f\" y=\"34.456934\"/>\r\n",
       "     <use style=\"fill:#1f77b4;stroke:#1f77b4;\" x=\"101.388542\" xlink:href=\"#me06bdb908f\" y=\"45.280584\"/>\r\n",
       "     <use style=\"fill:#1f77b4;stroke:#1f77b4;\" x=\"126.816561\" xlink:href=\"#me06bdb908f\" y=\"66.149209\"/>\r\n",
       "     <use style=\"fill:#1f77b4;stroke:#1f77b4;\" x=\"115.818239\" xlink:href=\"#me06bdb908f\" y=\"65.315248\"/>\r\n",
       "     <use style=\"fill:#1f77b4;stroke:#1f77b4;\" x=\"65.72847\" xlink:href=\"#me06bdb908f\" y=\"29.772214\"/>\r\n",
       "     <use style=\"fill:#1f77b4;stroke:#1f77b4;\" x=\"154.012228\" xlink:href=\"#me06bdb908f\" y=\"104.354195\"/>\r\n",
       "     <use style=\"fill:#1f77b4;stroke:#1f77b4;\" x=\"81.669349\" xlink:href=\"#me06bdb908f\" y=\"49.109351\"/>\r\n",
       "     <use style=\"fill:#1f77b4;stroke:#1f77b4;\" x=\"127.501719\" xlink:href=\"#me06bdb908f\" y=\"75.410991\"/>\r\n",
       "     <use style=\"fill:#1f77b4;stroke:#1f77b4;\" x=\"129.565144\" xlink:href=\"#me06bdb908f\" y=\"66.2664\"/>\r\n",
       "     <use style=\"fill:#1f77b4;stroke:#1f77b4;\" x=\"150.528601\" xlink:href=\"#me06bdb908f\" y=\"83.231609\"/>\r\n",
       "     <use style=\"fill:#1f77b4;stroke:#1f77b4;\" x=\"149.765474\" xlink:href=\"#me06bdb908f\" y=\"81.293908\"/>\r\n",
       "     <use style=\"fill:#1f77b4;stroke:#1f77b4;\" x=\"123.943051\" xlink:href=\"#me06bdb908f\" y=\"83.612916\"/>\r\n",
       "     <use style=\"fill:#1f77b4;stroke:#1f77b4;\" x=\"126.460151\" xlink:href=\"#me06bdb908f\" y=\"72.987065\"/>\r\n",
       "     <use style=\"fill:#1f77b4;stroke:#1f77b4;\" x=\"144.394479\" xlink:href=\"#me06bdb908f\" y=\"67.227695\"/>\r\n",
       "     <use style=\"fill:#1f77b4;stroke:#1f77b4;\" x=\"144.571197\" xlink:href=\"#me06bdb908f\" y=\"87.709793\"/>\r\n",
       "     <use style=\"fill:#1f77b4;stroke:#1f77b4;\" x=\"119.381211\" xlink:href=\"#me06bdb908f\" y=\"62.087749\"/>\r\n",
       "     <use style=\"fill:#1f77b4;stroke:#1f77b4;\" x=\"123.816465\" xlink:href=\"#me06bdb908f\" y=\"70.001859\"/>\r\n",
       "     <use style=\"fill:#1f77b4;stroke:#1f77b4;\" x=\"89.129942\" xlink:href=\"#me06bdb908f\" y=\"65.717763\"/>\r\n",
       "     <use style=\"fill:#1f77b4;stroke:#1f77b4;\" x=\"114.115317\" xlink:href=\"#me06bdb908f\" y=\"55.278325\"/>\r\n",
       "     <use style=\"fill:#1f77b4;stroke:#1f77b4;\" x=\"176.927396\" xlink:href=\"#me06bdb908f\" y=\"108.185734\"/>\r\n",
       "     <use style=\"fill:#1f77b4;stroke:#1f77b4;\" x=\"122.667021\" xlink:href=\"#me06bdb908f\" y=\"63.522247\"/>\r\n",
       "     <use style=\"fill:#1f77b4;stroke:#1f77b4;\" x=\"123.881199\" xlink:href=\"#me06bdb908f\" y=\"77.927619\"/>\r\n",
       "     <use style=\"fill:#1f77b4;stroke:#1f77b4;\" x=\"109.499074\" xlink:href=\"#me06bdb908f\" y=\"59.960475\"/>\r\n",
       "     <use style=\"fill:#1f77b4;stroke:#1f77b4;\" x=\"136.514785\" xlink:href=\"#me06bdb908f\" y=\"81.76157\"/>\r\n",
       "     <use style=\"fill:#1f77b4;stroke:#1f77b4;\" x=\"112.31279\" xlink:href=\"#me06bdb908f\" y=\"51.185377\"/>\r\n",
       "     <use style=\"fill:#1f77b4;stroke:#1f77b4;\" x=\"134.024454\" xlink:href=\"#me06bdb908f\" y=\"70.223035\"/>\r\n",
       "     <use style=\"fill:#1f77b4;stroke:#1f77b4;\" x=\"151.048672\" xlink:href=\"#me06bdb908f\" y=\"87.2896\"/>\r\n",
       "     <use style=\"fill:#1f77b4;stroke:#1f77b4;\" x=\"203.863518\" xlink:href=\"#me06bdb908f\" y=\"118.110213\"/>\r\n",
       "     <use style=\"fill:#1f77b4;stroke:#1f77b4;\" x=\"133.547054\" xlink:href=\"#me06bdb908f\" y=\"65.439195\"/>\r\n",
       "     <use style=\"fill:#1f77b4;stroke:#1f77b4;\" x=\"118.467957\" xlink:href=\"#me06bdb908f\" y=\"62.174434\"/>\r\n",
       "     <use style=\"fill:#1f77b4;stroke:#1f77b4;\" x=\"173.085202\" xlink:href=\"#me06bdb908f\" y=\"101.768023\"/>\r\n",
       "     <use style=\"fill:#1f77b4;stroke:#1f77b4;\" x=\"134.849806\" xlink:href=\"#me06bdb908f\" y=\"68.840172\"/>\r\n",
       "     <use style=\"fill:#1f77b4;stroke:#1f77b4;\" x=\"110.838531\" xlink:href=\"#me06bdb908f\" y=\"66.49297\"/>\r\n",
       "     <use style=\"fill:#1f77b4;stroke:#1f77b4;\" x=\"176.035965\" xlink:href=\"#me06bdb908f\" y=\"122.405367\"/>\r\n",
       "     <use style=\"fill:#1f77b4;stroke:#1f77b4;\" x=\"128.337444\" xlink:href=\"#me06bdb908f\" y=\"81.939731\"/>\r\n",
       "     <use style=\"fill:#1f77b4;stroke:#1f77b4;\" x=\"116.237489\" xlink:href=\"#me06bdb908f\" y=\"78.190477\"/>\r\n",
       "     <use style=\"fill:#1f77b4;stroke:#1f77b4;\" x=\"162.157984\" xlink:href=\"#me06bdb908f\" y=\"102.542084\"/>\r\n",
       "     <use style=\"fill:#1f77b4;stroke:#1f77b4;\" x=\"129.267924\" xlink:href=\"#me06bdb908f\" y=\"75.586201\"/>\r\n",
       "     <use style=\"fill:#1f77b4;stroke:#1f77b4;\" x=\"142.733061\" xlink:href=\"#me06bdb908f\" y=\"78.69015\"/>\r\n",
       "     <use style=\"fill:#1f77b4;stroke:#1f77b4;\" x=\"118.628013\" xlink:href=\"#me06bdb908f\" y=\"60.64679\"/>\r\n",
       "     <use style=\"fill:#1f77b4;stroke:#1f77b4;\" x=\"99.616094\" xlink:href=\"#me06bdb908f\" y=\"49.13909\"/>\r\n",
       "     <use style=\"fill:#1f77b4;stroke:#1f77b4;\" x=\"128.838715\" xlink:href=\"#me06bdb908f\" y=\"85.710437\"/>\r\n",
       "     <use style=\"fill:#1f77b4;stroke:#1f77b4;\" x=\"145.877384\" xlink:href=\"#me06bdb908f\" y=\"90.086635\"/>\r\n",
       "     <use style=\"fill:#1f77b4;stroke:#1f77b4;\" x=\"101.876396\" xlink:href=\"#me06bdb908f\" y=\"58.911831\"/>\r\n",
       "     <use style=\"fill:#1f77b4;stroke:#1f77b4;\" x=\"137.752043\" xlink:href=\"#me06bdb908f\" y=\"63.097349\"/>\r\n",
       "     <use style=\"fill:#1f77b4;stroke:#1f77b4;\" x=\"149.274031\" xlink:href=\"#me06bdb908f\" y=\"86.812114\"/>\r\n",
       "     <use style=\"fill:#1f77b4;stroke:#1f77b4;\" x=\"128.659495\" xlink:href=\"#me06bdb908f\" y=\"72.510659\"/>\r\n",
       "     <use style=\"fill:#1f77b4;stroke:#1f77b4;\" x=\"118.463437\" xlink:href=\"#me06bdb908f\" y=\"79.521469\"/>\r\n",
       "     <use style=\"fill:#1f77b4;stroke:#1f77b4;\" x=\"129.754133\" xlink:href=\"#me06bdb908f\" y=\"87.654445\"/>\r\n",
       "     <use style=\"fill:#1f77b4;stroke:#1f77b4;\" x=\"122.49218\" xlink:href=\"#me06bdb908f\" y=\"68.35591\"/>\r\n",
       "     <use style=\"fill:#1f77b4;stroke:#1f77b4;\" x=\"125.642378\" xlink:href=\"#me06bdb908f\" y=\"70.320098\"/>\r\n",
       "     <use style=\"fill:#1f77b4;stroke:#1f77b4;\" x=\"108.949758\" xlink:href=\"#me06bdb908f\" y=\"62.513385\"/>\r\n",
       "     <use style=\"fill:#1f77b4;stroke:#1f77b4;\" x=\"107.785298\" xlink:href=\"#me06bdb908f\" y=\"44.77854\"/>\r\n",
       "     <use style=\"fill:#1f77b4;stroke:#1f77b4;\" x=\"86.979976\" xlink:href=\"#me06bdb908f\" y=\"59.197565\"/>\r\n",
       "     <use style=\"fill:#1f77b4;stroke:#1f77b4;\" x=\"109.678971\" xlink:href=\"#me06bdb908f\" y=\"67.292968\"/>\r\n",
       "     <use style=\"fill:#1f77b4;stroke:#1f77b4;\" x=\"122.639832\" xlink:href=\"#me06bdb908f\" y=\"60.651766\"/>\r\n",
       "     <use style=\"fill:#1f77b4;stroke:#1f77b4;\" x=\"132.873421\" xlink:href=\"#me06bdb908f\" y=\"79.01065\"/>\r\n",
       "     <use style=\"fill:#1f77b4;stroke:#1f77b4;\" x=\"160.934295\" xlink:href=\"#me06bdb908f\" y=\"98.777935\"/>\r\n",
       "     <use style=\"fill:#1f77b4;stroke:#1f77b4;\" x=\"128.656705\" xlink:href=\"#me06bdb908f\" y=\"69.976527\"/>\r\n",
       "     <use style=\"fill:#1f77b4;stroke:#1f77b4;\" x=\"141.040055\" xlink:href=\"#me06bdb908f\" y=\"81.478525\"/>\r\n",
       "     <use style=\"fill:#1f77b4;stroke:#1f77b4;\" x=\"112.390637\" xlink:href=\"#me06bdb908f\" y=\"81.910847\"/>\r\n",
       "     <use style=\"fill:#1f77b4;stroke:#1f77b4;\" x=\"121.05784\" xlink:href=\"#me06bdb908f\" y=\"68.950226\"/>\r\n",
       "     <use style=\"fill:#1f77b4;stroke:#1f77b4;\" x=\"58.342065\" xlink:href=\"#me06bdb908f\" y=\"30.073514\"/>\r\n",
       "     <use style=\"fill:#1f77b4;stroke:#1f77b4;\" x=\"112.276413\" xlink:href=\"#me06bdb908f\" y=\"58.127048\"/>\r\n",
       "     <use style=\"fill:#1f77b4;stroke:#1f77b4;\" x=\"92.20033\" xlink:href=\"#me06bdb908f\" y=\"40.340744\"/>\r\n",
       "     <use style=\"fill:#1f77b4;stroke:#1f77b4;\" x=\"122.286246\" xlink:href=\"#me06bdb908f\" y=\"75.811167\"/>\r\n",
       "     <use style=\"fill:#1f77b4;stroke:#1f77b4;\" x=\"144.975084\" xlink:href=\"#me06bdb908f\" y=\"80.409584\"/>\r\n",
       "     <use style=\"fill:#1f77b4;stroke:#1f77b4;\" x=\"132.202198\" xlink:href=\"#me06bdb908f\" y=\"76.684472\"/>\r\n",
       "     <use style=\"fill:#1f77b4;stroke:#1f77b4;\" x=\"166.075101\" xlink:href=\"#me06bdb908f\" y=\"84.068596\"/>\r\n",
       "     <use style=\"fill:#1f77b4;stroke:#1f77b4;\" x=\"148.78126\" xlink:href=\"#me06bdb908f\" y=\"89.435076\"/>\r\n",
       "     <use style=\"fill:#1f77b4;stroke:#1f77b4;\" x=\"109.509392\" xlink:href=\"#me06bdb908f\" y=\"47.875843\"/>\r\n",
       "     <use style=\"fill:#1f77b4;stroke:#1f77b4;\" x=\"111.132542\" xlink:href=\"#me06bdb908f\" y=\"61.585565\"/>\r\n",
       "     <use style=\"fill:#1f77b4;stroke:#1f77b4;\" x=\"126.143603\" xlink:href=\"#me06bdb908f\" y=\"61.777855\"/>\r\n",
       "     <use style=\"fill:#1f77b4;stroke:#1f77b4;\" x=\"100.712353\" xlink:href=\"#me06bdb908f\" y=\"56.420556\"/>\r\n",
       "     <use style=\"fill:#1f77b4;stroke:#1f77b4;\" x=\"113.903525\" xlink:href=\"#me06bdb908f\" y=\"55.4325\"/>\r\n",
       "     <use style=\"fill:#1f77b4;stroke:#1f77b4;\" x=\"90.888611\" xlink:href=\"#me06bdb908f\" y=\"49.333249\"/>\r\n",
       "     <use style=\"fill:#1f77b4;stroke:#1f77b4;\" x=\"122.158764\" xlink:href=\"#me06bdb908f\" y=\"70.47986\"/>\r\n",
       "     <use style=\"fill:#1f77b4;stroke:#1f77b4;\" x=\"125.760381\" xlink:href=\"#me06bdb908f\" y=\"74.976822\"/>\r\n",
       "     <use style=\"fill:#1f77b4;stroke:#1f77b4;\" x=\"169.073008\" xlink:href=\"#me06bdb908f\" y=\"95.256107\"/>\r\n",
       "     <use style=\"fill:#1f77b4;stroke:#1f77b4;\" x=\"110.127102\" xlink:href=\"#me06bdb908f\" y=\"65.056949\"/>\r\n",
       "     <use style=\"fill:#1f77b4;stroke:#1f77b4;\" x=\"137.160529\" xlink:href=\"#me06bdb908f\" y=\"85.109923\"/>\r\n",
       "     <use style=\"fill:#1f77b4;stroke:#1f77b4;\" x=\"162.874404\" xlink:href=\"#me06bdb908f\" y=\"104.201467\"/>\r\n",
       "     <use style=\"fill:#1f77b4;stroke:#1f77b4;\" x=\"142.496939\" xlink:href=\"#me06bdb908f\" y=\"89.843041\"/>\r\n",
       "     <use style=\"fill:#1f77b4;stroke:#1f77b4;\" x=\"123.768967\" xlink:href=\"#me06bdb908f\" y=\"73.621782\"/>\r\n",
       "     <use style=\"fill:#1f77b4;stroke:#1f77b4;\" x=\"158.125821\" xlink:href=\"#me06bdb908f\" y=\"84.885315\"/>\r\n",
       "     <use style=\"fill:#1f77b4;stroke:#1f77b4;\" x=\"86.894447\" xlink:href=\"#me06bdb908f\" y=\"48.717741\"/>\r\n",
       "     <use style=\"fill:#1f77b4;stroke:#1f77b4;\" x=\"164.720888\" xlink:href=\"#me06bdb908f\" y=\"103.415451\"/>\r\n",
       "     <use style=\"fill:#1f77b4;stroke:#1f77b4;\" x=\"118.118721\" xlink:href=\"#me06bdb908f\" y=\"61.319453\"/>\r\n",
       "     <use style=\"fill:#1f77b4;stroke:#1f77b4;\" x=\"52.981008\" xlink:href=\"#me06bdb908f\" y=\"14.293822\"/>\r\n",
       "     <use style=\"fill:#1f77b4;stroke:#1f77b4;\" x=\"144.77093\" xlink:href=\"#me06bdb908f\" y=\"83.148418\"/>\r\n",
       "     <use style=\"fill:#1f77b4;stroke:#1f77b4;\" x=\"152.464965\" xlink:href=\"#me06bdb908f\" y=\"95.448583\"/>\r\n",
       "     <use style=\"fill:#1f77b4;stroke:#1f77b4;\" x=\"107.746751\" xlink:href=\"#me06bdb908f\" y=\"63.984848\"/>\r\n",
       "     <use style=\"fill:#1f77b4;stroke:#1f77b4;\" x=\"146.378626\" xlink:href=\"#me06bdb908f\" y=\"79.646451\"/>\r\n",
       "     <use style=\"fill:#1f77b4;stroke:#1f77b4;\" x=\"142.584018\" xlink:href=\"#me06bdb908f\" y=\"92.809168\"/>\r\n",
       "     <use style=\"fill:#1f77b4;stroke:#1f77b4;\" x=\"148.65291\" xlink:href=\"#me06bdb908f\" y=\"77.431545\"/>\r\n",
       "     <use style=\"fill:#1f77b4;stroke:#1f77b4;\" x=\"122.83146\" xlink:href=\"#me06bdb908f\" y=\"63.868989\"/>\r\n",
       "     <use style=\"fill:#1f77b4;stroke:#1f77b4;\" x=\"98.638735\" xlink:href=\"#me06bdb908f\" y=\"48.698041\"/>\r\n",
       "     <use style=\"fill:#1f77b4;stroke:#1f77b4;\" x=\"115.016067\" xlink:href=\"#me06bdb908f\" y=\"61.503487\"/>\r\n",
       "     <use style=\"fill:#1f77b4;stroke:#1f77b4;\" x=\"125.877968\" xlink:href=\"#me06bdb908f\" y=\"75.865478\"/>\r\n",
       "     <use style=\"fill:#1f77b4;stroke:#1f77b4;\" x=\"91.129236\" xlink:href=\"#me06bdb908f\" y=\"43.702389\"/>\r\n",
       "     <use style=\"fill:#1f77b4;stroke:#1f77b4;\" x=\"104.106736\" xlink:href=\"#me06bdb908f\" y=\"52.138547\"/>\r\n",
       "     <use style=\"fill:#1f77b4;stroke:#1f77b4;\" x=\"105.078146\" xlink:href=\"#me06bdb908f\" y=\"60.356376\"/>\r\n",
       "     <use style=\"fill:#1f77b4;stroke:#1f77b4;\" x=\"65.694109\" xlink:href=\"#me06bdb908f\" y=\"36.976809\"/>\r\n",
       "     <use style=\"fill:#1f77b4;stroke:#1f77b4;\" x=\"110.590496\" xlink:href=\"#me06bdb908f\" y=\"60.642031\"/>\r\n",
       "     <use style=\"fill:#1f77b4;stroke:#1f77b4;\" x=\"114.11596\" xlink:href=\"#me06bdb908f\" y=\"59.555876\"/>\r\n",
       "     <use style=\"fill:#1f77b4;stroke:#1f77b4;\" x=\"108.004021\" xlink:href=\"#me06bdb908f\" y=\"55.203271\"/>\r\n",
       "     <use style=\"fill:#1f77b4;stroke:#1f77b4;\" x=\"140.662822\" xlink:href=\"#me06bdb908f\" y=\"73.125766\"/>\r\n",
       "     <use style=\"fill:#1f77b4;stroke:#1f77b4;\" x=\"106.655304\" xlink:href=\"#me06bdb908f\" y=\"52.366564\"/>\r\n",
       "     <use style=\"fill:#1f77b4;stroke:#1f77b4;\" x=\"111.406616\" xlink:href=\"#me06bdb908f\" y=\"58.828945\"/>\r\n",
       "     <use style=\"fill:#1f77b4;stroke:#1f77b4;\" x=\"81.77316\" xlink:href=\"#me06bdb908f\" y=\"23.10908\"/>\r\n",
       "     <use style=\"fill:#1f77b4;stroke:#1f77b4;\" x=\"91.783185\" xlink:href=\"#me06bdb908f\" y=\"40.513414\"/>\r\n",
       "     <use style=\"fill:#1f77b4;stroke:#1f77b4;\" x=\"156.904685\" xlink:href=\"#me06bdb908f\" y=\"92.127002\"/>\r\n",
       "     <use style=\"fill:#1f77b4;stroke:#1f77b4;\" x=\"134.099513\" xlink:href=\"#me06bdb908f\" y=\"72.323084\"/>\r\n",
       "     <use style=\"fill:#1f77b4;stroke:#1f77b4;\" x=\"132.676129\" xlink:href=\"#me06bdb908f\" y=\"93.299884\"/>\r\n",
       "     <use style=\"fill:#1f77b4;stroke:#1f77b4;\" x=\"86.378919\" xlink:href=\"#me06bdb908f\" y=\"41.546285\"/>\r\n",
       "     <use style=\"fill:#1f77b4;stroke:#1f77b4;\" x=\"169.336043\" xlink:href=\"#me06bdb908f\" y=\"88.750173\"/>\r\n",
       "     <use style=\"fill:#1f77b4;stroke:#1f77b4;\" x=\"143.423069\" xlink:href=\"#me06bdb908f\" y=\"86.100007\"/>\r\n",
       "     <use style=\"fill:#1f77b4;stroke:#1f77b4;\" x=\"147.59737\" xlink:href=\"#me06bdb908f\" y=\"84.879325\"/>\r\n",
       "     <use style=\"fill:#1f77b4;stroke:#1f77b4;\" x=\"133.128549\" xlink:href=\"#me06bdb908f\" y=\"73.449401\"/>\r\n",
       "     <use style=\"fill:#1f77b4;stroke:#1f77b4;\" x=\"143.612915\" xlink:href=\"#me06bdb908f\" y=\"81.019771\"/>\r\n",
       "     <use style=\"fill:#1f77b4;stroke:#1f77b4;\" x=\"138.136525\" xlink:href=\"#me06bdb908f\" y=\"83.058106\"/>\r\n",
       "     <use style=\"fill:#1f77b4;stroke:#1f77b4;\" x=\"122.006011\" xlink:href=\"#me06bdb908f\" y=\"82.0994\"/>\r\n",
       "     <use style=\"fill:#1f77b4;stroke:#1f77b4;\" x=\"104.90113\" xlink:href=\"#me06bdb908f\" y=\"62.66742\"/>\r\n",
       "     <use style=\"fill:#1f77b4;stroke:#1f77b4;\" x=\"125.814131\" xlink:href=\"#me06bdb908f\" y=\"74.156115\"/>\r\n",
       "     <use style=\"fill:#1f77b4;stroke:#1f77b4;\" x=\"133.402027\" xlink:href=\"#me06bdb908f\" y=\"74.717602\"/>\r\n",
       "     <use style=\"fill:#1f77b4;stroke:#1f77b4;\" x=\"87.94346\" xlink:href=\"#me06bdb908f\" y=\"54.248933\"/>\r\n",
       "     <use style=\"fill:#1f77b4;stroke:#1f77b4;\" x=\"129.796801\" xlink:href=\"#me06bdb908f\" y=\"75.434841\"/>\r\n",
       "     <use style=\"fill:#1f77b4;stroke:#1f77b4;\" x=\"146.809164\" xlink:href=\"#me06bdb908f\" y=\"82.047643\"/>\r\n",
       "     <use style=\"fill:#1f77b4;stroke:#1f77b4;\" x=\"106.305679\" xlink:href=\"#me06bdb908f\" y=\"60.377967\"/>\r\n",
       "     <use style=\"fill:#1f77b4;stroke:#1f77b4;\" x=\"125.218581\" xlink:href=\"#me06bdb908f\" y=\"78.690578\"/>\r\n",
       "     <use style=\"fill:#1f77b4;stroke:#1f77b4;\" x=\"145.74425\" xlink:href=\"#me06bdb908f\" y=\"92.405672\"/>\r\n",
       "     <use style=\"fill:#1f77b4;stroke:#1f77b4;\" x=\"128.940996\" xlink:href=\"#me06bdb908f\" y=\"74.761288\"/>\r\n",
       "     <use style=\"fill:#1f77b4;stroke:#1f77b4;\" x=\"132.617827\" xlink:href=\"#me06bdb908f\" y=\"68.298574\"/>\r\n",
       "     <use style=\"fill:#1f77b4;stroke:#1f77b4;\" x=\"162.423505\" xlink:href=\"#me06bdb908f\" y=\"96.409774\"/>\r\n",
       "     <use style=\"fill:#1f77b4;stroke:#1f77b4;\" x=\"104.558914\" xlink:href=\"#me06bdb908f\" y=\"47.984464\"/>\r\n",
       "     <use style=\"fill:#1f77b4;stroke:#1f77b4;\" x=\"110.807433\" xlink:href=\"#me06bdb908f\" y=\"63.781337\"/>\r\n",
       "     <use style=\"fill:#1f77b4;stroke:#1f77b4;\" x=\"87.490897\" xlink:href=\"#me06bdb908f\" y=\"60.525061\"/>\r\n",
       "     <use style=\"fill:#1f77b4;stroke:#1f77b4;\" x=\"170.752659\" xlink:href=\"#me06bdb908f\" y=\"119.048098\"/>\r\n",
       "     <use style=\"fill:#1f77b4;stroke:#1f77b4;\" x=\"112.806036\" xlink:href=\"#me06bdb908f\" y=\"45.607003\"/>\r\n",
       "     <use style=\"fill:#1f77b4;stroke:#1f77b4;\" x=\"180.367355\" xlink:href=\"#me06bdb908f\" y=\"107.740251\"/>\r\n",
       "     <use style=\"fill:#1f77b4;stroke:#1f77b4;\" x=\"118.270443\" xlink:href=\"#me06bdb908f\" y=\"71.561978\"/>\r\n",
       "     <use style=\"fill:#1f77b4;stroke:#1f77b4;\" x=\"130.536618\" xlink:href=\"#me06bdb908f\" y=\"74.68899\"/>\r\n",
       "     <use style=\"fill:#1f77b4;stroke:#1f77b4;\" x=\"107.12464\" xlink:href=\"#me06bdb908f\" y=\"68.086857\"/>\r\n",
       "     <use style=\"fill:#1f77b4;stroke:#1f77b4;\" x=\"141.736554\" xlink:href=\"#me06bdb908f\" y=\"90.281077\"/>\r\n",
       "     <use style=\"fill:#1f77b4;stroke:#1f77b4;\" x=\"92.786404\" xlink:href=\"#me06bdb908f\" y=\"46.218811\"/>\r\n",
       "     <use style=\"fill:#1f77b4;stroke:#1f77b4;\" x=\"111.751918\" xlink:href=\"#me06bdb908f\" y=\"73.656004\"/>\r\n",
       "     <use style=\"fill:#1f77b4;stroke:#1f77b4;\" x=\"108.072965\" xlink:href=\"#me06bdb908f\" y=\"78.164864\"/>\r\n",
       "     <use style=\"fill:#1f77b4;stroke:#1f77b4;\" x=\"163.458826\" xlink:href=\"#me06bdb908f\" y=\"103.752801\"/>\r\n",
       "     <use style=\"fill:#1f77b4;stroke:#1f77b4;\" x=\"117.785715\" xlink:href=\"#me06bdb908f\" y=\"52.017198\"/>\r\n",
       "     <use style=\"fill:#1f77b4;stroke:#1f77b4;\" x=\"140.084012\" xlink:href=\"#me06bdb908f\" y=\"79.642495\"/>\r\n",
       "     <use style=\"fill:#1f77b4;stroke:#1f77b4;\" x=\"126.627553\" xlink:href=\"#me06bdb908f\" y=\"66.75526\"/>\r\n",
       "     <use style=\"fill:#1f77b4;stroke:#1f77b4;\" x=\"131.020885\" xlink:href=\"#me06bdb908f\" y=\"97.469506\"/>\r\n",
       "     <use style=\"fill:#1f77b4;stroke:#1f77b4;\" x=\"98.583785\" xlink:href=\"#me06bdb908f\" y=\"53.557552\"/>\r\n",
       "     <use style=\"fill:#1f77b4;stroke:#1f77b4;\" x=\"123.493773\" xlink:href=\"#me06bdb908f\" y=\"53.721918\"/>\r\n",
       "     <use style=\"fill:#1f77b4;stroke:#1f77b4;\" x=\"104.750878\" xlink:href=\"#me06bdb908f\" y=\"50.99912\"/>\r\n",
       "     <use style=\"fill:#1f77b4;stroke:#1f77b4;\" x=\"102.493483\" xlink:href=\"#me06bdb908f\" y=\"50.787941\"/>\r\n",
       "     <use style=\"fill:#1f77b4;stroke:#1f77b4;\" x=\"151.168358\" xlink:href=\"#me06bdb908f\" y=\"77.037709\"/>\r\n",
       "     <use style=\"fill:#1f77b4;stroke:#1f77b4;\" x=\"91.207356\" xlink:href=\"#me06bdb908f\" y=\"41.435164\"/>\r\n",
       "     <use style=\"fill:#1f77b4;stroke:#1f77b4;\" x=\"150.805659\" xlink:href=\"#me06bdb908f\" y=\"82.697321\"/>\r\n",
       "     <use style=\"fill:#1f77b4;stroke:#1f77b4;\" x=\"141.454877\" xlink:href=\"#me06bdb908f\" y=\"72.588016\"/>\r\n",
       "     <use style=\"fill:#1f77b4;stroke:#1f77b4;\" x=\"117.51263\" xlink:href=\"#me06bdb908f\" y=\"58.597711\"/>\r\n",
       "     <use style=\"fill:#1f77b4;stroke:#1f77b4;\" x=\"153.95548\" xlink:href=\"#me06bdb908f\" y=\"92.963332\"/>\r\n",
       "     <use style=\"fill:#1f77b4;stroke:#1f77b4;\" x=\"96.029884\" xlink:href=\"#me06bdb908f\" y=\"41.945994\"/>\r\n",
       "     <use style=\"fill:#1f77b4;stroke:#1f77b4;\" x=\"114.920206\" xlink:href=\"#me06bdb908f\" y=\"53.646621\"/>\r\n",
       "     <use style=\"fill:#1f77b4;stroke:#1f77b4;\" x=\"150.254596\" xlink:href=\"#me06bdb908f\" y=\"89.225555\"/>\r\n",
       "     <use style=\"fill:#1f77b4;stroke:#1f77b4;\" x=\"84.547823\" xlink:href=\"#me06bdb908f\" y=\"38.441253\"/>\r\n",
       "     <use style=\"fill:#1f77b4;stroke:#1f77b4;\" x=\"123.219189\" xlink:href=\"#me06bdb908f\" y=\"60.530181\"/>\r\n",
       "     <use style=\"fill:#1f77b4;stroke:#1f77b4;\" x=\"111.313686\" xlink:href=\"#me06bdb908f\" y=\"48.878255\"/>\r\n",
       "     <use style=\"fill:#1f77b4;stroke:#1f77b4;\" x=\"200.945668\" xlink:href=\"#me06bdb908f\" y=\"126.476718\"/>\r\n",
       "     <use style=\"fill:#1f77b4;stroke:#1f77b4;\" x=\"86.810628\" xlink:href=\"#me06bdb908f\" y=\"47.698354\"/>\r\n",
       "     <use style=\"fill:#1f77b4;stroke:#1f77b4;\" x=\"154.476145\" xlink:href=\"#me06bdb908f\" y=\"81.3835\"/>\r\n",
       "     <use style=\"fill:#1f77b4;stroke:#1f77b4;\" x=\"115.385968\" xlink:href=\"#me06bdb908f\" y=\"81.258343\"/>\r\n",
       "     <use style=\"fill:#1f77b4;stroke:#1f77b4;\" x=\"111.321061\" xlink:href=\"#me06bdb908f\" y=\"52.989045\"/>\r\n",
       "     <use style=\"fill:#1f77b4;stroke:#1f77b4;\" x=\"144.915144\" xlink:href=\"#me06bdb908f\" y=\"87.977227\"/>\r\n",
       "     <use style=\"fill:#1f77b4;stroke:#1f77b4;\" x=\"90.406632\" xlink:href=\"#me06bdb908f\" y=\"49.52846\"/>\r\n",
       "     <use style=\"fill:#1f77b4;stroke:#1f77b4;\" x=\"124.063521\" xlink:href=\"#me06bdb908f\" y=\"66.088274\"/>\r\n",
       "     <use style=\"fill:#1f77b4;stroke:#1f77b4;\" x=\"108.185863\" xlink:href=\"#me06bdb908f\" y=\"55.728111\"/>\r\n",
       "     <use style=\"fill:#1f77b4;stroke:#1f77b4;\" x=\"86.00026\" xlink:href=\"#me06bdb908f\" y=\"32.048072\"/>\r\n",
       "     <use style=\"fill:#1f77b4;stroke:#1f77b4;\" x=\"92.00733\" xlink:href=\"#me06bdb908f\" y=\"56.784594\"/>\r\n",
       "     <use style=\"fill:#1f77b4;stroke:#1f77b4;\" x=\"148.894471\" xlink:href=\"#me06bdb908f\" y=\"92.317878\"/>\r\n",
       "     <use style=\"fill:#1f77b4;stroke:#1f77b4;\" x=\"153.367238\" xlink:href=\"#me06bdb908f\" y=\"95.753971\"/>\r\n",
       "     <use style=\"fill:#1f77b4;stroke:#1f77b4;\" x=\"102.200644\" xlink:href=\"#me06bdb908f\" y=\"45.530937\"/>\r\n",
       "     <use style=\"fill:#1f77b4;stroke:#1f77b4;\" x=\"110.484209\" xlink:href=\"#me06bdb908f\" y=\"69.539352\"/>\r\n",
       "     <use style=\"fill:#1f77b4;stroke:#1f77b4;\" x=\"159.174115\" xlink:href=\"#me06bdb908f\" y=\"102.271134\"/>\r\n",
       "     <use style=\"fill:#1f77b4;stroke:#1f77b4;\" x=\"163.098343\" xlink:href=\"#me06bdb908f\" y=\"84.203018\"/>\r\n",
       "     <use style=\"fill:#1f77b4;stroke:#1f77b4;\" x=\"121.037678\" xlink:href=\"#me06bdb908f\" y=\"56.253016\"/>\r\n",
       "     <use style=\"fill:#1f77b4;stroke:#1f77b4;\" x=\"167.76555\" xlink:href=\"#me06bdb908f\" y=\"94.274499\"/>\r\n",
       "     <use style=\"fill:#1f77b4;stroke:#1f77b4;\" x=\"139.208803\" xlink:href=\"#me06bdb908f\" y=\"77.960183\"/>\r\n",
       "     <use style=\"fill:#1f77b4;stroke:#1f77b4;\" x=\"151.967111\" xlink:href=\"#me06bdb908f\" y=\"86.451028\"/>\r\n",
       "     <use style=\"fill:#1f77b4;stroke:#1f77b4;\" x=\"150.911038\" xlink:href=\"#me06bdb908f\" y=\"88.630033\"/>\r\n",
       "     <use style=\"fill:#1f77b4;stroke:#1f77b4;\" x=\"162.823718\" xlink:href=\"#me06bdb908f\" y=\"90.428768\"/>\r\n",
       "     <use style=\"fill:#1f77b4;stroke:#1f77b4;\" x=\"102.381166\" xlink:href=\"#me06bdb908f\" y=\"51.57709\"/>\r\n",
       "     <use style=\"fill:#1f77b4;stroke:#1f77b4;\" x=\"131.793083\" xlink:href=\"#me06bdb908f\" y=\"82.159334\"/>\r\n",
       "     <use style=\"fill:#1f77b4;stroke:#1f77b4;\" x=\"139.437376\" xlink:href=\"#me06bdb908f\" y=\"72.820682\"/>\r\n",
       "     <use style=\"fill:#1f77b4;stroke:#1f77b4;\" x=\"128.900144\" xlink:href=\"#me06bdb908f\" y=\"68.55129\"/>\r\n",
       "     <use style=\"fill:#1f77b4;stroke:#1f77b4;\" x=\"130.991633\" xlink:href=\"#me06bdb908f\" y=\"72.322323\"/>\r\n",
       "     <use style=\"fill:#1f77b4;stroke:#1f77b4;\" x=\"117.099731\" xlink:href=\"#me06bdb908f\" y=\"54.864857\"/>\r\n",
       "     <use style=\"fill:#1f77b4;stroke:#1f77b4;\" x=\"141.623311\" xlink:href=\"#me06bdb908f\" y=\"81.796253\"/>\r\n",
       "     <use style=\"fill:#1f77b4;stroke:#1f77b4;\" x=\"65.360129\" xlink:href=\"#me06bdb908f\" y=\"29.210716\"/>\r\n",
       "     <use style=\"fill:#1f77b4;stroke:#1f77b4;\" x=\"110.567562\" xlink:href=\"#me06bdb908f\" y=\"68.800372\"/>\r\n",
       "     <use style=\"fill:#1f77b4;stroke:#1f77b4;\" x=\"71.7277\" xlink:href=\"#me06bdb908f\" y=\"40.480732\"/>\r\n",
       "     <use style=\"fill:#1f77b4;stroke:#1f77b4;\" x=\"107.863869\" xlink:href=\"#me06bdb908f\" y=\"52.069462\"/>\r\n",
       "     <use style=\"fill:#1f77b4;stroke:#1f77b4;\" x=\"127.051062\" xlink:href=\"#me06bdb908f\" y=\"73.456026\"/>\r\n",
       "     <use style=\"fill:#1f77b4;stroke:#1f77b4;\" x=\"138.448126\" xlink:href=\"#me06bdb908f\" y=\"90.947271\"/>\r\n",
       "     <use style=\"fill:#1f77b4;stroke:#1f77b4;\" x=\"97.578174\" xlink:href=\"#me06bdb908f\" y=\"59.804531\"/>\r\n",
       "     <use style=\"fill:#1f77b4;stroke:#1f77b4;\" x=\"132.971951\" xlink:href=\"#me06bdb908f\" y=\"74.28194\"/>\r\n",
       "     <use style=\"fill:#1f77b4;stroke:#1f77b4;\" x=\"134.391913\" xlink:href=\"#me06bdb908f\" y=\"86.949495\"/>\r\n",
       "     <use style=\"fill:#1f77b4;stroke:#1f77b4;\" x=\"178.402173\" xlink:href=\"#me06bdb908f\" y=\"93.756404\"/>\r\n",
       "     <use style=\"fill:#1f77b4;stroke:#1f77b4;\" x=\"122.517152\" xlink:href=\"#me06bdb908f\" y=\"67.802733\"/>\r\n",
       "     <use style=\"fill:#1f77b4;stroke:#1f77b4;\" x=\"108.420067\" xlink:href=\"#me06bdb908f\" y=\"48.262475\"/>\r\n",
       "     <use style=\"fill:#1f77b4;stroke:#1f77b4;\" x=\"159.997978\" xlink:href=\"#me06bdb908f\" y=\"100.42043\"/>\r\n",
       "     <use style=\"fill:#1f77b4;stroke:#1f77b4;\" x=\"126.641684\" xlink:href=\"#me06bdb908f\" y=\"77.281898\"/>\r\n",
       "     <use style=\"fill:#1f77b4;stroke:#1f77b4;\" x=\"120.446155\" xlink:href=\"#me06bdb908f\" y=\"81.452637\"/>\r\n",
       "     <use style=\"fill:#1f77b4;stroke:#1f77b4;\" x=\"179.191764\" xlink:href=\"#me06bdb908f\" y=\"111.990684\"/>\r\n",
       "     <use style=\"fill:#1f77b4;stroke:#1f77b4;\" x=\"130.85733\" xlink:href=\"#me06bdb908f\" y=\"67.576401\"/>\r\n",
       "     <use style=\"fill:#1f77b4;stroke:#1f77b4;\" x=\"123.770241\" xlink:href=\"#me06bdb908f\" y=\"66.649112\"/>\r\n",
       "     <use style=\"fill:#1f77b4;stroke:#1f77b4;\" x=\"78.806452\" xlink:href=\"#me06bdb908f\" y=\"39.085222\"/>\r\n",
       "     <use style=\"fill:#1f77b4;stroke:#1f77b4;\" x=\"143.503772\" xlink:href=\"#me06bdb908f\" y=\"68.457551\"/>\r\n",
       "     <use style=\"fill:#1f77b4;stroke:#1f77b4;\" x=\"137.667459\" xlink:href=\"#me06bdb908f\" y=\"75.671294\"/>\r\n",
       "     <use style=\"fill:#1f77b4;stroke:#1f77b4;\" x=\"142.652446\" xlink:href=\"#me06bdb908f\" y=\"80.957232\"/>\r\n",
       "     <use style=\"fill:#1f77b4;stroke:#1f77b4;\" x=\"138.6892\" xlink:href=\"#me06bdb908f\" y=\"59.924079\"/>\r\n",
       "     <use style=\"fill:#1f77b4;stroke:#1f77b4;\" x=\"143.204539\" xlink:href=\"#me06bdb908f\" y=\"71.912772\"/>\r\n",
       "     <use style=\"fill:#1f77b4;stroke:#1f77b4;\" x=\"123.422744\" xlink:href=\"#me06bdb908f\" y=\"67.415054\"/>\r\n",
       "     <use style=\"fill:#1f77b4;stroke:#1f77b4;\" x=\"88.496671\" xlink:href=\"#me06bdb908f\" y=\"40.617768\"/>\r\n",
       "     <use style=\"fill:#1f77b4;stroke:#1f77b4;\" x=\"96.066503\" xlink:href=\"#me06bdb908f\" y=\"45.835657\"/>\r\n",
       "     <use style=\"fill:#1f77b4;stroke:#1f77b4;\" x=\"132.70191\" xlink:href=\"#me06bdb908f\" y=\"73.190755\"/>\r\n",
       "     <use style=\"fill:#1f77b4;stroke:#1f77b4;\" x=\"128.760351\" xlink:href=\"#me06bdb908f\" y=\"82.337754\"/>\r\n",
       "     <use style=\"fill:#1f77b4;stroke:#1f77b4;\" x=\"120.322193\" xlink:href=\"#me06bdb908f\" y=\"60.974955\"/>\r\n",
       "     <use style=\"fill:#1f77b4;stroke:#1f77b4;\" x=\"125.701176\" xlink:href=\"#me06bdb908f\" y=\"52.551461\"/>\r\n",
       "     <use style=\"fill:#1f77b4;stroke:#1f77b4;\" x=\"104.470017\" xlink:href=\"#me06bdb908f\" y=\"45.877199\"/>\r\n",
       "     <use style=\"fill:#1f77b4;stroke:#1f77b4;\" x=\"137.396019\" xlink:href=\"#me06bdb908f\" y=\"67.905615\"/>\r\n",
       "     <use style=\"fill:#1f77b4;stroke:#1f77b4;\" x=\"103.223613\" xlink:href=\"#me06bdb908f\" y=\"59.948262\"/>\r\n",
       "     <use style=\"fill:#1f77b4;stroke:#1f77b4;\" x=\"145.115347\" xlink:href=\"#me06bdb908f\" y=\"102.831885\"/>\r\n",
       "     <use style=\"fill:#1f77b4;stroke:#1f77b4;\" x=\"126.592097\" xlink:href=\"#me06bdb908f\" y=\"74.614007\"/>\r\n",
       "     <use style=\"fill:#1f77b4;stroke:#1f77b4;\" x=\"85.179659\" xlink:href=\"#me06bdb908f\" y=\"44.319591\"/>\r\n",
       "     <use style=\"fill:#1f77b4;stroke:#1f77b4;\" x=\"151.752065\" xlink:href=\"#me06bdb908f\" y=\"76.965795\"/>\r\n",
       "     <use style=\"fill:#1f77b4;stroke:#1f77b4;\" x=\"141.348487\" xlink:href=\"#me06bdb908f\" y=\"77.927806\"/>\r\n",
       "     <use style=\"fill:#1f77b4;stroke:#1f77b4;\" x=\"132.180414\" xlink:href=\"#me06bdb908f\" y=\"67.205278\"/>\r\n",
       "     <use style=\"fill:#1f77b4;stroke:#1f77b4;\" x=\"131.179376\" xlink:href=\"#me06bdb908f\" y=\"63.802671\"/>\r\n",
       "     <use style=\"fill:#1f77b4;stroke:#1f77b4;\" x=\"148.013488\" xlink:href=\"#me06bdb908f\" y=\"93.204257\"/>\r\n",
       "     <use style=\"fill:#1f77b4;stroke:#1f77b4;\" x=\"124.787365\" xlink:href=\"#me06bdb908f\" y=\"68.772158\"/>\r\n",
       "     <use style=\"fill:#1f77b4;stroke:#1f77b4;\" x=\"150.337359\" xlink:href=\"#me06bdb908f\" y=\"99.381642\"/>\r\n",
       "     <use style=\"fill:#1f77b4;stroke:#1f77b4;\" x=\"78.063866\" xlink:href=\"#me06bdb908f\" y=\"25.859521\"/>\r\n",
       "     <use style=\"fill:#1f77b4;stroke:#1f77b4;\" x=\"156.612413\" xlink:href=\"#me06bdb908f\" y=\"93.959967\"/>\r\n",
       "     <use style=\"fill:#1f77b4;stroke:#1f77b4;\" x=\"135.424723\" xlink:href=\"#me06bdb908f\" y=\"67.558783\"/>\r\n",
       "     <use style=\"fill:#1f77b4;stroke:#1f77b4;\" x=\"89.224907\" xlink:href=\"#me06bdb908f\" y=\"44.223143\"/>\r\n",
       "     <use style=\"fill:#1f77b4;stroke:#1f77b4;\" x=\"122.900721\" xlink:href=\"#me06bdb908f\" y=\"54.012653\"/>\r\n",
       "     <use style=\"fill:#1f77b4;stroke:#1f77b4;\" x=\"105.227576\" xlink:href=\"#me06bdb908f\" y=\"75.426258\"/>\r\n",
       "     <use style=\"fill:#1f77b4;stroke:#1f77b4;\" x=\"155.035208\" xlink:href=\"#me06bdb908f\" y=\"82.946419\"/>\r\n",
       "     <use style=\"fill:#1f77b4;stroke:#1f77b4;\" x=\"123.338728\" xlink:href=\"#me06bdb908f\" y=\"61.41237\"/>\r\n",
       "     <use style=\"fill:#1f77b4;stroke:#1f77b4;\" x=\"142.068035\" xlink:href=\"#me06bdb908f\" y=\"83.538055\"/>\r\n",
       "     <use style=\"fill:#1f77b4;stroke:#1f77b4;\" x=\"141.581931\" xlink:href=\"#me06bdb908f\" y=\"72.383505\"/>\r\n",
       "     <use style=\"fill:#1f77b4;stroke:#1f77b4;\" x=\"94.086731\" xlink:href=\"#me06bdb908f\" y=\"46.723199\"/>\r\n",
       "     <use style=\"fill:#1f77b4;stroke:#1f77b4;\" x=\"117.93308\" xlink:href=\"#me06bdb908f\" y=\"65.54989\"/>\r\n",
       "     <use style=\"fill:#1f77b4;stroke:#1f77b4;\" x=\"145.543371\" xlink:href=\"#me06bdb908f\" y=\"86.295899\"/>\r\n",
       "     <use style=\"fill:#1f77b4;stroke:#1f77b4;\" x=\"146.946502\" xlink:href=\"#me06bdb908f\" y=\"75.182366\"/>\r\n",
       "     <use style=\"fill:#1f77b4;stroke:#1f77b4;\" x=\"131.136714\" xlink:href=\"#me06bdb908f\" y=\"95.789453\"/>\r\n",
       "     <use style=\"fill:#1f77b4;stroke:#1f77b4;\" x=\"87.103638\" xlink:href=\"#me06bdb908f\" y=\"62.474476\"/>\r\n",
       "     <use style=\"fill:#1f77b4;stroke:#1f77b4;\" x=\"135.225319\" xlink:href=\"#me06bdb908f\" y=\"66.731848\"/>\r\n",
       "     <use style=\"fill:#1f77b4;stroke:#1f77b4;\" x=\"171.877236\" xlink:href=\"#me06bdb908f\" y=\"94.116462\"/>\r\n",
       "     <use style=\"fill:#1f77b4;stroke:#1f77b4;\" x=\"117.769486\" xlink:href=\"#me06bdb908f\" y=\"62.886027\"/>\r\n",
       "     <use style=\"fill:#1f77b4;stroke:#1f77b4;\" x=\"95.279123\" xlink:href=\"#me06bdb908f\" y=\"48.643837\"/>\r\n",
       "     <use style=\"fill:#1f77b4;stroke:#1f77b4;\" x=\"136.193207\" xlink:href=\"#me06bdb908f\" y=\"82.318502\"/>\r\n",
       "     <use style=\"fill:#1f77b4;stroke:#1f77b4;\" x=\"178.526598\" xlink:href=\"#me06bdb908f\" y=\"94.517365\"/>\r\n",
       "     <use style=\"fill:#1f77b4;stroke:#1f77b4;\" x=\"152.360841\" xlink:href=\"#me06bdb908f\" y=\"87.58176\"/>\r\n",
       "     <use style=\"fill:#1f77b4;stroke:#1f77b4;\" x=\"173.554102\" xlink:href=\"#me06bdb908f\" y=\"99.408335\"/>\r\n",
       "     <use style=\"fill:#1f77b4;stroke:#1f77b4;\" x=\"105.688711\" xlink:href=\"#me06bdb908f\" y=\"49.199123\"/>\r\n",
       "     <use style=\"fill:#1f77b4;stroke:#1f77b4;\" x=\"86.263014\" xlink:href=\"#me06bdb908f\" y=\"53.547529\"/>\r\n",
       "     <use style=\"fill:#1f77b4;stroke:#1f77b4;\" x=\"91.730909\" xlink:href=\"#me06bdb908f\" y=\"47.07249\"/>\r\n",
       "     <use style=\"fill:#1f77b4;stroke:#1f77b4;\" x=\"162.818837\" xlink:href=\"#me06bdb908f\" y=\"97.132757\"/>\r\n",
       "     <use style=\"fill:#1f77b4;stroke:#1f77b4;\" x=\"110.547981\" xlink:href=\"#me06bdb908f\" y=\"67.273334\"/>\r\n",
       "     <use style=\"fill:#1f77b4;stroke:#1f77b4;\" x=\"137.98661\" xlink:href=\"#me06bdb908f\" y=\"90.489867\"/>\r\n",
       "     <use style=\"fill:#1f77b4;stroke:#1f77b4;\" x=\"76.741426\" xlink:href=\"#me06bdb908f\" y=\"43.129199\"/>\r\n",
       "     <use style=\"fill:#1f77b4;stroke:#1f77b4;\" x=\"75.139161\" xlink:href=\"#me06bdb908f\" y=\"40.204789\"/>\r\n",
       "     <use style=\"fill:#1f77b4;stroke:#1f77b4;\" x=\"121.924105\" xlink:href=\"#me06bdb908f\" y=\"67.366886\"/>\r\n",
       "     <use style=\"fill:#1f77b4;stroke:#1f77b4;\" x=\"100.595794\" xlink:href=\"#me06bdb908f\" y=\"39.428125\"/>\r\n",
       "     <use style=\"fill:#1f77b4;stroke:#1f77b4;\" x=\"134.803781\" xlink:href=\"#me06bdb908f\" y=\"75.987481\"/>\r\n",
       "     <use style=\"fill:#1f77b4;stroke:#1f77b4;\" x=\"140.084573\" xlink:href=\"#me06bdb908f\" y=\"74.461636\"/>\r\n",
       "     <use style=\"fill:#1f77b4;stroke:#1f77b4;\" x=\"66.021157\" xlink:href=\"#me06bdb908f\" y=\"38.046814\"/>\r\n",
       "     <use style=\"fill:#1f77b4;stroke:#1f77b4;\" x=\"150.379721\" xlink:href=\"#me06bdb908f\" y=\"79.208924\"/>\r\n",
       "     <use style=\"fill:#1f77b4;stroke:#1f77b4;\" x=\"125.283858\" xlink:href=\"#me06bdb908f\" y=\"79.469709\"/>\r\n",
       "     <use style=\"fill:#1f77b4;stroke:#1f77b4;\" x=\"66.885833\" xlink:href=\"#me06bdb908f\" y=\"27.126546\"/>\r\n",
       "     <use style=\"fill:#1f77b4;stroke:#1f77b4;\" x=\"110.51868\" xlink:href=\"#me06bdb908f\" y=\"37.254758\"/>\r\n",
       "     <use style=\"fill:#1f77b4;stroke:#1f77b4;\" x=\"143.42186\" xlink:href=\"#me06bdb908f\" y=\"80.322487\"/>\r\n",
       "     <use style=\"fill:#1f77b4;stroke:#1f77b4;\" x=\"154.780984\" xlink:href=\"#me06bdb908f\" y=\"98.730908\"/>\r\n",
       "     <use style=\"fill:#1f77b4;stroke:#1f77b4;\" x=\"164.400421\" xlink:href=\"#me06bdb908f\" y=\"84.827962\"/>\r\n",
       "     <use style=\"fill:#1f77b4;stroke:#1f77b4;\" x=\"110.529858\" xlink:href=\"#me06bdb908f\" y=\"52.901974\"/>\r\n",
       "     <use style=\"fill:#1f77b4;stroke:#1f77b4;\" x=\"144.598771\" xlink:href=\"#me06bdb908f\" y=\"89.830831\"/>\r\n",
       "     <use style=\"fill:#1f77b4;stroke:#1f77b4;\" x=\"123.576884\" xlink:href=\"#me06bdb908f\" y=\"78.872704\"/>\r\n",
       "     <use style=\"fill:#1f77b4;stroke:#1f77b4;\" x=\"137.466551\" xlink:href=\"#me06bdb908f\" y=\"64.784367\"/>\r\n",
       "     <use style=\"fill:#1f77b4;stroke:#1f77b4;\" x=\"84.322921\" xlink:href=\"#me06bdb908f\" y=\"42.634271\"/>\r\n",
       "     <use style=\"fill:#1f77b4;stroke:#1f77b4;\" x=\"132.801155\" xlink:href=\"#me06bdb908f\" y=\"59.929834\"/>\r\n",
       "     <use style=\"fill:#1f77b4;stroke:#1f77b4;\" x=\"130.607239\" xlink:href=\"#me06bdb908f\" y=\"93.162935\"/>\r\n",
       "     <use style=\"fill:#1f77b4;stroke:#1f77b4;\" x=\"100.510642\" xlink:href=\"#me06bdb908f\" y=\"48.48077\"/>\r\n",
       "     <use style=\"fill:#1f77b4;stroke:#1f77b4;\" x=\"113.856918\" xlink:href=\"#me06bdb908f\" y=\"56.557971\"/>\r\n",
       "     <use style=\"fill:#1f77b4;stroke:#1f77b4;\" x=\"133.669344\" xlink:href=\"#me06bdb908f\" y=\"69.347169\"/>\r\n",
       "     <use style=\"fill:#1f77b4;stroke:#1f77b4;\" x=\"130.64793\" xlink:href=\"#me06bdb908f\" y=\"65.20711\"/>\r\n",
       "     <use style=\"fill:#1f77b4;stroke:#1f77b4;\" x=\"181.01557\" xlink:href=\"#me06bdb908f\" y=\"114.736073\"/>\r\n",
       "     <use style=\"fill:#1f77b4;stroke:#1f77b4;\" x=\"132.90257\" xlink:href=\"#me06bdb908f\" y=\"70.825623\"/>\r\n",
       "     <use style=\"fill:#1f77b4;stroke:#1f77b4;\" x=\"115.864613\" xlink:href=\"#me06bdb908f\" y=\"65.636669\"/>\r\n",
       "     <use style=\"fill:#1f77b4;stroke:#1f77b4;\" x=\"92.377626\" xlink:href=\"#me06bdb908f\" y=\"30.962145\"/>\r\n",
       "     <use style=\"fill:#1f77b4;stroke:#1f77b4;\" x=\"172.566153\" xlink:href=\"#me06bdb908f\" y=\"95.718539\"/>\r\n",
       "     <use style=\"fill:#1f77b4;stroke:#1f77b4;\" x=\"109.9184\" xlink:href=\"#me06bdb908f\" y=\"56.631295\"/>\r\n",
       "     <use style=\"fill:#1f77b4;stroke:#1f77b4;\" x=\"135.661169\" xlink:href=\"#me06bdb908f\" y=\"72.507448\"/>\r\n",
       "     <use style=\"fill:#1f77b4;stroke:#1f77b4;\" x=\"129.495477\" xlink:href=\"#me06bdb908f\" y=\"72.858699\"/>\r\n",
       "     <use style=\"fill:#1f77b4;stroke:#1f77b4;\" x=\"92.054459\" xlink:href=\"#me06bdb908f\" y=\"41.930569\"/>\r\n",
       "     <use style=\"fill:#1f77b4;stroke:#1f77b4;\" x=\"127.020738\" xlink:href=\"#me06bdb908f\" y=\"60.549527\"/>\r\n",
       "     <use style=\"fill:#1f77b4;stroke:#1f77b4;\" x=\"105.229799\" xlink:href=\"#me06bdb908f\" y=\"48.649555\"/>\r\n",
       "     <use style=\"fill:#1f77b4;stroke:#1f77b4;\" x=\"153.071318\" xlink:href=\"#me06bdb908f\" y=\"83.74229\"/>\r\n",
       "     <use style=\"fill:#1f77b4;stroke:#1f77b4;\" x=\"91.931388\" xlink:href=\"#me06bdb908f\" y=\"45.142052\"/>\r\n",
       "     <use style=\"fill:#1f77b4;stroke:#1f77b4;\" x=\"135.826917\" xlink:href=\"#me06bdb908f\" y=\"72.179357\"/>\r\n",
       "     <use style=\"fill:#1f77b4;stroke:#1f77b4;\" x=\"134.989027\" xlink:href=\"#me06bdb908f\" y=\"79.912257\"/>\r\n",
       "     <use style=\"fill:#1f77b4;stroke:#1f77b4;\" x=\"126.442548\" xlink:href=\"#me06bdb908f\" y=\"64.179245\"/>\r\n",
       "     <use style=\"fill:#1f77b4;stroke:#1f77b4;\" x=\"184.537987\" xlink:href=\"#me06bdb908f\" y=\"103.250145\"/>\r\n",
       "     <use style=\"fill:#1f77b4;stroke:#1f77b4;\" x=\"88.024842\" xlink:href=\"#me06bdb908f\" y=\"42.099466\"/>\r\n",
       "     <use style=\"fill:#1f77b4;stroke:#1f77b4;\" x=\"141.016711\" xlink:href=\"#me06bdb908f\" y=\"76.432029\"/>\r\n",
       "     <use style=\"fill:#1f77b4;stroke:#1f77b4;\" x=\"103.894\" xlink:href=\"#me06bdb908f\" y=\"45.960932\"/>\r\n",
       "     <use style=\"fill:#1f77b4;stroke:#1f77b4;\" x=\"120.740806\" xlink:href=\"#me06bdb908f\" y=\"59.366211\"/>\r\n",
       "     <use style=\"fill:#1f77b4;stroke:#1f77b4;\" x=\"145.313208\" xlink:href=\"#me06bdb908f\" y=\"74.298088\"/>\r\n",
       "     <use style=\"fill:#1f77b4;stroke:#1f77b4;\" x=\"147.738818\" xlink:href=\"#me06bdb908f\" y=\"78.834441\"/>\r\n",
       "     <use style=\"fill:#1f77b4;stroke:#1f77b4;\" x=\"135.78419\" xlink:href=\"#me06bdb908f\" y=\"72.153375\"/>\r\n",
       "     <use style=\"fill:#1f77b4;stroke:#1f77b4;\" x=\"98.266046\" xlink:href=\"#me06bdb908f\" y=\"55.021823\"/>\r\n",
       "     <use style=\"fill:#1f77b4;stroke:#1f77b4;\" x=\"104.716515\" xlink:href=\"#me06bdb908f\" y=\"66.283765\"/>\r\n",
       "     <use style=\"fill:#1f77b4;stroke:#1f77b4;\" x=\"110.895487\" xlink:href=\"#me06bdb908f\" y=\"55.727959\"/>\r\n",
       "     <use style=\"fill:#1f77b4;stroke:#1f77b4;\" x=\"147.714036\" xlink:href=\"#me06bdb908f\" y=\"79.95925\"/>\r\n",
       "     <use style=\"fill:#1f77b4;stroke:#1f77b4;\" x=\"98.556503\" xlink:href=\"#me06bdb908f\" y=\"52.236089\"/>\r\n",
       "     <use style=\"fill:#1f77b4;stroke:#1f77b4;\" x=\"105.95152\" xlink:href=\"#me06bdb908f\" y=\"61.51502\"/>\r\n",
       "     <use style=\"fill:#1f77b4;stroke:#1f77b4;\" x=\"126.698742\" xlink:href=\"#me06bdb908f\" y=\"78.150951\"/>\r\n",
       "     <use style=\"fill:#1f77b4;stroke:#1f77b4;\" x=\"122.849266\" xlink:href=\"#me06bdb908f\" y=\"77.7215\"/>\r\n",
       "     <use style=\"fill:#1f77b4;stroke:#1f77b4;\" x=\"133.352345\" xlink:href=\"#me06bdb908f\" y=\"77.676494\"/>\r\n",
       "     <use style=\"fill:#1f77b4;stroke:#1f77b4;\" x=\"121.07964\" xlink:href=\"#me06bdb908f\" y=\"64.087011\"/>\r\n",
       "     <use style=\"fill:#1f77b4;stroke:#1f77b4;\" x=\"111.504679\" xlink:href=\"#me06bdb908f\" y=\"51.727927\"/>\r\n",
       "     <use style=\"fill:#1f77b4;stroke:#1f77b4;\" x=\"94.430349\" xlink:href=\"#me06bdb908f\" y=\"64.657162\"/>\r\n",
       "     <use style=\"fill:#1f77b4;stroke:#1f77b4;\" x=\"170.918841\" xlink:href=\"#me06bdb908f\" y=\"93.440004\"/>\r\n",
       "     <use style=\"fill:#1f77b4;stroke:#1f77b4;\" x=\"149.911397\" xlink:href=\"#me06bdb908f\" y=\"87.673683\"/>\r\n",
       "     <use style=\"fill:#1f77b4;stroke:#1f77b4;\" x=\"123.649806\" xlink:href=\"#me06bdb908f\" y=\"72.005938\"/>\r\n",
       "     <use style=\"fill:#1f77b4;stroke:#1f77b4;\" x=\"75.472166\" xlink:href=\"#me06bdb908f\" y=\"25.548067\"/>\r\n",
       "     <use style=\"fill:#1f77b4;stroke:#1f77b4;\" x=\"143.134354\" xlink:href=\"#me06bdb908f\" y=\"91.289259\"/>\r\n",
       "     <use style=\"fill:#1f77b4;stroke:#1f77b4;\" x=\"72.158412\" xlink:href=\"#me06bdb908f\" y=\"27.986734\"/>\r\n",
       "     <use style=\"fill:#1f77b4;stroke:#1f77b4;\" x=\"78.034933\" xlink:href=\"#me06bdb908f\" y=\"36.510255\"/>\r\n",
       "     <use style=\"fill:#1f77b4;stroke:#1f77b4;\" x=\"165.237451\" xlink:href=\"#me06bdb908f\" y=\"97.579652\"/>\r\n",
       "     <use style=\"fill:#1f77b4;stroke:#1f77b4;\" x=\"115.58346\" xlink:href=\"#me06bdb908f\" y=\"71.231879\"/>\r\n",
       "     <use style=\"fill:#1f77b4;stroke:#1f77b4;\" x=\"112.087758\" xlink:href=\"#me06bdb908f\" y=\"56.400778\"/>\r\n",
       "     <use style=\"fill:#1f77b4;stroke:#1f77b4;\" x=\"126.546448\" xlink:href=\"#me06bdb908f\" y=\"81.481626\"/>\r\n",
       "     <use style=\"fill:#1f77b4;stroke:#1f77b4;\" x=\"142.89652\" xlink:href=\"#me06bdb908f\" y=\"80.566231\"/>\r\n",
       "     <use style=\"fill:#1f77b4;stroke:#1f77b4;\" x=\"120.526521\" xlink:href=\"#me06bdb908f\" y=\"59.713688\"/>\r\n",
       "     <use style=\"fill:#1f77b4;stroke:#1f77b4;\" x=\"172.551803\" xlink:href=\"#me06bdb908f\" y=\"98.970823\"/>\r\n",
       "     <use style=\"fill:#1f77b4;stroke:#1f77b4;\" x=\"108.789954\" xlink:href=\"#me06bdb908f\" y=\"50.178336\"/>\r\n",
       "     <use style=\"fill:#1f77b4;stroke:#1f77b4;\" x=\"101.482421\" xlink:href=\"#me06bdb908f\" y=\"51.093196\"/>\r\n",
       "     <use style=\"fill:#1f77b4;stroke:#1f77b4;\" x=\"104.945028\" xlink:href=\"#me06bdb908f\" y=\"58.386449\"/>\r\n",
       "     <use style=\"fill:#1f77b4;stroke:#1f77b4;\" x=\"91.680946\" xlink:href=\"#me06bdb908f\" y=\"63.850434\"/>\r\n",
       "     <use style=\"fill:#1f77b4;stroke:#1f77b4;\" x=\"122.989303\" xlink:href=\"#me06bdb908f\" y=\"61.74083\"/>\r\n",
       "     <use style=\"fill:#1f77b4;stroke:#1f77b4;\" x=\"98.741319\" xlink:href=\"#me06bdb908f\" y=\"53.778741\"/>\r\n",
       "     <use style=\"fill:#1f77b4;stroke:#1f77b4;\" x=\"155.236192\" xlink:href=\"#me06bdb908f\" y=\"79.653207\"/>\r\n",
       "     <use style=\"fill:#1f77b4;stroke:#1f77b4;\" x=\"148.844944\" xlink:href=\"#me06bdb908f\" y=\"91.501948\"/>\r\n",
       "     <use style=\"fill:#1f77b4;stroke:#1f77b4;\" x=\"99.117586\" xlink:href=\"#me06bdb908f\" y=\"47.437005\"/>\r\n",
       "     <use style=\"fill:#1f77b4;stroke:#1f77b4;\" x=\"130.222824\" xlink:href=\"#me06bdb908f\" y=\"66.043094\"/>\r\n",
       "     <use style=\"fill:#1f77b4;stroke:#1f77b4;\" x=\"90.684886\" xlink:href=\"#me06bdb908f\" y=\"46.870554\"/>\r\n",
       "     <use style=\"fill:#1f77b4;stroke:#1f77b4;\" x=\"145.426519\" xlink:href=\"#me06bdb908f\" y=\"74.263122\"/>\r\n",
       "     <use style=\"fill:#1f77b4;stroke:#1f77b4;\" x=\"161.022303\" xlink:href=\"#me06bdb908f\" y=\"97.644759\"/>\r\n",
       "     <use style=\"fill:#1f77b4;stroke:#1f77b4;\" x=\"103.856251\" xlink:href=\"#me06bdb908f\" y=\"48.024958\"/>\r\n",
       "     <use style=\"fill:#1f77b4;stroke:#1f77b4;\" x=\"111.314582\" xlink:href=\"#me06bdb908f\" y=\"68.349028\"/>\r\n",
       "     <use style=\"fill:#1f77b4;stroke:#1f77b4;\" x=\"158.503382\" xlink:href=\"#me06bdb908f\" y=\"89.551559\"/>\r\n",
       "     <use style=\"fill:#1f77b4;stroke:#1f77b4;\" x=\"132.105212\" xlink:href=\"#me06bdb908f\" y=\"85.878271\"/>\r\n",
       "     <use style=\"fill:#1f77b4;stroke:#1f77b4;\" x=\"113.109344\" xlink:href=\"#me06bdb908f\" y=\"53.044572\"/>\r\n",
       "     <use style=\"fill:#1f77b4;stroke:#1f77b4;\" x=\"156.991567\" xlink:href=\"#me06bdb908f\" y=\"89.686515\"/>\r\n",
       "     <use style=\"fill:#1f77b4;stroke:#1f77b4;\" x=\"111.188773\" xlink:href=\"#me06bdb908f\" y=\"68.990506\"/>\r\n",
       "     <use style=\"fill:#1f77b4;stroke:#1f77b4;\" x=\"163.925209\" xlink:href=\"#me06bdb908f\" y=\"100.725723\"/>\r\n",
       "     <use style=\"fill:#1f77b4;stroke:#1f77b4;\" x=\"123.433131\" xlink:href=\"#me06bdb908f\" y=\"67.190894\"/>\r\n",
       "     <use style=\"fill:#1f77b4;stroke:#1f77b4;\" x=\"139.306419\" xlink:href=\"#me06bdb908f\" y=\"84.742153\"/>\r\n",
       "     <use style=\"fill:#1f77b4;stroke:#1f77b4;\" x=\"149.332118\" xlink:href=\"#me06bdb908f\" y=\"95.54152\"/>\r\n",
       "     <use style=\"fill:#1f77b4;stroke:#1f77b4;\" x=\"132.21128\" xlink:href=\"#me06bdb908f\" y=\"65.740807\"/>\r\n",
       "     <use style=\"fill:#1f77b4;stroke:#1f77b4;\" x=\"86.955892\" xlink:href=\"#me06bdb908f\" y=\"48.822608\"/>\r\n",
       "     <use style=\"fill:#1f77b4;stroke:#1f77b4;\" x=\"147.625376\" xlink:href=\"#me06bdb908f\" y=\"85.631636\"/>\r\n",
       "     <use style=\"fill:#1f77b4;stroke:#1f77b4;\" x=\"152.104721\" xlink:href=\"#me06bdb908f\" y=\"82.734765\"/>\r\n",
       "     <use style=\"fill:#1f77b4;stroke:#1f77b4;\" x=\"173.604602\" xlink:href=\"#me06bdb908f\" y=\"107.404926\"/>\r\n",
       "     <use style=\"fill:#1f77b4;stroke:#1f77b4;\" x=\"144.428725\" xlink:href=\"#me06bdb908f\" y=\"97.9454\"/>\r\n",
       "     <use style=\"fill:#1f77b4;stroke:#1f77b4;\" x=\"96.631403\" xlink:href=\"#me06bdb908f\" y=\"40.8607\"/>\r\n",
       "     <use style=\"fill:#1f77b4;stroke:#1f77b4;\" x=\"130.439403\" xlink:href=\"#me06bdb908f\" y=\"75.88316\"/>\r\n",
       "     <use style=\"fill:#1f77b4;stroke:#1f77b4;\" x=\"145.875669\" xlink:href=\"#me06bdb908f\" y=\"94.47277\"/>\r\n",
       "     <use style=\"fill:#1f77b4;stroke:#1f77b4;\" x=\"135.212526\" xlink:href=\"#me06bdb908f\" y=\"84.747279\"/>\r\n",
       "     <use style=\"fill:#1f77b4;stroke:#1f77b4;\" x=\"165.132915\" xlink:href=\"#me06bdb908f\" y=\"102.612879\"/>\r\n",
       "     <use style=\"fill:#1f77b4;stroke:#1f77b4;\" x=\"121.205333\" xlink:href=\"#me06bdb908f\" y=\"69.194212\"/>\r\n",
       "     <use style=\"fill:#1f77b4;stroke:#1f77b4;\" x=\"153.034146\" xlink:href=\"#me06bdb908f\" y=\"91.261398\"/>\r\n",
       "     <use style=\"fill:#1f77b4;stroke:#1f77b4;\" x=\"129.748603\" xlink:href=\"#me06bdb908f\" y=\"74.83825\"/>\r\n",
       "     <use style=\"fill:#1f77b4;stroke:#1f77b4;\" x=\"111.720801\" xlink:href=\"#me06bdb908f\" y=\"41.939149\"/>\r\n",
       "     <use style=\"fill:#1f77b4;stroke:#1f77b4;\" x=\"96.710613\" xlink:href=\"#me06bdb908f\" y=\"53.982869\"/>\r\n",
       "     <use style=\"fill:#1f77b4;stroke:#1f77b4;\" x=\"130.724542\" xlink:href=\"#me06bdb908f\" y=\"85.379205\"/>\r\n",
       "     <use style=\"fill:#1f77b4;stroke:#1f77b4;\" x=\"164.875637\" xlink:href=\"#me06bdb908f\" y=\"104.17297\"/>\r\n",
       "     <use style=\"fill:#1f77b4;stroke:#1f77b4;\" x=\"154.617188\" xlink:href=\"#me06bdb908f\" y=\"82.392689\"/>\r\n",
       "     <use style=\"fill:#1f77b4;stroke:#1f77b4;\" x=\"86.486618\" xlink:href=\"#me06bdb908f\" y=\"31.034898\"/>\r\n",
       "     <use style=\"fill:#1f77b4;stroke:#1f77b4;\" x=\"109.013939\" xlink:href=\"#me06bdb908f\" y=\"52.11393\"/>\r\n",
       "     <use style=\"fill:#1f77b4;stroke:#1f77b4;\" x=\"133.32313\" xlink:href=\"#me06bdb908f\" y=\"80.922671\"/>\r\n",
       "     <use style=\"fill:#1f77b4;stroke:#1f77b4;\" x=\"89.278126\" xlink:href=\"#me06bdb908f\" y=\"30.058114\"/>\r\n",
       "     <use style=\"fill:#1f77b4;stroke:#1f77b4;\" x=\"150.578336\" xlink:href=\"#me06bdb908f\" y=\"95.368462\"/>\r\n",
       "     <use style=\"fill:#1f77b4;stroke:#1f77b4;\" x=\"130.268209\" xlink:href=\"#me06bdb908f\" y=\"77.816309\"/>\r\n",
       "     <use style=\"fill:#1f77b4;stroke:#1f77b4;\" x=\"148.56833\" xlink:href=\"#me06bdb908f\" y=\"99.284594\"/>\r\n",
       "     <use style=\"fill:#1f77b4;stroke:#1f77b4;\" x=\"147.007787\" xlink:href=\"#me06bdb908f\" y=\"80.028094\"/>\r\n",
       "     <use style=\"fill:#1f77b4;stroke:#1f77b4;\" x=\"118.328331\" xlink:href=\"#me06bdb908f\" y=\"68.832992\"/>\r\n",
       "     <use style=\"fill:#1f77b4;stroke:#1f77b4;\" x=\"108.630411\" xlink:href=\"#me06bdb908f\" y=\"59.257436\"/>\r\n",
       "     <use style=\"fill:#1f77b4;stroke:#1f77b4;\" x=\"165.569537\" xlink:href=\"#me06bdb908f\" y=\"91.090105\"/>\r\n",
       "     <use style=\"fill:#1f77b4;stroke:#1f77b4;\" x=\"114.736592\" xlink:href=\"#me06bdb908f\" y=\"64.365225\"/>\r\n",
       "     <use style=\"fill:#1f77b4;stroke:#1f77b4;\" x=\"119.187094\" xlink:href=\"#me06bdb908f\" y=\"56.910716\"/>\r\n",
       "     <use style=\"fill:#1f77b4;stroke:#1f77b4;\" x=\"111.352665\" xlink:href=\"#me06bdb908f\" y=\"72.661889\"/>\r\n",
       "     <use style=\"fill:#1f77b4;stroke:#1f77b4;\" x=\"104.271869\" xlink:href=\"#me06bdb908f\" y=\"54.572597\"/>\r\n",
       "     <use style=\"fill:#1f77b4;stroke:#1f77b4;\" x=\"103.580998\" xlink:href=\"#me06bdb908f\" y=\"44.74575\"/>\r\n",
       "     <use style=\"fill:#1f77b4;stroke:#1f77b4;\" x=\"125.954876\" xlink:href=\"#me06bdb908f\" y=\"73.49512\"/>\r\n",
       "     <use style=\"fill:#1f77b4;stroke:#1f77b4;\" x=\"131.01327\" xlink:href=\"#me06bdb908f\" y=\"86.616424\"/>\r\n",
       "     <use style=\"fill:#1f77b4;stroke:#1f77b4;\" x=\"131.05955\" xlink:href=\"#me06bdb908f\" y=\"62.82378\"/>\r\n",
       "     <use style=\"fill:#1f77b4;stroke:#1f77b4;\" x=\"140.196249\" xlink:href=\"#me06bdb908f\" y=\"74.930633\"/>\r\n",
       "     <use style=\"fill:#1f77b4;stroke:#1f77b4;\" x=\"118.950361\" xlink:href=\"#me06bdb908f\" y=\"48.515767\"/>\r\n",
       "     <use style=\"fill:#1f77b4;stroke:#1f77b4;\" x=\"143.568248\" xlink:href=\"#me06bdb908f\" y=\"74.583104\"/>\r\n",
       "     <use style=\"fill:#1f77b4;stroke:#1f77b4;\" x=\"144.18937\" xlink:href=\"#me06bdb908f\" y=\"94.946009\"/>\r\n",
       "     <use style=\"fill:#1f77b4;stroke:#1f77b4;\" x=\"129.482826\" xlink:href=\"#me06bdb908f\" y=\"69.161335\"/>\r\n",
       "     <use style=\"fill:#1f77b4;stroke:#1f77b4;\" x=\"109.476066\" xlink:href=\"#me06bdb908f\" y=\"52.183781\"/>\r\n",
       "     <use style=\"fill:#1f77b4;stroke:#1f77b4;\" x=\"121.540975\" xlink:href=\"#me06bdb908f\" y=\"48.868952\"/>\r\n",
       "     <use style=\"fill:#1f77b4;stroke:#1f77b4;\" x=\"129.587691\" xlink:href=\"#me06bdb908f\" y=\"77.616243\"/>\r\n",
       "     <use style=\"fill:#1f77b4;stroke:#1f77b4;\" x=\"138.128077\" xlink:href=\"#me06bdb908f\" y=\"72.424122\"/>\r\n",
       "     <use style=\"fill:#1f77b4;stroke:#1f77b4;\" x=\"69.930259\" xlink:href=\"#me06bdb908f\" y=\"32.374597\"/>\r\n",
       "     <use style=\"fill:#1f77b4;stroke:#1f77b4;\" x=\"134.518543\" xlink:href=\"#me06bdb908f\" y=\"66.51358\"/>\r\n",
       "     <use style=\"fill:#1f77b4;stroke:#1f77b4;\" x=\"121.678275\" xlink:href=\"#me06bdb908f\" y=\"69.263678\"/>\r\n",
       "     <use style=\"fill:#1f77b4;stroke:#1f77b4;\" x=\"44.250568\" xlink:href=\"#me06bdb908f\" y=\"17.326627\"/>\r\n",
       "     <use style=\"fill:#1f77b4;stroke:#1f77b4;\" x=\"121.428691\" xlink:href=\"#me06bdb908f\" y=\"90.788325\"/>\r\n",
       "     <use style=\"fill:#1f77b4;stroke:#1f77b4;\" x=\"132.132783\" xlink:href=\"#me06bdb908f\" y=\"74.316516\"/>\r\n",
       "     <use style=\"fill:#1f77b4;stroke:#1f77b4;\" x=\"120.290062\" xlink:href=\"#me06bdb908f\" y=\"61.221274\"/>\r\n",
       "     <use style=\"fill:#1f77b4;stroke:#1f77b4;\" x=\"102.911959\" xlink:href=\"#me06bdb908f\" y=\"65.72823\"/>\r\n",
       "     <use style=\"fill:#1f77b4;stroke:#1f77b4;\" x=\"125.135441\" xlink:href=\"#me06bdb908f\" y=\"90.886694\"/>\r\n",
       "     <use style=\"fill:#1f77b4;stroke:#1f77b4;\" x=\"95.522013\" xlink:href=\"#me06bdb908f\" y=\"34.788441\"/>\r\n",
       "     <use style=\"fill:#1f77b4;stroke:#1f77b4;\" x=\"108.76534\" xlink:href=\"#me06bdb908f\" y=\"53.686424\"/>\r\n",
       "     <use style=\"fill:#1f77b4;stroke:#1f77b4;\" x=\"107.619808\" xlink:href=\"#me06bdb908f\" y=\"51.406348\"/>\r\n",
       "     <use style=\"fill:#1f77b4;stroke:#1f77b4;\" x=\"98.583488\" xlink:href=\"#me06bdb908f\" y=\"63.447348\"/>\r\n",
       "     <use style=\"fill:#1f77b4;stroke:#1f77b4;\" x=\"150.649885\" xlink:href=\"#me06bdb908f\" y=\"83.919405\"/>\r\n",
       "     <use style=\"fill:#1f77b4;stroke:#1f77b4;\" x=\"141.616513\" xlink:href=\"#me06bdb908f\" y=\"87.708862\"/>\r\n",
       "     <use style=\"fill:#1f77b4;stroke:#1f77b4;\" x=\"137.774184\" xlink:href=\"#me06bdb908f\" y=\"77.324614\"/>\r\n",
       "     <use style=\"fill:#1f77b4;stroke:#1f77b4;\" x=\"134.510174\" xlink:href=\"#me06bdb908f\" y=\"77.825298\"/>\r\n",
       "     <use style=\"fill:#1f77b4;stroke:#1f77b4;\" x=\"119.934953\" xlink:href=\"#me06bdb908f\" y=\"67.99186\"/>\r\n",
       "     <use style=\"fill:#1f77b4;stroke:#1f77b4;\" x=\"110.681653\" xlink:href=\"#me06bdb908f\" y=\"50.475538\"/>\r\n",
       "     <use style=\"fill:#1f77b4;stroke:#1f77b4;\" x=\"130.772117\" xlink:href=\"#me06bdb908f\" y=\"74.963428\"/>\r\n",
       "     <use style=\"fill:#1f77b4;stroke:#1f77b4;\" x=\"116.132636\" xlink:href=\"#me06bdb908f\" y=\"48.865178\"/>\r\n",
       "     <use style=\"fill:#1f77b4;stroke:#1f77b4;\" x=\"187.509775\" xlink:href=\"#me06bdb908f\" y=\"100.453337\"/>\r\n",
       "     <use style=\"fill:#1f77b4;stroke:#1f77b4;\" x=\"130.974471\" xlink:href=\"#me06bdb908f\" y=\"83.330434\"/>\r\n",
       "     <use style=\"fill:#1f77b4;stroke:#1f77b4;\" x=\"169.359261\" xlink:href=\"#me06bdb908f\" y=\"101.510246\"/>\r\n",
       "     <use style=\"fill:#1f77b4;stroke:#1f77b4;\" x=\"136.80246\" xlink:href=\"#me06bdb908f\" y=\"85.432759\"/>\r\n",
       "     <use style=\"fill:#1f77b4;stroke:#1f77b4;\" x=\"139.605665\" xlink:href=\"#me06bdb908f\" y=\"76.603325\"/>\r\n",
       "     <use style=\"fill:#1f77b4;stroke:#1f77b4;\" x=\"177.028907\" xlink:href=\"#me06bdb908f\" y=\"88.283864\"/>\r\n",
       "     <use style=\"fill:#1f77b4;stroke:#1f77b4;\" x=\"84.385113\" xlink:href=\"#me06bdb908f\" y=\"43.901715\"/>\r\n",
       "     <use style=\"fill:#1f77b4;stroke:#1f77b4;\" x=\"102.069484\" xlink:href=\"#me06bdb908f\" y=\"59.21168\"/>\r\n",
       "     <use style=\"fill:#1f77b4;stroke:#1f77b4;\" x=\"114.457455\" xlink:href=\"#me06bdb908f\" y=\"68.454441\"/>\r\n",
       "     <use style=\"fill:#1f77b4;stroke:#1f77b4;\" x=\"144.71129\" xlink:href=\"#me06bdb908f\" y=\"74.609347\"/>\r\n",
       "     <use style=\"fill:#1f77b4;stroke:#1f77b4;\" x=\"134.288025\" xlink:href=\"#me06bdb908f\" y=\"76.920646\"/>\r\n",
       "     <use style=\"fill:#1f77b4;stroke:#1f77b4;\" x=\"120.16019\" xlink:href=\"#me06bdb908f\" y=\"76.060312\"/>\r\n",
       "     <use style=\"fill:#1f77b4;stroke:#1f77b4;\" x=\"127.361541\" xlink:href=\"#me06bdb908f\" y=\"88.117621\"/>\r\n",
       "     <use style=\"fill:#1f77b4;stroke:#1f77b4;\" x=\"123.411875\" xlink:href=\"#me06bdb908f\" y=\"77.672192\"/>\r\n",
       "     <use style=\"fill:#1f77b4;stroke:#1f77b4;\" x=\"106.984029\" xlink:href=\"#me06bdb908f\" y=\"60.228764\"/>\r\n",
       "     <use style=\"fill:#1f77b4;stroke:#1f77b4;\" x=\"100.212786\" xlink:href=\"#me06bdb908f\" y=\"39.724927\"/>\r\n",
       "     <use style=\"fill:#1f77b4;stroke:#1f77b4;\" x=\"122.313251\" xlink:href=\"#me06bdb908f\" y=\"72.576803\"/>\r\n",
       "     <use style=\"fill:#1f77b4;stroke:#1f77b4;\" x=\"125.395782\" xlink:href=\"#me06bdb908f\" y=\"75.951378\"/>\r\n",
       "     <use style=\"fill:#1f77b4;stroke:#1f77b4;\" x=\"126.978624\" xlink:href=\"#me06bdb908f\" y=\"72.011529\"/>\r\n",
       "     <use style=\"fill:#1f77b4;stroke:#1f77b4;\" x=\"88.002966\" xlink:href=\"#me06bdb908f\" y=\"42.664758\"/>\r\n",
       "     <use style=\"fill:#1f77b4;stroke:#1f77b4;\" x=\"121.990733\" xlink:href=\"#me06bdb908f\" y=\"72.674896\"/>\r\n",
       "     <use style=\"fill:#1f77b4;stroke:#1f77b4;\" x=\"98.544945\" xlink:href=\"#me06bdb908f\" y=\"41.843153\"/>\r\n",
       "     <use style=\"fill:#1f77b4;stroke:#1f77b4;\" x=\"111.71358\" xlink:href=\"#me06bdb908f\" y=\"63.850484\"/>\r\n",
       "     <use style=\"fill:#1f77b4;stroke:#1f77b4;\" x=\"135.962744\" xlink:href=\"#me06bdb908f\" y=\"82.541361\"/>\r\n",
       "     <use style=\"fill:#1f77b4;stroke:#1f77b4;\" x=\"161.23088\" xlink:href=\"#me06bdb908f\" y=\"90.225792\"/>\r\n",
       "     <use style=\"fill:#1f77b4;stroke:#1f77b4;\" x=\"111.186328\" xlink:href=\"#me06bdb908f\" y=\"53.6131\"/>\r\n",
       "     <use style=\"fill:#1f77b4;stroke:#1f77b4;\" x=\"153.193356\" xlink:href=\"#me06bdb908f\" y=\"80.407544\"/>\r\n",
       "     <use style=\"fill:#1f77b4;stroke:#1f77b4;\" x=\"154.33635\" xlink:href=\"#me06bdb908f\" y=\"69.013967\"/>\r\n",
       "     <use style=\"fill:#1f77b4;stroke:#1f77b4;\" x=\"132.39833\" xlink:href=\"#me06bdb908f\" y=\"69.209964\"/>\r\n",
       "     <use style=\"fill:#1f77b4;stroke:#1f77b4;\" x=\"172.697147\" xlink:href=\"#me06bdb908f\" y=\"101.833732\"/>\r\n",
       "     <use style=\"fill:#1f77b4;stroke:#1f77b4;\" x=\"73.349817\" xlink:href=\"#me06bdb908f\" y=\"35.305697\"/>\r\n",
       "     <use style=\"fill:#1f77b4;stroke:#1f77b4;\" x=\"161.318293\" xlink:href=\"#me06bdb908f\" y=\"91.143173\"/>\r\n",
       "     <use style=\"fill:#1f77b4;stroke:#1f77b4;\" x=\"132.941596\" xlink:href=\"#me06bdb908f\" y=\"67.280146\"/>\r\n",
       "     <use style=\"fill:#1f77b4;stroke:#1f77b4;\" x=\"126.264834\" xlink:href=\"#me06bdb908f\" y=\"77.922417\"/>\r\n",
       "     <use style=\"fill:#1f77b4;stroke:#1f77b4;\" x=\"134.922107\" xlink:href=\"#me06bdb908f\" y=\"54.752499\"/>\r\n",
       "     <use style=\"fill:#1f77b4;stroke:#1f77b4;\" x=\"161.828371\" xlink:href=\"#me06bdb908f\" y=\"101.927051\"/>\r\n",
       "     <use style=\"fill:#1f77b4;stroke:#1f77b4;\" x=\"146.364511\" xlink:href=\"#me06bdb908f\" y=\"92.777773\"/>\r\n",
       "     <use style=\"fill:#1f77b4;stroke:#1f77b4;\" x=\"122.792975\" xlink:href=\"#me06bdb908f\" y=\"73.987621\"/>\r\n",
       "     <use style=\"fill:#1f77b4;stroke:#1f77b4;\" x=\"148.382446\" xlink:href=\"#me06bdb908f\" y=\"81.810859\"/>\r\n",
       "     <use style=\"fill:#1f77b4;stroke:#1f77b4;\" x=\"127.227467\" xlink:href=\"#me06bdb908f\" y=\"66.764391\"/>\r\n",
       "     <use style=\"fill:#1f77b4;stroke:#1f77b4;\" x=\"146.331299\" xlink:href=\"#me06bdb908f\" y=\"75.010902\"/>\r\n",
       "     <use style=\"fill:#1f77b4;stroke:#1f77b4;\" x=\"93.683035\" xlink:href=\"#me06bdb908f\" y=\"47.384804\"/>\r\n",
       "     <use style=\"fill:#1f77b4;stroke:#1f77b4;\" x=\"101.115614\" xlink:href=\"#me06bdb908f\" y=\"55.544669\"/>\r\n",
       "     <use style=\"fill:#1f77b4;stroke:#1f77b4;\" x=\"69.590177\" xlink:href=\"#me06bdb908f\" y=\"24.985517\"/>\r\n",
       "     <use style=\"fill:#1f77b4;stroke:#1f77b4;\" x=\"129.378823\" xlink:href=\"#me06bdb908f\" y=\"80.821807\"/>\r\n",
       "     <use style=\"fill:#1f77b4;stroke:#1f77b4;\" x=\"148.714086\" xlink:href=\"#me06bdb908f\" y=\"87.22732\"/>\r\n",
       "     <use style=\"fill:#1f77b4;stroke:#1f77b4;\" x=\"129.202147\" xlink:href=\"#me06bdb908f\" y=\"66.175896\"/>\r\n",
       "     <use style=\"fill:#1f77b4;stroke:#1f77b4;\" x=\"144.948352\" xlink:href=\"#me06bdb908f\" y=\"78.294479\"/>\r\n",
       "     <use style=\"fill:#1f77b4;stroke:#1f77b4;\" x=\"107.768558\" xlink:href=\"#me06bdb908f\" y=\"65.61204\"/>\r\n",
       "     <use style=\"fill:#1f77b4;stroke:#1f77b4;\" x=\"162.1478\" xlink:href=\"#me06bdb908f\" y=\"97.150824\"/>\r\n",
       "     <use style=\"fill:#1f77b4;stroke:#1f77b4;\" x=\"85.286\" xlink:href=\"#me06bdb908f\" y=\"36.396972\"/>\r\n",
       "     <use style=\"fill:#1f77b4;stroke:#1f77b4;\" x=\"80.619771\" xlink:href=\"#me06bdb908f\" y=\"30.223993\"/>\r\n",
       "     <use style=\"fill:#1f77b4;stroke:#1f77b4;\" x=\"115.314195\" xlink:href=\"#me06bdb908f\" y=\"60.195167\"/>\r\n",
       "     <use style=\"fill:#1f77b4;stroke:#1f77b4;\" x=\"169.644029\" xlink:href=\"#me06bdb908f\" y=\"97.604036\"/>\r\n",
       "     <use style=\"fill:#1f77b4;stroke:#1f77b4;\" x=\"110.586005\" xlink:href=\"#me06bdb908f\" y=\"47.046468\"/>\r\n",
       "     <use style=\"fill:#1f77b4;stroke:#1f77b4;\" x=\"168.398073\" xlink:href=\"#me06bdb908f\" y=\"115.654289\"/>\r\n",
       "     <use style=\"fill:#1f77b4;stroke:#1f77b4;\" x=\"118.953\" xlink:href=\"#me06bdb908f\" y=\"57.947286\"/>\r\n",
       "     <use style=\"fill:#1f77b4;stroke:#1f77b4;\" x=\"109.028314\" xlink:href=\"#me06bdb908f\" y=\"56.410707\"/>\r\n",
       "     <use style=\"fill:#1f77b4;stroke:#1f77b4;\" x=\"142.624918\" xlink:href=\"#me06bdb908f\" y=\"73.508927\"/>\r\n",
       "     <use style=\"fill:#1f77b4;stroke:#1f77b4;\" x=\"104.241301\" xlink:href=\"#me06bdb908f\" y=\"39.170315\"/>\r\n",
       "     <use style=\"fill:#1f77b4;stroke:#1f77b4;\" x=\"157.350507\" xlink:href=\"#me06bdb908f\" y=\"103.933984\"/>\r\n",
       "     <use style=\"fill:#1f77b4;stroke:#1f77b4;\" x=\"134.581264\" xlink:href=\"#me06bdb908f\" y=\"92.937122\"/>\r\n",
       "     <use style=\"fill:#1f77b4;stroke:#1f77b4;\" x=\"113.429156\" xlink:href=\"#me06bdb908f\" y=\"63.884605\"/>\r\n",
       "     <use style=\"fill:#1f77b4;stroke:#1f77b4;\" x=\"46.579312\" xlink:href=\"#me06bdb908f\" y=\"30.627082\"/>\r\n",
       "     <use style=\"fill:#1f77b4;stroke:#1f77b4;\" x=\"96.917746\" xlink:href=\"#me06bdb908f\" y=\"48.085883\"/>\r\n",
       "     <use style=\"fill:#1f77b4;stroke:#1f77b4;\" x=\"124.881524\" xlink:href=\"#me06bdb908f\" y=\"61.545339\"/>\r\n",
       "     <use style=\"fill:#1f77b4;stroke:#1f77b4;\" x=\"136.637502\" xlink:href=\"#me06bdb908f\" y=\"68.150847\"/>\r\n",
       "     <use style=\"fill:#1f77b4;stroke:#1f77b4;\" x=\"148.799819\" xlink:href=\"#me06bdb908f\" y=\"79.282935\"/>\r\n",
       "     <use style=\"fill:#1f77b4;stroke:#1f77b4;\" x=\"134.191157\" xlink:href=\"#me06bdb908f\" y=\"85.054518\"/>\r\n",
       "     <use style=\"fill:#1f77b4;stroke:#1f77b4;\" x=\"122.067748\" xlink:href=\"#me06bdb908f\" y=\"69.385549\"/>\r\n",
       "     <use style=\"fill:#1f77b4;stroke:#1f77b4;\" x=\"79.738547\" xlink:href=\"#me06bdb908f\" y=\"52.466865\"/>\r\n",
       "     <use style=\"fill:#1f77b4;stroke:#1f77b4;\" x=\"110.166189\" xlink:href=\"#me06bdb908f\" y=\"69.016987\"/>\r\n",
       "     <use style=\"fill:#1f77b4;stroke:#1f77b4;\" x=\"127.53203\" xlink:href=\"#me06bdb908f\" y=\"73.875292\"/>\r\n",
       "     <use style=\"fill:#1f77b4;stroke:#1f77b4;\" x=\"175.586179\" xlink:href=\"#me06bdb908f\" y=\"97.661183\"/>\r\n",
       "     <use style=\"fill:#1f77b4;stroke:#1f77b4;\" x=\"63.428087\" xlink:href=\"#me06bdb908f\" y=\"36.725532\"/>\r\n",
       "     <use style=\"fill:#1f77b4;stroke:#1f77b4;\" x=\"113.170194\" xlink:href=\"#me06bdb908f\" y=\"54.824906\"/>\r\n",
       "     <use style=\"fill:#1f77b4;stroke:#1f77b4;\" x=\"134.259354\" xlink:href=\"#me06bdb908f\" y=\"85.028487\"/>\r\n",
       "     <use style=\"fill:#1f77b4;stroke:#1f77b4;\" x=\"131.686934\" xlink:href=\"#me06bdb908f\" y=\"86.579083\"/>\r\n",
       "     <use style=\"fill:#1f77b4;stroke:#1f77b4;\" x=\"146.478251\" xlink:href=\"#me06bdb908f\" y=\"93.491611\"/>\r\n",
       "     <use style=\"fill:#1f77b4;stroke:#1f77b4;\" x=\"133.477878\" xlink:href=\"#me06bdb908f\" y=\"70.688954\"/>\r\n",
       "     <use style=\"fill:#1f77b4;stroke:#1f77b4;\" x=\"90.740744\" xlink:href=\"#me06bdb908f\" y=\"33.462937\"/>\r\n",
       "     <use style=\"fill:#1f77b4;stroke:#1f77b4;\" x=\"155.719065\" xlink:href=\"#me06bdb908f\" y=\"94.719818\"/>\r\n",
       "     <use style=\"fill:#1f77b4;stroke:#1f77b4;\" x=\"117.187543\" xlink:href=\"#me06bdb908f\" y=\"64.474681\"/>\r\n",
       "     <use style=\"fill:#1f77b4;stroke:#1f77b4;\" x=\"165.362248\" xlink:href=\"#me06bdb908f\" y=\"112.016437\"/>\r\n",
       "     <use style=\"fill:#1f77b4;stroke:#1f77b4;\" x=\"142.691227\" xlink:href=\"#me06bdb908f\" y=\"78.847109\"/>\r\n",
       "     <use style=\"fill:#1f77b4;stroke:#1f77b4;\" x=\"132.460447\" xlink:href=\"#me06bdb908f\" y=\"69.10397\"/>\r\n",
       "     <use style=\"fill:#1f77b4;stroke:#1f77b4;\" x=\"109.823047\" xlink:href=\"#me06bdb908f\" y=\"50.785775\"/>\r\n",
       "     <use style=\"fill:#1f77b4;stroke:#1f77b4;\" x=\"153.229685\" xlink:href=\"#me06bdb908f\" y=\"84.790296\"/>\r\n",
       "     <use style=\"fill:#1f77b4;stroke:#1f77b4;\" x=\"115.726378\" xlink:href=\"#me06bdb908f\" y=\"49.842019\"/>\r\n",
       "     <use style=\"fill:#1f77b4;stroke:#1f77b4;\" x=\"134.570769\" xlink:href=\"#me06bdb908f\" y=\"80.150716\"/>\r\n",
       "     <use style=\"fill:#1f77b4;stroke:#1f77b4;\" x=\"153.467607\" xlink:href=\"#me06bdb908f\" y=\"90.840114\"/>\r\n",
       "     <use style=\"fill:#1f77b4;stroke:#1f77b4;\" x=\"134.015652\" xlink:href=\"#me06bdb908f\" y=\"80.002276\"/>\r\n",
       "     <use style=\"fill:#1f77b4;stroke:#1f77b4;\" x=\"157.233895\" xlink:href=\"#me06bdb908f\" y=\"90.697727\"/>\r\n",
       "     <use style=\"fill:#1f77b4;stroke:#1f77b4;\" x=\"165.659334\" xlink:href=\"#me06bdb908f\" y=\"109.727613\"/>\r\n",
       "     <use style=\"fill:#1f77b4;stroke:#1f77b4;\" x=\"152.328231\" xlink:href=\"#me06bdb908f\" y=\"92.360522\"/>\r\n",
       "     <use style=\"fill:#1f77b4;stroke:#1f77b4;\" x=\"86.493113\" xlink:href=\"#me06bdb908f\" y=\"45.396371\"/>\r\n",
       "     <use style=\"fill:#1f77b4;stroke:#1f77b4;\" x=\"138.649721\" xlink:href=\"#me06bdb908f\" y=\"71.285653\"/>\r\n",
       "     <use style=\"fill:#1f77b4;stroke:#1f77b4;\" x=\"100.845343\" xlink:href=\"#me06bdb908f\" y=\"67.382364\"/>\r\n",
       "     <use style=\"fill:#1f77b4;stroke:#1f77b4;\" x=\"190.55351\" xlink:href=\"#me06bdb908f\" y=\"108.074887\"/>\r\n",
       "     <use style=\"fill:#1f77b4;stroke:#1f77b4;\" x=\"185.809046\" xlink:href=\"#me06bdb908f\" y=\"107.377939\"/>\r\n",
       "     <use style=\"fill:#1f77b4;stroke:#1f77b4;\" x=\"97.183909\" xlink:href=\"#me06bdb908f\" y=\"46.085232\"/>\r\n",
       "     <use style=\"fill:#1f77b4;stroke:#1f77b4;\" x=\"151.567645\" xlink:href=\"#me06bdb908f\" y=\"102.362822\"/>\r\n",
       "     <use style=\"fill:#1f77b4;stroke:#1f77b4;\" x=\"153.415598\" xlink:href=\"#me06bdb908f\" y=\"72.694259\"/>\r\n",
       "     <use style=\"fill:#1f77b4;stroke:#1f77b4;\" x=\"140.378433\" xlink:href=\"#me06bdb908f\" y=\"79.337831\"/>\r\n",
       "     <use style=\"fill:#1f77b4;stroke:#1f77b4;\" x=\"137.188554\" xlink:href=\"#me06bdb908f\" y=\"91.169663\"/>\r\n",
       "     <use style=\"fill:#1f77b4;stroke:#1f77b4;\" x=\"83.275161\" xlink:href=\"#me06bdb908f\" y=\"39.616573\"/>\r\n",
       "     <use style=\"fill:#1f77b4;stroke:#1f77b4;\" x=\"78.193981\" xlink:href=\"#me06bdb908f\" y=\"39.099577\"/>\r\n",
       "     <use style=\"fill:#1f77b4;stroke:#1f77b4;\" x=\"138.873472\" xlink:href=\"#me06bdb908f\" y=\"79.52907\"/>\r\n",
       "     <use style=\"fill:#1f77b4;stroke:#1f77b4;\" x=\"153.341899\" xlink:href=\"#me06bdb908f\" y=\"101.179307\"/>\r\n",
       "     <use style=\"fill:#1f77b4;stroke:#1f77b4;\" x=\"190.0147\" xlink:href=\"#me06bdb908f\" y=\"107.194061\"/>\r\n",
       "     <use style=\"fill:#1f77b4;stroke:#1f77b4;\" x=\"131.640218\" xlink:href=\"#me06bdb908f\" y=\"77.970635\"/>\r\n",
       "     <use style=\"fill:#1f77b4;stroke:#1f77b4;\" x=\"135.54304\" xlink:href=\"#me06bdb908f\" y=\"72.128909\"/>\r\n",
       "    </g>\r\n",
       "   </g>\r\n",
       "   <g id=\"matplotlib.axis_1\">\r\n",
       "    <g id=\"xtick_1\">\r\n",
       "     <g id=\"line2d_1\">\r\n",
       "      <defs>\r\n",
       "       <path d=\"M 0 0 \r\n",
       "L 0 3.5 \r\n",
       "\" id=\"m44c02e5b19\" style=\"stroke:#000000;stroke-width:0.8;\"/>\r\n",
       "      </defs>\r\n",
       "      <g>\r\n",
       "       <use style=\"stroke:#000000;stroke-width:0.8;\" x=\"73.808367\" xlink:href=\"#m44c02e5b19\" y=\"143.1\"/>\r\n",
       "      </g>\r\n",
       "     </g>\r\n",
       "     <g id=\"text_1\">\r\n",
       "      <!-- −2 -->\r\n",
       "      <defs>\r\n",
       "       <path d=\"M 10.59375 35.5 \r\n",
       "L 73.1875 35.5 \r\n",
       "L 73.1875 27.203125 \r\n",
       "L 10.59375 27.203125 \r\n",
       "z\r\n",
       "\" id=\"DejaVuSans-8722\"/>\r\n",
       "       <path d=\"M 19.1875 8.296875 \r\n",
       "L 53.609375 8.296875 \r\n",
       "L 53.609375 0 \r\n",
       "L 7.328125 0 \r\n",
       "L 7.328125 8.296875 \r\n",
       "Q 12.9375 14.109375 22.625 23.890625 \r\n",
       "Q 32.328125 33.6875 34.8125 36.53125 \r\n",
       "Q 39.546875 41.84375 41.421875 45.53125 \r\n",
       "Q 43.3125 49.21875 43.3125 52.78125 \r\n",
       "Q 43.3125 58.59375 39.234375 62.25 \r\n",
       "Q 35.15625 65.921875 28.609375 65.921875 \r\n",
       "Q 23.96875 65.921875 18.8125 64.3125 \r\n",
       "Q 13.671875 62.703125 7.8125 59.421875 \r\n",
       "L 7.8125 69.390625 \r\n",
       "Q 13.765625 71.78125 18.9375 73 \r\n",
       "Q 24.125 74.21875 28.421875 74.21875 \r\n",
       "Q 39.75 74.21875 46.484375 68.546875 \r\n",
       "Q 53.21875 62.890625 53.21875 53.421875 \r\n",
       "Q 53.21875 48.921875 51.53125 44.890625 \r\n",
       "Q 49.859375 40.875 45.40625 35.40625 \r\n",
       "Q 44.1875 33.984375 37.640625 27.21875 \r\n",
       "Q 31.109375 20.453125 19.1875 8.296875 \r\n",
       "z\r\n",
       "\" id=\"DejaVuSans-50\"/>\r\n",
       "      </defs>\r\n",
       "      <g transform=\"translate(66.437273 157.698438)scale(0.1 -0.1)\">\r\n",
       "       <use xlink:href=\"#DejaVuSans-8722\"/>\r\n",
       "       <use x=\"83.789062\" xlink:href=\"#DejaVuSans-50\"/>\r\n",
       "      </g>\r\n",
       "     </g>\r\n",
       "    </g>\r\n",
       "    <g id=\"xtick_2\">\r\n",
       "     <g id=\"line2d_2\">\r\n",
       "      <g>\r\n",
       "       <use style=\"stroke:#000000;stroke-width:0.8;\" x=\"127.404477\" xlink:href=\"#m44c02e5b19\" y=\"143.1\"/>\r\n",
       "      </g>\r\n",
       "     </g>\r\n",
       "     <g id=\"text_2\">\r\n",
       "      <!-- 0 -->\r\n",
       "      <defs>\r\n",
       "       <path d=\"M 31.78125 66.40625 \r\n",
       "Q 24.171875 66.40625 20.328125 58.90625 \r\n",
       "Q 16.5 51.421875 16.5 36.375 \r\n",
       "Q 16.5 21.390625 20.328125 13.890625 \r\n",
       "Q 24.171875 6.390625 31.78125 6.390625 \r\n",
       "Q 39.453125 6.390625 43.28125 13.890625 \r\n",
       "Q 47.125 21.390625 47.125 36.375 \r\n",
       "Q 47.125 51.421875 43.28125 58.90625 \r\n",
       "Q 39.453125 66.40625 31.78125 66.40625 \r\n",
       "z\r\n",
       "M 31.78125 74.21875 \r\n",
       "Q 44.046875 74.21875 50.515625 64.515625 \r\n",
       "Q 56.984375 54.828125 56.984375 36.375 \r\n",
       "Q 56.984375 17.96875 50.515625 8.265625 \r\n",
       "Q 44.046875 -1.421875 31.78125 -1.421875 \r\n",
       "Q 19.53125 -1.421875 13.0625 8.265625 \r\n",
       "Q 6.59375 17.96875 6.59375 36.375 \r\n",
       "Q 6.59375 54.828125 13.0625 64.515625 \r\n",
       "Q 19.53125 74.21875 31.78125 74.21875 \r\n",
       "z\r\n",
       "\" id=\"DejaVuSans-48\"/>\r\n",
       "      </defs>\r\n",
       "      <g transform=\"translate(124.223227 157.698438)scale(0.1 -0.1)\">\r\n",
       "       <use xlink:href=\"#DejaVuSans-48\"/>\r\n",
       "      </g>\r\n",
       "     </g>\r\n",
       "    </g>\r\n",
       "    <g id=\"xtick_3\">\r\n",
       "     <g id=\"line2d_3\">\r\n",
       "      <g>\r\n",
       "       <use style=\"stroke:#000000;stroke-width:0.8;\" x=\"181.000587\" xlink:href=\"#m44c02e5b19\" y=\"143.1\"/>\r\n",
       "      </g>\r\n",
       "     </g>\r\n",
       "     <g id=\"text_3\">\r\n",
       "      <!-- 2 -->\r\n",
       "      <g transform=\"translate(177.819337 157.698438)scale(0.1 -0.1)\">\r\n",
       "       <use xlink:href=\"#DejaVuSans-50\"/>\r\n",
       "      </g>\r\n",
       "     </g>\r\n",
       "    </g>\r\n",
       "   </g>\r\n",
       "   <g id=\"matplotlib.axis_2\">\r\n",
       "    <g id=\"ytick_1\">\r\n",
       "     <g id=\"line2d_4\">\r\n",
       "      <defs>\r\n",
       "       <path d=\"M 0 0 \r\n",
       "L -3.5 0 \r\n",
       "\" id=\"mee1cb7cbd6\" style=\"stroke:#000000;stroke-width:0.8;\"/>\r\n",
       "      </defs>\r\n",
       "      <g>\r\n",
       "       <use style=\"stroke:#000000;stroke-width:0.8;\" x=\"35.304688\" xlink:href=\"#mee1cb7cbd6\" y=\"136.146791\"/>\r\n",
       "      </g>\r\n",
       "     </g>\r\n",
       "     <g id=\"text_4\">\r\n",
       "      <!-- −10 -->\r\n",
       "      <defs>\r\n",
       "       <path d=\"M 12.40625 8.296875 \r\n",
       "L 28.515625 8.296875 \r\n",
       "L 28.515625 63.921875 \r\n",
       "L 10.984375 60.40625 \r\n",
       "L 10.984375 69.390625 \r\n",
       "L 28.421875 72.90625 \r\n",
       "L 38.28125 72.90625 \r\n",
       "L 38.28125 8.296875 \r\n",
       "L 54.390625 8.296875 \r\n",
       "L 54.390625 0 \r\n",
       "L 12.40625 0 \r\n",
       "z\r\n",
       "\" id=\"DejaVuSans-49\"/>\r\n",
       "      </defs>\r\n",
       "      <g transform=\"translate(7.2 139.94601)scale(0.1 -0.1)\">\r\n",
       "       <use xlink:href=\"#DejaVuSans-8722\"/>\r\n",
       "       <use x=\"83.789062\" xlink:href=\"#DejaVuSans-49\"/>\r\n",
       "       <use x=\"147.412109\" xlink:href=\"#DejaVuSans-48\"/>\r\n",
       "      </g>\r\n",
       "     </g>\r\n",
       "    </g>\r\n",
       "    <g id=\"ytick_2\">\r\n",
       "     <g id=\"line2d_5\">\r\n",
       "      <g>\r\n",
       "       <use style=\"stroke:#000000;stroke-width:0.8;\" x=\"35.304688\" xlink:href=\"#mee1cb7cbd6\" y=\"93.03975\"/>\r\n",
       "      </g>\r\n",
       "     </g>\r\n",
       "     <g id=\"text_5\">\r\n",
       "      <!-- 0 -->\r\n",
       "      <g transform=\"translate(21.942187 96.838968)scale(0.1 -0.1)\">\r\n",
       "       <use xlink:href=\"#DejaVuSans-48\"/>\r\n",
       "      </g>\r\n",
       "     </g>\r\n",
       "    </g>\r\n",
       "    <g id=\"ytick_3\">\r\n",
       "     <g id=\"line2d_6\">\r\n",
       "      <g>\r\n",
       "       <use style=\"stroke:#000000;stroke-width:0.8;\" x=\"35.304688\" xlink:href=\"#mee1cb7cbd6\" y=\"49.932708\"/>\r\n",
       "      </g>\r\n",
       "     </g>\r\n",
       "     <g id=\"text_6\">\r\n",
       "      <!-- 10 -->\r\n",
       "      <g transform=\"translate(15.579687 53.731927)scale(0.1 -0.1)\">\r\n",
       "       <use xlink:href=\"#DejaVuSans-49\"/>\r\n",
       "       <use x=\"63.623047\" xlink:href=\"#DejaVuSans-48\"/>\r\n",
       "      </g>\r\n",
       "     </g>\r\n",
       "    </g>\r\n",
       "   </g>\r\n",
       "   <g id=\"patch_3\">\r\n",
       "    <path d=\"M 35.304688 143.1 \r\n",
       "L 35.304688 7.2 \r\n",
       "\" style=\"fill:none;stroke:#000000;stroke-linecap:square;stroke-linejoin:miter;stroke-width:0.8;\"/>\r\n",
       "   </g>\r\n",
       "   <g id=\"patch_4\">\r\n",
       "    <path d=\"M 230.604688 143.1 \r\n",
       "L 230.604688 7.2 \r\n",
       "\" style=\"fill:none;stroke:#000000;stroke-linecap:square;stroke-linejoin:miter;stroke-width:0.8;\"/>\r\n",
       "   </g>\r\n",
       "   <g id=\"patch_5\">\r\n",
       "    <path d=\"M 35.304688 143.1 \r\n",
       "L 230.604688 143.1 \r\n",
       "\" style=\"fill:none;stroke:#000000;stroke-linecap:square;stroke-linejoin:miter;stroke-width:0.8;\"/>\r\n",
       "   </g>\r\n",
       "   <g id=\"patch_6\">\r\n",
       "    <path d=\"M 35.304688 7.2 \r\n",
       "L 230.604688 7.2 \r\n",
       "\" style=\"fill:none;stroke:#000000;stroke-linecap:square;stroke-linejoin:miter;stroke-width:0.8;\"/>\r\n",
       "   </g>\r\n",
       "  </g>\r\n",
       " </g>\r\n",
       " <defs>\r\n",
       "  <clipPath id=\"p70081f8a70\">\r\n",
       "   <rect height=\"135.9\" width=\"195.3\" x=\"35.304688\" y=\"7.2\"/>\r\n",
       "  </clipPath>\r\n",
       " </defs>\r\n",
       "</svg>\r\n"
      ],
      "text/plain": [
       "<Figure size 252x180 with 1 Axes>"
      ]
     },
     "metadata": {
      "needs_background": "light"
     },
     "output_type": "display_data"
    }
   ],
   "source": [
    "def use_svg_display():\n",
    "    # 用矢量图显示\n",
    "    display.set_matplotlib_formats('svg')\n",
    "\n",
    "def set_figsize(figsize=(3.5, 2.5)):\n",
    "    use_svg_display()\n",
    "    # 设置图的尺寸\n",
    "    plt.rcParams['figure.figsize'] = figsize\n",
    "\n",
    "set_figsize()\n",
    "plt.scatter(features[:, 1].numpy(), labels.numpy(), 1);"
   ]
  },
  {
   "cell_type": "code",
   "execution_count": 39,
   "metadata": {
    "pycharm": {
     "is_executing": false
    }
   },
   "outputs": [
    {
     "name": "stdout",
     "output_type": "stream",
     "text": [
      "tensor([[-2.2541e+00,  6.6090e-01],\n",
      "        [ 1.2651e-03, -6.5755e-02],\n",
      "        [-1.6557e+00, -2.0145e-01],\n",
      "        [ 1.1230e+00, -4.0486e-01],\n",
      "        [ 1.3037e+00,  7.2524e-01],\n",
      "        [ 3.4690e-01, -6.8997e-01],\n",
      "        [-2.1016e+00, -2.3627e-01],\n",
      "        [ 1.4993e+00,  1.5172e+00],\n",
      "        [-1.9430e+00,  1.5344e-01],\n",
      "        [ 8.5794e-01,  4.9475e-01]])\n",
      "tensor([-2.2716,  5.2705,  2.5379,  8.9372,  4.5671,  8.5895,  1.7891,  1.6285,\n",
      "         0.4636,  4.6197])\n"
     ]
    }
   ],
   "source": [
    "# 我们并不需要一次性提取所有数据，可以一次取几个\n",
    "def data_iter(batch_size, features, labels):\n",
    "    num_examples = len(features)\n",
    "    indices = list(range(num_examples))\n",
    "    random.shuffle(indices)  # 样本的读取顺序是随机的\n",
    "    for i in range(0, num_examples, batch_size):\n",
    "        j = torch.LongTensor(indices[i: min(i + batch_size, num_examples)]) # 最后一次可能不足一个batch\n",
    "        yield  features.index_select(0, j), labels.index_select(0, j)\n",
    "# 测试一下\n",
    "batch_size = 10\n",
    "for X, y in data_iter(batch_size, features, labels):\n",
    "    print(X)\n",
    "    print(y)\n",
    "    break"
   ]
  },
  {
   "cell_type": "code",
   "execution_count": 40,
   "metadata": {
    "pycharm": {
     "is_executing": false
    }
   },
   "outputs": [],
   "source": [
    "# 模型初始化\n",
    "w = torch.tensor(np.random.normal(0, 0.01, (num_inputs, 1)), dtype=torch.float32, requires_grad=True)\n",
    "b = torch.zeros(1, dtype=torch.float32, requires_grad=True)"
   ]
  },
  {
   "cell_type": "code",
   "execution_count": 41,
   "metadata": {
    "pycharm": {
     "is_executing": false
    }
   },
   "outputs": [],
   "source": [
    "# 定义模型函数\n",
    "def linreg(X, w, b):\n",
    "    return torch.mm(X, w) + b"
   ]
  },
  {
   "cell_type": "code",
   "execution_count": 42,
   "metadata": {
    "pycharm": {
     "is_executing": false
    }
   },
   "outputs": [],
   "source": [
    "# 定义损失函数\n",
    "def squared_loss(y_hat, y):\n",
    "    # 注意这里返回的是向量, 另外, pytorch里的MSELoss（均方误差）并没有除以 2\n",
    "    return (y_hat - y.view(y_hat.size())) ** 2 / 2"
   ]
  },
  {
   "cell_type": "code",
   "execution_count": 43,
   "metadata": {
    "pycharm": {
     "is_executing": false
    }
   },
   "outputs": [],
   "source": [
    "# 定义优化算法\n",
    "def sgd(params, lr, batch_size):\n",
    "    for param in params:\n",
    "        param.data -= lr * param.grad / batch_size # 注意这里更改param时用的param.data"
   ]
  },
  {
   "cell_type": "code",
   "execution_count": 44,
   "metadata": {
    "pycharm": {
     "is_executing": false
    }
   },
   "outputs": [
    {
     "name": "stdout",
     "output_type": "stream",
     "text": [
      "epoch 1, loss 0.046669\n",
      "epoch 2, loss 0.000147\n",
      "epoch 3, loss 0.000055\n",
      "epoch 4, loss 0.000055\n",
      "epoch 5, loss 0.000055\n"
     ]
    }
   ],
   "source": [
    "lr = 0.03\n",
    "num_epochs = 5\n",
    "net = linreg\n",
    "loss = squared_loss\n",
    "\n",
    "for epoch in range(num_epochs):  # 训练模型一共需要num_epochs个迭代周期\n",
    "    # 在每一个迭代周期中，会使用训练数据集中所有样本一次（假设样本数能够被批量大小整除）。\n",
    "    # X和y分别是小批量样本的特征和标签\n",
    "    for X, y in data_iter(batch_size, features, labels):\n",
    "        l = loss(net(X, w, b), y).sum()  # l是有关小批量X和y的损失\n",
    "        l.backward()  # 小批量的损失对模型参数求梯度\n",
    "        sgd([w, b], lr, batch_size)  # 使用小批量随机梯度下降迭代模型参数\n",
    "\n",
    "        # 不要忘了梯度清零\n",
    "        w.grad.data.zero_()\n",
    "        b.grad.data.zero_()\n",
    "    train_l = loss(net(features, w, b), labels)\n",
    "    print('epoch %d, loss %f' % (epoch + 1, train_l.mean().item()))"
   ]
  },
  {
   "cell_type": "code",
   "execution_count": 45,
   "metadata": {
    "pycharm": {
     "is_executing": false
    }
   },
   "outputs": [
    {
     "name": "stdout",
     "output_type": "stream",
     "text": [
      "[2, -4.2] \n",
      " tensor([[ 2.0003],\n",
      "        [-4.1997]], requires_grad=True)\n",
      "5 \n",
      " tensor([5.0001], requires_grad=True)\n"
     ]
    }
   ],
   "source": [
    "# 对比一下真实的W和训练出的w\n",
    "print(true_w, '\\n', w)\n",
    "print(true_b, '\\n', b)"
   ]
  },
  {
   "cell_type": "code",
   "execution_count": null,
   "metadata": {},
   "outputs": [],
   "source": []
  }
 ],
 "metadata": {
  "kernelspec": {
   "display_name": "Python 3",
   "language": "python",
   "name": "python3"
  },
  "language_info": {
   "codemirror_mode": {
    "name": "ipython",
    "version": 3
   },
   "file_extension": ".py",
   "mimetype": "text/x-python",
   "name": "python",
   "nbconvert_exporter": "python",
   "pygments_lexer": "ipython3",
   "version": "3.7.4"
  }
 },
 "nbformat": 4,
 "nbformat_minor": 4
}
